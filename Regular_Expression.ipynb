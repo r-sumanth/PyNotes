{
 "cells": [
  {
   "cell_type": "code",
   "execution_count": 1,
   "id": "8cfc6633-bf49-48b7-adec-d4c8dce49bf3",
   "metadata": {},
   "outputs": [
    {
     "data": {
      "text/plain": [
       "True"
      ]
     },
     "execution_count": 1,
     "metadata": {},
     "output_type": "execute_result"
    }
   ],
   "source": [
    "data='This is a sample data for practicing regex'\n",
    "'sample' in data"
   ]
  },
  {
   "cell_type": "code",
   "execution_count": 2,
   "id": "6b72ae8d-1fee-463f-ab94-8cbb4a02eaf6",
   "metadata": {},
   "outputs": [],
   "source": [
    "import re"
   ]
  },
  {
   "cell_type": "code",
   "execution_count": 5,
   "id": "cd9ec3e1-60a7-47ec-9163-6e7887975fde",
   "metadata": {},
   "outputs": [
    {
     "data": {
      "text/plain": [
       "<re.Match object; span=(10, 16), match='sample'>"
      ]
     },
     "execution_count": 5,
     "metadata": {},
     "output_type": "execute_result"
    }
   ],
   "source": [
    "result=re.search('sample',data)\n",
    "result"
   ]
  },
  {
   "cell_type": "code",
   "execution_count": 6,
   "id": "6ba6e0ae-f380-4472-b807-41af81c45ea5",
   "metadata": {},
   "outputs": [
    {
     "data": {
      "text/plain": [
       "(10, 16)"
      ]
     },
     "execution_count": 6,
     "metadata": {},
     "output_type": "execute_result"
    }
   ],
   "source": [
    "result.span()"
   ]
  },
  {
   "cell_type": "code",
   "execution_count": 16,
   "id": "77754194-1291-477d-b75e-c5e3b8d7c482",
   "metadata": {},
   "outputs": [
    {
     "data": {
      "text/plain": [
       "['sample', 'sample']"
      ]
     },
     "execution_count": 16,
     "metadata": {},
     "output_type": "execute_result"
    }
   ],
   "source": [
    "data='This is a sample data to for finding sample in the data'\n",
    "result=re.findall('sample',data)\n",
    "result"
   ]
  },
  {
   "cell_type": "code",
   "execution_count": 12,
   "id": "edcc9a25-6114-43cf-af69-a256f1243198",
   "metadata": {},
   "outputs": [
    {
     "name": "stdout",
     "output_type": "stream",
     "text": [
      "<re.Match object; span=(10, 16), match='sample'>\n",
      "<re.Match object; span=(37, 43), match='sample'>\n"
     ]
    }
   ],
   "source": [
    "for occur in re.finditer('sample',data):\n",
    "    print(occur)"
   ]
  },
  {
   "cell_type": "code",
   "execution_count": 18,
   "id": "4d685c0c-92c7-4265-9ce0-93bf5058a765",
   "metadata": {},
   "outputs": [],
   "source": [
    "out=\"OTP has been sent to (+91)8792030385\""
   ]
  },
  {
   "cell_type": "code",
   "execution_count": 28,
   "id": "18b6ccbc-92d7-44e8-81a9-b1a75e5aa64a",
   "metadata": {},
   "outputs": [
    {
     "data": {
      "text/plain": [
       "<re.Match object; span=(21, 36), match='(+91)8792030385'>"
      ]
     },
     "execution_count": 28,
     "metadata": {},
     "output_type": "execute_result"
    }
   ],
   "source": [
    "result=re.search(r\"\\W{2}\\d{2}\\W\\d{10}\",out)\n",
    "result"
   ]
  },
  {
   "cell_type": "code",
   "execution_count": 29,
   "id": "b7046780-00c0-4b68-aaa6-6c0f9d860af0",
   "metadata": {},
   "outputs": [
    {
     "data": {
      "text/plain": [
       "'(+91)8792030385'"
      ]
     },
     "execution_count": 29,
     "metadata": {},
     "output_type": "execute_result"
    }
   ],
   "source": [
    "result.group()"
   ]
  },
  {
   "cell_type": "code",
   "execution_count": 32,
   "id": "f3c789a7-16fe-4ae0-82be-9a8f97e612d1",
   "metadata": {},
   "outputs": [
    {
     "data": {
      "text/plain": [
       "<re.Match object; span=(22, 25), match='+91'>"
      ]
     },
     "execution_count": 32,
     "metadata": {},
     "output_type": "execute_result"
    }
   ],
   "source": [
    "country_code=re.search('\\W\\d{2}',out)\n",
    "country_code"
   ]
  },
  {
   "cell_type": "code",
   "execution_count": 33,
   "id": "0c339067-bd92-4929-947c-0b006f4f22b2",
   "metadata": {},
   "outputs": [
    {
     "data": {
      "text/plain": [
       "'+91'"
      ]
     },
     "execution_count": 33,
     "metadata": {},
     "output_type": "execute_result"
    }
   ],
   "source": [
    "country_code.group()"
   ]
  },
  {
   "cell_type": "code",
   "execution_count": 43,
   "id": "a254eab6-59ad-43d6-8379-3768e73319ee",
   "metadata": {},
   "outputs": [],
   "source": [
    "phone_syntax=re.compile('(\\W{2}\\d{2}\\W)(\\d{10})')"
   ]
  },
  {
   "cell_type": "code",
   "execution_count": 44,
   "id": "5ba83bef-7b2b-45c2-8e34-767c7659999d",
   "metadata": {},
   "outputs": [
    {
     "data": {
      "text/plain": [
       "<re.Match object; span=(21, 36), match='(+91)8792030385'>"
      ]
     },
     "execution_count": 44,
     "metadata": {},
     "output_type": "execute_result"
    }
   ],
   "source": [
    "phone_num=re.search(phone_syntax,out)\n",
    "phone_num"
   ]
  },
  {
   "cell_type": "code",
   "execution_count": 45,
   "id": "fa6d3c9f-c93e-4e41-9811-93dac1a7470f",
   "metadata": {},
   "outputs": [
    {
     "data": {
      "text/plain": [
       "'(+91)8792030385'"
      ]
     },
     "execution_count": 45,
     "metadata": {},
     "output_type": "execute_result"
    }
   ],
   "source": [
    "phone_num.group()"
   ]
  },
  {
   "cell_type": "code",
   "execution_count": 46,
   "id": "b9dee05b-87f7-4611-88db-88c43ec481b7",
   "metadata": {},
   "outputs": [
    {
     "data": {
      "text/plain": [
       "'(+91)'"
      ]
     },
     "execution_count": 46,
     "metadata": {},
     "output_type": "execute_result"
    }
   ],
   "source": [
    "country_code=phone_num.group(1)\n",
    "country_code"
   ]
  },
  {
   "cell_type": "code",
   "execution_count": 48,
   "id": "930fcb41-163f-45e4-9e1d-12187314a7b1",
   "metadata": {},
   "outputs": [
    {
     "data": {
      "text/plain": [
       "'8792030385'"
      ]
     },
     "execution_count": 48,
     "metadata": {},
     "output_type": "execute_result"
    }
   ],
   "source": [
    "number=phone_num.group(2)\n",
    "number"
   ]
  },
  {
   "cell_type": "code",
   "execution_count": 52,
   "id": "0feb918d-5253-43b1-8ab5-5e3bf17ad655",
   "metadata": {},
   "outputs": [
    {
     "data": {
      "text/plain": [
       "<re.Match object; span=(20, 36), match=' (+91)8792030385'>"
      ]
     },
     "execution_count": 52,
     "metadata": {},
     "output_type": "execute_result"
    }
   ],
   "source": [
    "# '+' indicates the character occurs once or more\n",
    "phone_syntx=re.compile('(\\W+\\d+\\W)(\\d+)')\n",
    "num=re.search(phone_syntx,out)\n",
    "num"
   ]
  },
  {
   "cell_type": "code",
   "execution_count": 55,
   "id": "895e71d0-064f-4ba7-a7d7-dd3d786448cc",
   "metadata": {},
   "outputs": [
    {
     "data": {
      "text/plain": [
       "['Train', 'Bus']"
      ]
     },
     "execution_count": 55,
     "metadata": {},
     "output_type": "execute_result"
    }
   ],
   "source": [
    "#using or logic\n",
    "data='Train journey are better than Bus journey'\n",
    "re.findall(r'Train|Bus',data)"
   ]
  },
  {
   "cell_type": "code",
   "execution_count": 56,
   "id": "b10e020e-1c9b-4111-a6a3-c0f468fd7e15",
   "metadata": {},
   "outputs": [
    {
     "data": {
      "text/plain": [
       "['Seetha', 'Geetha', 'hwetha']"
      ]
     },
     "execution_count": 56,
     "metadata": {},
     "output_type": "execute_result"
    }
   ],
   "source": [
    "# using '.' as wild character for occurance \n",
    "text='Seetha, Geetha, Shwetha'\n",
    "re.findall(r'...tha',text)"
   ]
  },
  {
   "cell_type": "code",
   "execution_count": 65,
   "id": "0a243ff7-2ff4-418d-aabb-45ff847fb5c8",
   "metadata": {},
   "outputs": [
    {
     "data": {
      "text/plain": [
       "['3']"
      ]
     },
     "execution_count": 65,
     "metadata": {},
     "output_type": "execute_result"
    }
   ],
   "source": [
    "# sentance starts with number\n",
    "data='3 is the month number'\n",
    "re.findall(r'^\\d',data)"
   ]
  },
  {
   "cell_type": "code",
   "execution_count": 58,
   "id": "59db2019-01c3-4b5f-80bc-011a46700f49",
   "metadata": {},
   "outputs": [
    {
     "data": {
      "text/plain": [
       "[]"
      ]
     },
     "execution_count": 58,
     "metadata": {},
     "output_type": "execute_result"
    }
   ],
   "source": [
    "re.findall(r'^\\d','Is 3 the month number')"
   ]
  },
  {
   "cell_type": "code",
   "execution_count": 59,
   "id": "076cc43b-a525-418e-9843-349fc26ecd0b",
   "metadata": {},
   "outputs": [
    {
     "data": {
      "text/plain": [
       "['3']"
      ]
     },
     "execution_count": 59,
     "metadata": {},
     "output_type": "execute_result"
    }
   ],
   "source": [
    "# sentance ends with number\n",
    "re.findall(r'\\d$','Month number is 3')"
   ]
  },
  {
   "cell_type": "code",
   "execution_count": 60,
   "id": "d5fa8bf3-2318-4259-98cf-de7371f12002",
   "metadata": {},
   "outputs": [
    {
     "data": {
      "text/plain": [
       "['r',\n",
       " 'a',\n",
       " 'n',\n",
       " 'd',\n",
       " 'o',\n",
       " 'm',\n",
       " 'l',\n",
       " 'y',\n",
       " ' ',\n",
       " ' ',\n",
       " 'p',\n",
       " 'l',\n",
       " 'a',\n",
       " 'c',\n",
       " 'i',\n",
       " 'n',\n",
       " 'g',\n",
       " ' ',\n",
       " ' ',\n",
       " 'n',\n",
       " 'u',\n",
       " 'm',\n",
       " 'b',\n",
       " 'e',\n",
       " 'r',\n",
       " 's',\n",
       " ' ',\n",
       " ' ',\n",
       " 'f',\n",
       " 'o',\n",
       " 'r',\n",
       " ' ',\n",
       " 'p',\n",
       " 'r',\n",
       " 'a',\n",
       " 'c',\n",
       " 't',\n",
       " 'i',\n",
       " 'c',\n",
       " 'e']"
      ]
     },
     "execution_count": 60,
     "metadata": {},
     "output_type": "execute_result"
    }
   ],
   "source": [
    "# exclude all occurance of number\n",
    "re.findall(r'[^\\d]','randomly 3 placing 5 numbers 78 for practice')"
   ]
  },
  {
   "cell_type": "code",
   "execution_count": 61,
   "id": "393984d0-eef8-47e7-9ef2-c712f956f9f4",
   "metadata": {},
   "outputs": [
    {
     "data": {
      "text/plain": [
       "['randomly ', ' placing ', ' numbers ', ' for practice']"
      ]
     },
     "execution_count": 61,
     "metadata": {},
     "output_type": "execute_result"
    }
   ],
   "source": [
    "re.findall(r'[^\\d]+','randomly 3 placing 5 numbers 89 for practice')"
   ]
  },
  {
   "cell_type": "code",
   "execution_count": 63,
   "id": "93903bb8-ce38-4f55-a27d-032329bbac98",
   "metadata": {},
   "outputs": [
    {
     "data": {
      "text/plain": [
       "['Trying',\n",
       " 'to',\n",
       " 'remove',\n",
       " 'punctiations',\n",
       " 'hope',\n",
       " 'this',\n",
       " 'works',\n",
       " 'let',\n",
       " 's',\n",
       " 'try',\n",
       " 'and',\n",
       " 'get',\n",
       " 'rid',\n",
       " 'of',\n",
       " 'it']"
      ]
     },
     "execution_count": 63,
     "metadata": {},
     "output_type": "execute_result"
    }
   ],
   "source": [
    "re.findall(r'[^\\W]+',\"Trying to remove punctiations, hope this works! let's try and get rid of it.\")"
   ]
  },
  {
   "cell_type": "code",
   "execution_count": 64,
   "id": "8941c375-0613-4b91-a9b3-c4841ebd371e",
   "metadata": {},
   "outputs": [
    {
     "data": {
      "text/plain": [
       "'Trying to remove punctiations hope this works let s try and get rid of it'"
      ]
     },
     "execution_count": 64,
     "metadata": {},
     "output_type": "execute_result"
    }
   ],
   "source": [
    "' '.join(re.findall(r'[^\\W]+',\"Trying to remove punctiations, hope this works! let's try and get rid of it.\"))"
   ]
  },
  {
   "cell_type": "code",
   "execution_count": 71,
   "id": "e7acc064-9959-4e1c-9eed-434f89a3b74e",
   "metadata": {},
   "outputs": [
    {
     "data": {
      "text/plain": [
       "['See', 'Shwe']"
      ]
     },
     "execution_count": 71,
     "metadata": {},
     "output_type": "execute_result"
    }
   ],
   "source": [
    "# multiple occurance with some common characters\n",
    "re.findall(r'(See|Shwe)tha','Seetha, Geetha, Shwetha and other names')"
   ]
  },
  {
   "cell_type": "code",
   "execution_count": 76,
   "id": "e38c4e02-2e5e-497f-a393-64111664448d",
   "metadata": {},
   "outputs": [
    {
     "name": "stdout",
     "output_type": "stream",
     "text": [
      "<re.Match object; span=(0, 6), match='Seetha'>\n",
      "<re.Match object; span=(16, 23), match='Shwetha'>\n"
     ]
    }
   ],
   "source": [
    "for occur in re.finditer(r'(See|Shwe)tha','Seetha, Geetha, Shwetha and other names'):\n",
    "    print(occur)"
   ]
  },
  {
   "cell_type": "code",
   "execution_count": 75,
   "id": "e092e819-a47b-48b4-97ac-63b4ea4441d6",
   "metadata": {},
   "outputs": [
    {
     "name": "stdout",
     "output_type": "stream",
     "text": [
      "<re.Match object; span=(15, 22), match='bowling'>\n",
      "<re.Match object; span=(33, 39), match='bowled'>\n"
     ]
    }
   ],
   "source": [
    "text='With his great bowling spell, he bowled the batsman'\n",
    "for occur in re.finditer(r'bowl(ing|ed)',text):\n",
    "    print(occur)"
   ]
  },
  {
   "cell_type": "markdown",
   "id": "275b8f59-cf2d-468e-b56d-59e93ef2b443",
   "metadata": {},
   "source": [
    "___"
   ]
  },
  {
   "cell_type": "code",
   "execution_count": null,
   "id": "d6b0b6a0-01de-4805-bcc5-cec4d10b973c",
   "metadata": {},
   "outputs": [],
   "source": []
  }
 ],
 "metadata": {
  "kernelspec": {
   "display_name": "Python 3 (ipykernel)",
   "language": "python",
   "name": "python3"
  },
  "language_info": {
   "codemirror_mode": {
    "name": "ipython",
    "version": 3
   },
   "file_extension": ".py",
   "mimetype": "text/x-python",
   "name": "python",
   "nbconvert_exporter": "python",
   "pygments_lexer": "ipython3",
   "version": "3.11.7"
  }
 },
 "nbformat": 4,
 "nbformat_minor": 5
}
