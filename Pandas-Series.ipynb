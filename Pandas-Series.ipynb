{
 "cells": [
  {
   "cell_type": "markdown",
   "id": "d95e1729",
   "metadata": {},
   "source": [
    "Series is a data structure of pandas that holds an array of data with named index; \n",
    "One Dimensional array with axis labels and aslo numerically organized"
   ]
  },
  {
   "cell_type": "code",
   "execution_count": 1,
   "id": "ce52576b",
   "metadata": {},
   "outputs": [],
   "source": [
    "import pandas as pd"
   ]
  },
  {
   "cell_type": "code",
   "execution_count": 2,
   "id": "256a1d04",
   "metadata": {},
   "outputs": [
    {
     "data": {
      "text/plain": [
       "Maharastra       32.24\n",
       "Tamil Nadu       20.91\n",
       "Gujarat          18.85\n",
       "Karnataka        18.05\n",
       "Uttar Pradesh    17.91\n",
       "dtype: float64"
      ]
     },
     "execution_count": 2,
     "metadata": {},
     "output_type": "execute_result"
    }
   ],
   "source": [
    "indx=['Maharastra','Tamil Nadu','Gujarat','Karnataka','Uttar Pradesh']\n",
    "gdp_inr=[32.24,20.91,18.85,18.05,17.91]\n",
    "state_gdp_inr=pd.Series(data=gdp_inr,index=indx)\n",
    "state_gdp_inr"
   ]
  },
  {
   "cell_type": "code",
   "execution_count": 3,
   "id": "c2b1a2ad",
   "metadata": {},
   "outputs": [
    {
     "data": {
      "text/plain": [
       "18.05"
      ]
     },
     "execution_count": 3,
     "metadata": {},
     "output_type": "execute_result"
    }
   ],
   "source": [
    "state_gdp_inr['Karnataka']"
   ]
  },
  {
   "cell_type": "code",
   "execution_count": 4,
   "id": "0a6421c3",
   "metadata": {},
   "outputs": [
    {
     "name": "stderr",
     "output_type": "stream",
     "text": [
      "/var/folders/l8/_b6fjjrx2bd3sc4gf4vqf0vc0000gp/T/ipykernel_55690/138027023.py:1: FutureWarning: Series.__getitem__ treating keys as positions is deprecated. In a future version, integer keys will always be treated as labels (consistent with DataFrame behavior). To access a value by position, use `ser.iloc[pos]`\n",
      "  state_gdp_inr[3]\n"
     ]
    },
    {
     "data": {
      "text/plain": [
       "18.05"
      ]
     },
     "execution_count": 4,
     "metadata": {},
     "output_type": "execute_result"
    }
   ],
   "source": [
    "state_gdp_inr[3]"
   ]
  },
  {
   "cell_type": "code",
   "execution_count": 9,
   "id": "aaf67fda",
   "metadata": {},
   "outputs": [
    {
     "data": {
      "text/plain": [
       "Tom       5\n",
       "Jerry     3\n",
       "Spike    10\n",
       "dtype: int64"
      ]
     },
     "execution_count": 9,
     "metadata": {},
     "output_type": "execute_result"
    }
   ],
   "source": [
    "ages = {'Tom':5,'Jerry':3,'Spike':10}\n",
    "age_series = pd.Series(ages)\n",
    "age_series"
   ]
  },
  {
   "cell_type": "code",
   "execution_count": 10,
   "id": "7063b8ca",
   "metadata": {},
   "outputs": [
    {
     "data": {
      "text/plain": [
       "Index(['Tom', 'Jerry', 'Spike'], dtype='object')"
      ]
     },
     "execution_count": 10,
     "metadata": {},
     "output_type": "execute_result"
    }
   ],
   "source": [
    "age_series.keys()"
   ]
  },
  {
   "cell_type": "code",
   "execution_count": 7,
   "id": "401b0a38",
   "metadata": {},
   "outputs": [
    {
     "data": {
      "text/plain": [
       "Index(['Maharastra', 'Tamil Nadu', 'Gujarat', 'Karnataka', 'Uttar Pradesh'], dtype='object')"
      ]
     },
     "execution_count": 7,
     "metadata": {},
     "output_type": "execute_result"
    }
   ],
   "source": [
    "state_gdp_inr.keys()"
   ]
  },
  {
   "cell_type": "markdown",
   "id": "4e16c23b",
   "metadata": {},
   "source": [
    "As pandas is built on Numpy, operations can be broadcasted"
   ]
  },
  {
   "cell_type": "code",
   "execution_count": 12,
   "id": "28a64bfc",
   "metadata": {},
   "outputs": [
    {
     "name": "stdout",
     "output_type": "stream",
     "text": [
      "[32.24, 20.91, 18.85, 18.05, 17.91] \n",
      " <class 'list'>\n"
     ]
    }
   ],
   "source": [
    "print(gdp_inr,'\\n',type(gdp_inr))"
   ]
  },
  {
   "cell_type": "code",
   "execution_count": 15,
   "id": "db629179",
   "metadata": {},
   "outputs": [
    {
     "data": {
      "text/plain": [
       "[32.24,\n",
       " 20.91,\n",
       " 18.85,\n",
       " 18.05,\n",
       " 17.91,\n",
       " 32.24,\n",
       " 20.91,\n",
       " 18.85,\n",
       " 18.05,\n",
       " 17.91,\n",
       " 32.24,\n",
       " 20.91,\n",
       " 18.85,\n",
       " 18.05,\n",
       " 17.91]"
      ]
     },
     "execution_count": 15,
     "metadata": {},
     "output_type": "execute_result"
    }
   ],
   "source": [
    "gdp_inr*3"
   ]
  },
  {
   "cell_type": "code",
   "execution_count": 17,
   "id": "6767c90a",
   "metadata": {},
   "outputs": [
    {
     "data": {
      "text/plain": [
       "Maharastra       32.24\n",
       "Tamil Nadu       20.91\n",
       "Gujarat          18.85\n",
       "Karnataka        18.05\n",
       "Uttar Pradesh    17.91\n",
       "dtype: float64"
      ]
     },
     "execution_count": 17,
     "metadata": {},
     "output_type": "execute_result"
    }
   ],
   "source": [
    "state_gdp_inr"
   ]
  },
  {
   "cell_type": "code",
   "execution_count": 16,
   "id": "233799ef",
   "metadata": {},
   "outputs": [
    {
     "data": {
      "text/plain": [
       "Maharastra       96.72\n",
       "Tamil Nadu       62.73\n",
       "Gujarat          56.55\n",
       "Karnataka        54.15\n",
       "Uttar Pradesh    53.73\n",
       "dtype: float64"
      ]
     },
     "execution_count": 16,
     "metadata": {},
     "output_type": "execute_result"
    }
   ],
   "source": [
    "state_gdp_inr*3"
   ]
  },
  {
   "cell_type": "code",
   "execution_count": 33,
   "id": "93604ef2",
   "metadata": {},
   "outputs": [
    {
     "data": {
      "text/plain": [
       "Maharastra       0.112\n",
       "Uttar Pradesh    0.200\n",
       "Gujarat          0.060\n",
       "Karnataka        0.061\n",
       "West Bengal      0.091\n",
       "dtype: float64"
      ]
     },
     "execution_count": 33,
     "metadata": {},
     "output_type": "execute_result"
    }
   ],
   "source": [
    "population = pd.Series({'Maharastra':0.112,'Uttar Pradesh':0.2,'Gujarat':0.060,'Karnataka':0.061,'West Bengal':0.091})\n",
    "population"
   ]
  },
  {
   "cell_type": "code",
   "execution_count": null,
   "id": "ab717b81",
   "metadata": {},
   "outputs": [],
   "source": [
    "with traditional operators (+,-,*,/), we obtain NaN values when we dont have the same index name name in both \n",
    "so we use series.add/sub/mul/div function and use fill_value parameter to avoid NaN"
   ]
  },
  {
   "cell_type": "code",
   "execution_count": 34,
   "id": "cd899692",
   "metadata": {},
   "outputs": [
    {
     "data": {
      "text/plain": [
       "Gujarat          314.166667\n",
       "Karnataka        295.901639\n",
       "Maharastra       287.857143\n",
       "Tamil Nadu              NaN\n",
       "Uttar Pradesh     89.550000\n",
       "West Bengal             NaN\n",
       "dtype: float64"
      ]
     },
     "execution_count": 34,
     "metadata": {},
     "output_type": "execute_result"
    }
   ],
   "source": [
    "state_gdp_inr/population"
   ]
  },
  {
   "cell_type": "code",
   "execution_count": 35,
   "id": "c7f5dbd0",
   "metadata": {},
   "outputs": [
    {
     "data": {
      "text/plain": [
       "Gujarat          314.166667\n",
       "Karnataka        295.901639\n",
       "Maharastra       287.857143\n",
       "Tamil Nadu              inf\n",
       "Uttar Pradesh     89.550000\n",
       "West Bengal        0.000000\n",
       "dtype: float64"
      ]
     },
     "execution_count": 35,
     "metadata": {},
     "output_type": "execute_result"
    }
   ],
   "source": [
    "state_gdp_inr.div(population,fill_value=0)"
   ]
  },
  {
   "cell_type": "code",
   "execution_count": null,
   "id": "5f159e46",
   "metadata": {},
   "outputs": [],
   "source": [
    "state_gdp_inr.su"
   ]
  },
  {
   "cell_type": "code",
   "execution_count": null,
   "id": "03a297b2",
   "metadata": {},
   "outputs": [],
   "source": []
  }
 ],
 "metadata": {
  "kernelspec": {
   "display_name": "Python 3 (ipykernel)",
   "language": "python",
   "name": "python3"
  },
  "language_info": {
   "codemirror_mode": {
    "name": "ipython",
    "version": 3
   },
   "file_extension": ".py",
   "mimetype": "text/x-python",
   "name": "python",
   "nbconvert_exporter": "python",
   "pygments_lexer": "ipython3",
   "version": "3.11.7"
  }
 },
 "nbformat": 4,
 "nbformat_minor": 5
}
