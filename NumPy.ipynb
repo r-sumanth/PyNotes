{
 "cells": [
  {
   "cell_type": "markdown",
   "id": "b56db6f3",
   "metadata": {},
   "source": [
    "NumPy is a library used for working with n-dimentional arrays"
   ]
  },
  {
   "cell_type": "code",
   "execution_count": 1,
   "id": "558b3126",
   "metadata": {},
   "outputs": [],
   "source": [
    "import numpy as np"
   ]
  },
  {
   "cell_type": "markdown",
   "id": "8f30edb5",
   "metadata": {},
   "source": [
    "### Casting List as Array"
   ]
  },
  {
   "cell_type": "code",
   "execution_count": 2,
   "id": "990452bc",
   "metadata": {},
   "outputs": [],
   "source": [
    "mylist=[1,3,5,7,9]"
   ]
  },
  {
   "cell_type": "code",
   "execution_count": 3,
   "id": "406c88bf",
   "metadata": {},
   "outputs": [],
   "source": [
    "myarr=np.array(mylist)"
   ]
  },
  {
   "cell_type": "code",
   "execution_count": 5,
   "id": "47019698",
   "metadata": {},
   "outputs": [
    {
     "data": {
      "text/plain": [
       "array([1, 3, 5, 7, 9])"
      ]
     },
     "execution_count": 5,
     "metadata": {},
     "output_type": "execute_result"
    }
   ],
   "source": [
    "myarr"
   ]
  },
  {
   "cell_type": "code",
   "execution_count": 6,
   "id": "84d24f36",
   "metadata": {},
   "outputs": [
    {
     "data": {
      "text/plain": [
       "numpy.ndarray"
      ]
     },
     "execution_count": 6,
     "metadata": {},
     "output_type": "execute_result"
    }
   ],
   "source": [
    "type(myarr)"
   ]
  },
  {
   "cell_type": "code",
   "execution_count": 7,
   "id": "57cc530d",
   "metadata": {},
   "outputs": [
    {
     "data": {
      "text/plain": [
       "array([[1, 2, 3],\n",
       "       [4, 5, 6],\n",
       "       [7, 8, 9]])"
      ]
     },
     "execution_count": 7,
     "metadata": {},
     "output_type": "execute_result"
    }
   ],
   "source": [
    "mylist=[[1,2,3],[4,5,6],[7,8,9]]\n",
    "matrix=np.array(mylist)\n",
    "matrix"
   ]
  },
  {
   "cell_type": "markdown",
   "id": "9ea712ed",
   "metadata": {},
   "source": [
    "### Creating Array by built in functions"
   ]
  },
  {
   "cell_type": "markdown",
   "id": "97b559cb",
   "metadata": {},
   "source": [
    "arange -> similar to range func\n",
    "            Syntax - (start, stop, interval, dtype=int/float)\n",
    "                        start and interval are optional"
   ]
  },
  {
   "cell_type": "code",
   "execution_count": 8,
   "id": "49ff49f0",
   "metadata": {},
   "outputs": [
    {
     "data": {
      "text/plain": [
       "array([0, 1, 2, 3, 4, 5, 6, 7, 8, 9])"
      ]
     },
     "execution_count": 8,
     "metadata": {},
     "output_type": "execute_result"
    }
   ],
   "source": [
    "np.arange(10)"
   ]
  },
  {
   "cell_type": "code",
   "execution_count": 9,
   "id": "74a43cd6",
   "metadata": {},
   "outputs": [
    {
     "data": {
      "text/plain": [
       "array([1, 2, 3, 4, 5, 6])"
      ]
     },
     "execution_count": 9,
     "metadata": {},
     "output_type": "execute_result"
    }
   ],
   "source": [
    "np.arange(1,7)"
   ]
  },
  {
   "cell_type": "code",
   "execution_count": 11,
   "id": "8bfd9da0",
   "metadata": {},
   "outputs": [
    {
     "data": {
      "text/plain": [
       "array([ 10,  15,  20,  25,  30,  35,  40,  45,  50,  55,  60,  65,  70,\n",
       "        75,  80,  85,  90,  95, 100])"
      ]
     },
     "execution_count": 11,
     "metadata": {},
     "output_type": "execute_result"
    }
   ],
   "source": [
    "np.arange(10,101,5)"
   ]
  },
  {
   "cell_type": "markdown",
   "id": "6652aa46",
   "metadata": {},
   "source": [
    "zeroes -> fills in a array of given shape with zeroes\n",
    "            Syntax - (shape,dtype=float/int)\n",
    "                        shape - int for 1d array\n",
    "                                tuple for nd array\n",
    "                                (row,column) 2d array"
   ]
  },
  {
   "cell_type": "code",
   "execution_count": 13,
   "id": "93ad8aa2",
   "metadata": {},
   "outputs": [
    {
     "data": {
      "text/plain": [
       "array([0., 0., 0., 0., 0.])"
      ]
     },
     "execution_count": 13,
     "metadata": {},
     "output_type": "execute_result"
    }
   ],
   "source": [
    "np.zeros(5)"
   ]
  },
  {
   "cell_type": "code",
   "execution_count": 14,
   "id": "080ad313",
   "metadata": {},
   "outputs": [
    {
     "data": {
      "text/plain": [
       "array([[0, 0, 0],\n",
       "       [0, 0, 0],\n",
       "       [0, 0, 0],\n",
       "       [0, 0, 0],\n",
       "       [0, 0, 0]])"
      ]
     },
     "execution_count": 14,
     "metadata": {},
     "output_type": "execute_result"
    }
   ],
   "source": [
    "np.zeros((5,3),dtype=int)"
   ]
  },
  {
   "cell_type": "code",
   "execution_count": 19,
   "id": "d5ddf728",
   "metadata": {},
   "outputs": [
    {
     "data": {
      "text/plain": [
       "array([[[0, 0, 0, 0],\n",
       "        [0, 0, 0, 0],\n",
       "        [0, 0, 0, 0]],\n",
       "\n",
       "       [[0, 0, 0, 0],\n",
       "        [0, 0, 0, 0],\n",
       "        [0, 0, 0, 0]]])"
      ]
     },
     "execution_count": 19,
     "metadata": {},
     "output_type": "execute_result"
    }
   ],
   "source": [
    "#3d array\n",
    "arr_3d = np.zeros((2,3,4),dtype=int)\n",
    "arr_3d"
   ]
  },
  {
   "cell_type": "code",
   "execution_count": 20,
   "id": "3ab75fb8",
   "metadata": {},
   "outputs": [
    {
     "data": {
      "text/plain": [
       "array([[0, 0, 0, 0],\n",
       "       [0, 0, 0, 0],\n",
       "       [0, 0, 0, 0]])"
      ]
     },
     "execution_count": 20,
     "metadata": {},
     "output_type": "execute_result"
    }
   ],
   "source": [
    "arr_3d[0]"
   ]
  },
  {
   "cell_type": "code",
   "execution_count": 21,
   "id": "fbf6854a",
   "metadata": {},
   "outputs": [
    {
     "data": {
      "text/plain": [
       "array([0, 0, 0, 0])"
      ]
     },
     "execution_count": 21,
     "metadata": {},
     "output_type": "execute_result"
    }
   ],
   "source": [
    "arr_3d[0][0]"
   ]
  },
  {
   "cell_type": "markdown",
   "id": "80f8ef38",
   "metadata": {},
   "source": [
    "ones -> similar to zeroes, fills 1s "
   ]
  },
  {
   "cell_type": "code",
   "execution_count": 22,
   "id": "275e6472",
   "metadata": {},
   "outputs": [
    {
     "data": {
      "text/plain": [
       "array([[1., 1., 1.],\n",
       "       [1., 1., 1.],\n",
       "       [1., 1., 1.],\n",
       "       [1., 1., 1.]])"
      ]
     },
     "execution_count": 22,
     "metadata": {},
     "output_type": "execute_result"
    }
   ],
   "source": [
    "np.ones((4,3))"
   ]
  },
  {
   "cell_type": "code",
   "execution_count": null,
   "id": "2fa31890",
   "metadata": {},
   "outputs": [],
   "source": [
    "linspace -> returns array with n number of elemnts, evenly distributed with starting and ending points\n",
    "                Syntax - (start, stop, n)\n",
    "                            stop point is included unlike range function"
   ]
  },
  {
   "cell_type": "code",
   "execution_count": 24,
   "id": "98ba893d",
   "metadata": {},
   "outputs": [
    {
     "data": {
      "text/plain": [
       "array([ 10.        ,  14.73684211,  19.47368421,  24.21052632,\n",
       "        28.94736842,  33.68421053,  38.42105263,  43.15789474,\n",
       "        47.89473684,  52.63157895,  57.36842105,  62.10526316,\n",
       "        66.84210526,  71.57894737,  76.31578947,  81.05263158,\n",
       "        85.78947368,  90.52631579,  95.26315789, 100.        ])"
      ]
     },
     "execution_count": 24,
     "metadata": {},
     "output_type": "execute_result"
    }
   ],
   "source": [
    "np.linspace(10,100,num=20,) #returns 20 elements evenly distributed between 10 and 100"
   ]
  },
  {
   "cell_type": "code",
   "execution_count": null,
   "id": "2c573b15",
   "metadata": {},
   "outputs": [],
   "source": [
    "eye -> returns 2d identity matrix of given size\n",
    "        Syntax - (size)"
   ]
  },
  {
   "cell_type": "code",
   "execution_count": 26,
   "id": "8dcc6f82",
   "metadata": {},
   "outputs": [
    {
     "data": {
      "text/plain": [
       "array([[1., 0.],\n",
       "       [0., 1.]])"
      ]
     },
     "execution_count": 26,
     "metadata": {},
     "output_type": "execute_result"
    }
   ],
   "source": [
    "np.eye(2)"
   ]
  },
  {
   "cell_type": "code",
   "execution_count": 28,
   "id": "97f50a15",
   "metadata": {},
   "outputs": [
    {
     "data": {
      "text/plain": [
       "array([[1, 0, 0, 0],\n",
       "       [0, 1, 0, 0],\n",
       "       [0, 0, 1, 0],\n",
       "       [0, 0, 0, 1]])"
      ]
     },
     "execution_count": 28,
     "metadata": {},
     "output_type": "execute_result"
    }
   ],
   "source": [
    "np.eye(4,dtype=int)"
   ]
  },
  {
   "cell_type": "code",
   "execution_count": null,
   "id": "e1d80ab0",
   "metadata": {},
   "outputs": [],
   "source": [
    "random.rand -> returns random values between [0,1) for the given shape of array\n",
    "                Syntax - (size) \n",
    "                            do not pass tuple for nd array size"
   ]
  },
  {
   "cell_type": "code",
   "execution_count": 29,
   "id": "3fd00311",
   "metadata": {},
   "outputs": [
    {
     "data": {
      "text/plain": [
       "array([0.79566469, 0.08870369, 0.52064677])"
      ]
     },
     "execution_count": 29,
     "metadata": {},
     "output_type": "execute_result"
    }
   ],
   "source": [
    "np.random.rand(3)"
   ]
  },
  {
   "cell_type": "code",
   "execution_count": 33,
   "id": "daf49486",
   "metadata": {},
   "outputs": [
    {
     "ename": "TypeError",
     "evalue": "'tuple' object cannot be interpreted as an integer",
     "output_type": "error",
     "traceback": [
      "\u001b[0;31m---------------------------------------------------------------------------\u001b[0m",
      "\u001b[0;31mTypeError\u001b[0m                                 Traceback (most recent call last)",
      "Cell \u001b[0;32mIn[33], line 1\u001b[0m\n\u001b[0;32m----> 1\u001b[0m np\u001b[38;5;241m.\u001b[39mrandom\u001b[38;5;241m.\u001b[39mrand((\u001b[38;5;241m3\u001b[39m,\u001b[38;5;241m5\u001b[39m))\n",
      "File \u001b[0;32mnumpy/random/mtrand.pyx:1219\u001b[0m, in \u001b[0;36mnumpy.random.mtrand.RandomState.rand\u001b[0;34m()\u001b[0m\n",
      "File \u001b[0;32mnumpy/random/mtrand.pyx:437\u001b[0m, in \u001b[0;36mnumpy.random.mtrand.RandomState.random_sample\u001b[0;34m()\u001b[0m\n",
      "File \u001b[0;32m_common.pyx:307\u001b[0m, in \u001b[0;36mnumpy.random._common.double_fill\u001b[0;34m()\u001b[0m\n",
      "\u001b[0;31mTypeError\u001b[0m: 'tuple' object cannot be interpreted as an integer"
     ]
    }
   ],
   "source": [
    "np.random.rand((3,5))"
   ]
  },
  {
   "cell_type": "code",
   "execution_count": 32,
   "id": "caf333aa",
   "metadata": {},
   "outputs": [
    {
     "data": {
      "text/plain": [
       "array([[0.33558502, 0.48324624, 0.0321807 , 0.22832356, 0.61812927],\n",
       "       [0.24982118, 0.45927458, 0.93679632, 0.44839557, 0.6623784 ],\n",
       "       [0.07257654, 0.12808841, 0.04606118, 0.89243248, 0.09933973]])"
      ]
     },
     "execution_count": 32,
     "metadata": {},
     "output_type": "execute_result"
    }
   ],
   "source": [
    "np.random.rand(3,5)"
   ]
  },
  {
   "cell_type": "code",
   "execution_count": null,
   "id": "61ccd63a",
   "metadata": {},
   "outputs": [],
   "source": [
    "random.randn -> returns random values to constitue a standard distribution\n",
    "                    standard distribution - mean = 0 \n",
    "                                            variance = 1 is a measure of how far each number in dataset is from mean\n",
    "                                            this can be observed with large dataset samples, not with smaller samples\n",
    "                    Syntax - (size)\n",
    "                        do not pass tuple for nd array size"
   ]
  },
  {
   "cell_type": "code",
   "execution_count": 34,
   "id": "6412a372",
   "metadata": {},
   "outputs": [
    {
     "data": {
      "text/plain": [
       "array([ 0.39499623, -0.14983301, -1.65687193, -0.46739018, -1.18648811])"
      ]
     },
     "execution_count": 34,
     "metadata": {},
     "output_type": "execute_result"
    }
   ],
   "source": [
    "np.random.randn(5)"
   ]
  },
  {
   "cell_type": "code",
   "execution_count": 43,
   "id": "1e54c448",
   "metadata": {},
   "outputs": [
    {
     "data": {
      "text/plain": [
       "array([[-2.05360725,  1.13226333],\n",
       "       [-0.32580294, -0.04819139],\n",
       "       [-0.65429748,  0.08995753],\n",
       "       [ 0.66746729,  0.60172055]])"
      ]
     },
     "execution_count": 43,
     "metadata": {},
     "output_type": "execute_result"
    }
   ],
   "source": [
    "std_dist_arr = np.random.randn(4,2)\n",
    "std_dist_arr"
   ]
  },
  {
   "cell_type": "code",
   "execution_count": 44,
   "id": "b20e2659",
   "metadata": {},
   "outputs": [
    {
     "data": {
      "text/plain": [
       "-0.07381129419227196"
      ]
     },
     "execution_count": 44,
     "metadata": {},
     "output_type": "execute_result"
    }
   ],
   "source": [
    "std_dist_arr.mean()"
   ]
  },
  {
   "cell_type": "code",
   "execution_count": 45,
   "id": "23c60666",
   "metadata": {},
   "outputs": [
    {
     "data": {
      "text/plain": [
       "0.8509982327692193"
      ]
     },
     "execution_count": 45,
     "metadata": {},
     "output_type": "execute_result"
    }
   ],
   "source": [
    "std_dist_arr.var()"
   ]
  },
  {
   "cell_type": "code",
   "execution_count": 46,
   "id": "71ce35c7",
   "metadata": {},
   "outputs": [],
   "source": [
    "std_dist_arr = np.random.randn(10000,3000)"
   ]
  },
  {
   "cell_type": "code",
   "execution_count": 47,
   "id": "c0b55924",
   "metadata": {},
   "outputs": [
    {
     "data": {
      "text/plain": [
       "-0.0002909408853902616"
      ]
     },
     "execution_count": 47,
     "metadata": {},
     "output_type": "execute_result"
    }
   ],
   "source": [
    "std_dist_arr.mean()"
   ]
  },
  {
   "cell_type": "code",
   "execution_count": 48,
   "id": "80f43819",
   "metadata": {},
   "outputs": [
    {
     "data": {
      "text/plain": [
       "1.0002290430692216"
      ]
     },
     "execution_count": 48,
     "metadata": {},
     "output_type": "execute_result"
    }
   ],
   "source": [
    "std_dist_arr.var()"
   ]
  },
  {
   "cell_type": "code",
   "execution_count": 49,
   "id": "bd233f74",
   "metadata": {},
   "outputs": [],
   "source": [
    "del std_dist_arr"
   ]
  },
  {
   "cell_type": "code",
   "execution_count": null,
   "id": "d3614f08",
   "metadata": {},
   "outputs": [],
   "source": [
    "np.random.randint -> generates random integers in the given range\n",
    "                        Syntax - (lower bound, upper bound, shape)"
   ]
  },
  {
   "cell_type": "code",
   "execution_count": 2,
   "id": "195e0fa5",
   "metadata": {},
   "outputs": [
    {
     "data": {
      "text/plain": [
       "array([ 60,  53,  -2,  22,  52, -27,  -6])"
      ]
     },
     "execution_count": 2,
     "metadata": {},
     "output_type": "execute_result"
    }
   ],
   "source": [
    "np.random.randint(-34,65,7)"
   ]
  },
  {
   "cell_type": "code",
   "execution_count": 4,
   "id": "7565cc1d",
   "metadata": {},
   "outputs": [
    {
     "data": {
      "text/plain": [
       "array([[122,  93,  49, 129,  57],\n",
       "       [ 87,  92, 126,  96, 136],\n",
       "       [ 49,  59,  48,  85,  73]])"
      ]
     },
     "execution_count": 4,
     "metadata": {},
     "output_type": "execute_result"
    }
   ],
   "source": [
    "np.random.randint(43,142,(3,5))"
   ]
  },
  {
   "cell_type": "code",
   "execution_count": null,
   "id": "17835fa4",
   "metadata": {},
   "outputs": [],
   "source": [
    "seed -> generates/produces the same set of random numbers even on new run of the statement\n",
    "            Syntax - np.random.seed(arbitrary_number)\n",
    "                        42 is usually used by default in lot of libraries\n",
    "            Note: Use both seed and generation statements in same cell, or else it wont work"
   ]
  },
  {
   "cell_type": "code",
   "execution_count": 5,
   "id": "e8200ab4",
   "metadata": {},
   "outputs": [
    {
     "data": {
      "text/plain": [
       "array([0.37454012, 0.95071431, 0.73199394, 0.59865848])"
      ]
     },
     "execution_count": 5,
     "metadata": {},
     "output_type": "execute_result"
    }
   ],
   "source": [
    "np.random.seed(42)\n",
    "np.random.rand(4)"
   ]
  },
  {
   "cell_type": "code",
   "execution_count": 6,
   "id": "1d8010e5",
   "metadata": {},
   "outputs": [
    {
     "data": {
      "text/plain": [
       "array([0.37454012, 0.95071431, 0.73199394, 0.59865848])"
      ]
     },
     "execution_count": 6,
     "metadata": {},
     "output_type": "execute_result"
    }
   ],
   "source": [
    "np.random.seed(42)\n",
    "np.random.rand(4)"
   ]
  },
  {
   "cell_type": "code",
   "execution_count": 7,
   "id": "9c8d2c84",
   "metadata": {},
   "outputs": [
    {
     "data": {
      "text/plain": [
       "array([0.15601864, 0.15599452, 0.05808361, 0.86617615])"
      ]
     },
     "execution_count": 7,
     "metadata": {},
     "output_type": "execute_result"
    }
   ],
   "source": [
    "np.random.rand(4)"
   ]
  },
  {
   "cell_type": "code",
   "execution_count": null,
   "id": "e95ca071",
   "metadata": {},
   "outputs": [],
   "source": [
    "reshape -> convertion of array dimension\n",
    "            Syntax - array.reshape(shape)"
   ]
  },
  {
   "cell_type": "code",
   "execution_count": 9,
   "id": "29895614",
   "metadata": {},
   "outputs": [
    {
     "data": {
      "text/plain": [
       "array([ 30,  19,  23,  32, -29,  19, -25, -11,  41,   7, -14, -28,  28,\n",
       "       -18, -23,  21, -30,  52,  28,  39,  12, -24,  15,   3])"
      ]
     },
     "execution_count": 9,
     "metadata": {},
     "output_type": "execute_result"
    }
   ],
   "source": [
    "arr = np.random.randint(-31,54,24)\n",
    "arr"
   ]
  },
  {
   "cell_type": "code",
   "execution_count": 10,
   "id": "782915d4",
   "metadata": {},
   "outputs": [
    {
     "data": {
      "text/plain": [
       "array([[ 30,  19,  23,  32, -29,  19, -25, -11],\n",
       "       [ 41,   7, -14, -28,  28, -18, -23,  21],\n",
       "       [-30,  52,  28,  39,  12, -24,  15,   3]])"
      ]
     },
     "execution_count": 10,
     "metadata": {},
     "output_type": "execute_result"
    }
   ],
   "source": [
    "arr.reshape(3,8)"
   ]
  },
  {
   "cell_type": "code",
   "execution_count": 11,
   "id": "d0782021",
   "metadata": {},
   "outputs": [
    {
     "data": {
      "text/plain": [
       "array([ 30,  19,  23,  32, -29,  19, -25, -11,  41,   7, -14, -28,  28,\n",
       "       -18, -23,  21, -30,  52,  28,  39,  12, -24,  15,   3])"
      ]
     },
     "execution_count": 11,
     "metadata": {},
     "output_type": "execute_result"
    }
   ],
   "source": [
    "arr"
   ]
  },
  {
   "cell_type": "code",
   "execution_count": 13,
   "id": "580bd30c",
   "metadata": {},
   "outputs": [
    {
     "data": {
      "text/plain": [
       "array([[[ 30,  19],\n",
       "        [ 23,  32],\n",
       "        [-29,  19],\n",
       "        [-25, -11]],\n",
       "\n",
       "       [[ 41,   7],\n",
       "        [-14, -28],\n",
       "        [ 28, -18],\n",
       "        [-23,  21]],\n",
       "\n",
       "       [[-30,  52],\n",
       "        [ 28,  39],\n",
       "        [ 12, -24],\n",
       "        [ 15,   3]]])"
      ]
     },
     "execution_count": 13,
     "metadata": {},
     "output_type": "execute_result"
    }
   ],
   "source": [
    "arr.reshape(3,4,2)"
   ]
  },
  {
   "cell_type": "code",
   "execution_count": null,
   "id": "f608a1b9",
   "metadata": {},
   "outputs": [],
   "source": [
    "array.max() -> returns max value\n",
    "     .min() -> returns min value\n",
    "     .argmax() -> returns index number of max value\n",
    "     .argmin() -> returns index number of min value"
   ]
  },
  {
   "cell_type": "markdown",
   "id": "d45a0158",
   "metadata": {},
   "source": [
    "### Broadcasting"
   ]
  },
  {
   "cell_type": "markdown",
   "id": "9ddf79d5",
   "metadata": {},
   "source": [
    "We can Broadcast an array unlike list"
   ]
  },
  {
   "cell_type": "code",
   "execution_count": 3,
   "id": "d0a825ca",
   "metadata": {},
   "outputs": [
    {
     "data": {
      "text/plain": [
       "[0, 1, 2, 3, 4, 5, 6, 7, 8, 9, 10]"
      ]
     },
     "execution_count": 3,
     "metadata": {},
     "output_type": "execute_result"
    }
   ],
   "source": [
    "mylist = [x for x in range(0,11)]\n",
    "mylist"
   ]
  },
  {
   "cell_type": "code",
   "execution_count": 4,
   "id": "c24c2ae7",
   "metadata": {},
   "outputs": [
    {
     "ename": "TypeError",
     "evalue": "can only assign an iterable",
     "output_type": "error",
     "traceback": [
      "\u001b[0;31m---------------------------------------------------------------------------\u001b[0m",
      "\u001b[0;31mTypeError\u001b[0m                                 Traceback (most recent call last)",
      "Cell \u001b[0;32mIn[4], line 1\u001b[0m\n\u001b[0;32m----> 1\u001b[0m mylist[\u001b[38;5;241m0\u001b[39m:\u001b[38;5;241m5\u001b[39m]\u001b[38;5;241m=\u001b[39m\u001b[38;5;241m100\u001b[39m\n",
      "\u001b[0;31mTypeError\u001b[0m: can only assign an iterable"
     ]
    }
   ],
   "source": [
    "mylist[0:5]=100"
   ]
  },
  {
   "cell_type": "code",
   "execution_count": 5,
   "id": "05ce6222",
   "metadata": {},
   "outputs": [
    {
     "data": {
      "text/plain": [
       "array([ 0,  1,  2,  3,  4,  5,  6,  7,  8,  9, 10])"
      ]
     },
     "execution_count": 5,
     "metadata": {},
     "output_type": "execute_result"
    }
   ],
   "source": [
    "array = np.arange(0,11)\n",
    "array"
   ]
  },
  {
   "cell_type": "code",
   "execution_count": 6,
   "id": "c20b44b5",
   "metadata": {},
   "outputs": [
    {
     "data": {
      "text/plain": [
       "array([100, 100, 100, 100, 100,   5,   6,   7,   8,   9,  10])"
      ]
     },
     "execution_count": 6,
     "metadata": {},
     "output_type": "execute_result"
    }
   ],
   "source": [
    "array[0:5] = 100\n",
    "array"
   ]
  },
  {
   "cell_type": "markdown",
   "id": "7458ce69",
   "metadata": {},
   "source": [
    "Array assignment affects Original array in case of any changes in assignment array"
   ]
  },
  {
   "cell_type": "code",
   "execution_count": 7,
   "id": "82a07f78",
   "metadata": {},
   "outputs": [
    {
     "data": {
      "text/plain": [
       "array([100, 100, 100, 100, 100])"
      ]
     },
     "execution_count": 7,
     "metadata": {},
     "output_type": "execute_result"
    }
   ],
   "source": [
    "arr_copy = array[0:5]\n",
    "arr_copy"
   ]
  },
  {
   "cell_type": "code",
   "execution_count": 8,
   "id": "5781471f",
   "metadata": {},
   "outputs": [
    {
     "data": {
      "text/plain": [
       "array([69, 69, 69, 69, 69])"
      ]
     },
     "execution_count": 8,
     "metadata": {},
     "output_type": "execute_result"
    }
   ],
   "source": [
    "arr_copy[:]=69\n",
    "arr_copy"
   ]
  },
  {
   "cell_type": "code",
   "execution_count": 9,
   "id": "a588c1ba",
   "metadata": {},
   "outputs": [
    {
     "data": {
      "text/plain": [
       "array([69, 69, 69, 69, 69,  5,  6,  7,  8,  9, 10])"
      ]
     },
     "execution_count": 9,
     "metadata": {},
     "output_type": "execute_result"
    }
   ],
   "source": [
    "array"
   ]
  },
  {
   "cell_type": "markdown",
   "id": "7a9473e7",
   "metadata": {},
   "source": [
    "In order to avoid the changes to original array, use the function .copy()"
   ]
  },
  {
   "cell_type": "code",
   "execution_count": 11,
   "id": "5c470b9f",
   "metadata": {},
   "outputs": [
    {
     "data": {
      "text/plain": [
       "array([69, 69,  5,  6,  7])"
      ]
     },
     "execution_count": 11,
     "metadata": {},
     "output_type": "execute_result"
    }
   ],
   "source": [
    "array_copy = array[3:8].copy()\n",
    "array_copy"
   ]
  },
  {
   "cell_type": "code",
   "execution_count": 12,
   "id": "fb818224",
   "metadata": {},
   "outputs": [
    {
     "data": {
      "text/plain": [
       "array([100, 100, 100, 100, 100])"
      ]
     },
     "execution_count": 12,
     "metadata": {},
     "output_type": "execute_result"
    }
   ],
   "source": [
    "array_copy[:]=100\n",
    "array_copy"
   ]
  },
  {
   "cell_type": "code",
   "execution_count": 13,
   "id": "08126f7a",
   "metadata": {},
   "outputs": [
    {
     "data": {
      "text/plain": [
       "array([69, 69, 69, 69, 69,  5,  6,  7,  8,  9, 10])"
      ]
     },
     "execution_count": 13,
     "metadata": {},
     "output_type": "execute_result"
    }
   ],
   "source": [
    "array"
   ]
  },
  {
   "cell_type": "markdown",
   "id": "af564580",
   "metadata": {},
   "source": [
    "### Indexing on 2D array"
   ]
  },
  {
   "cell_type": "code",
   "execution_count": 25,
   "id": "46f1f8f5",
   "metadata": {},
   "outputs": [
    {
     "data": {
      "text/plain": [
       "array([[45, 29, 73, 81, 92, 63, 11],\n",
       "       [ 0, 69, 20, 20, 85,  6, 65],\n",
       "       [66, 72, 39, 35,  9, 96,  3],\n",
       "       [29, 23, 72, 82, 41, 32, 34],\n",
       "       [96, 64, 58, 43, 62, 38, 19]])"
      ]
     },
     "execution_count": 25,
     "metadata": {},
     "output_type": "execute_result"
    }
   ],
   "source": [
    "array_2d = np.random.randint(0,100,(5,7))\n",
    "array_2d"
   ]
  },
  {
   "cell_type": "code",
   "execution_count": 26,
   "id": "e12bd584",
   "metadata": {},
   "outputs": [
    {
     "data": {
      "text/plain": [
       "45"
      ]
     },
     "execution_count": 26,
     "metadata": {},
     "output_type": "execute_result"
    }
   ],
   "source": [
    "array_2d[0,0]"
   ]
  },
  {
   "cell_type": "code",
   "execution_count": 27,
   "id": "16bee8df",
   "metadata": {},
   "outputs": [
    {
     "data": {
      "text/plain": [
       "19"
      ]
     },
     "execution_count": 27,
     "metadata": {},
     "output_type": "execute_result"
    }
   ],
   "source": [
    "array_2d[4,6]"
   ]
  },
  {
   "cell_type": "code",
   "execution_count": 29,
   "id": "7c7f7f47",
   "metadata": {},
   "outputs": [
    {
     "data": {
      "text/plain": [
       "array([[81, 92, 63, 11],\n",
       "       [20, 85,  6, 65],\n",
       "       [35,  9, 96,  3],\n",
       "       [82, 41, 32, 34]])"
      ]
     },
     "execution_count": 29,
     "metadata": {},
     "output_type": "execute_result"
    }
   ],
   "source": [
    "array_2d[:4,3:]"
   ]
  },
  {
   "cell_type": "markdown",
   "id": "c68efb9d",
   "metadata": {},
   "source": [
    "### Conditional Selection"
   ]
  },
  {
   "cell_type": "code",
   "execution_count": 30,
   "id": "41217c17",
   "metadata": {},
   "outputs": [
    {
     "data": {
      "text/plain": [
       "array([53, 28, 21, 70, 88, 14, 11, 86, 18, 41])"
      ]
     },
     "execution_count": 30,
     "metadata": {},
     "output_type": "execute_result"
    }
   ],
   "source": [
    "array = np.random.randint(0,101,10)\n",
    "array"
   ]
  },
  {
   "cell_type": "code",
   "execution_count": 31,
   "id": "3d5f4122",
   "metadata": {},
   "outputs": [
    {
     "data": {
      "text/plain": [
       "array([False,  True, False,  True,  True,  True, False,  True,  True,\n",
       "       False])"
      ]
     },
     "execution_count": 31,
     "metadata": {},
     "output_type": "execute_result"
    }
   ],
   "source": [
    "bool_arr = array % 2 == 0\n",
    "bool_arr"
   ]
  },
  {
   "cell_type": "code",
   "execution_count": 32,
   "id": "f5f9d65a",
   "metadata": {},
   "outputs": [
    {
     "data": {
      "text/plain": [
       "array([28, 70, 88, 14, 86, 18])"
      ]
     },
     "execution_count": 32,
     "metadata": {},
     "output_type": "execute_result"
    }
   ],
   "source": [
    "array[bool_arr]"
   ]
  },
  {
   "cell_type": "code",
   "execution_count": 33,
   "id": "b8ef4cbf",
   "metadata": {},
   "outputs": [
    {
     "data": {
      "text/plain": [
       "array([53, 21, 11, 41])"
      ]
     },
     "execution_count": 33,
     "metadata": {},
     "output_type": "execute_result"
    }
   ],
   "source": [
    "array[array%2!=0]"
   ]
  },
  {
   "cell_type": "markdown",
   "id": "f2a86fb4",
   "metadata": {},
   "source": [
    "## Operations"
   ]
  },
  {
   "cell_type": "code",
   "execution_count": null,
   "id": "6d86f399",
   "metadata": {},
   "outputs": [],
   "source": [
    " arrays can be operated with scaler or arrays of same size can be used as scalar"
   ]
  },
  {
   "cell_type": "code",
   "execution_count": 34,
   "id": "d54beb12",
   "metadata": {},
   "outputs": [
    {
     "data": {
      "text/plain": [
       "array([53, 28, 21, 70, 88, 14, 11, 86, 18, 41])"
      ]
     },
     "execution_count": 34,
     "metadata": {},
     "output_type": "execute_result"
    }
   ],
   "source": [
    "array "
   ]
  },
  {
   "cell_type": "code",
   "execution_count": 35,
   "id": "5b220af6",
   "metadata": {},
   "outputs": [
    {
     "data": {
      "text/plain": [
       "array([69, 69, 69, 69, 69])"
      ]
     },
     "execution_count": 35,
     "metadata": {},
     "output_type": "execute_result"
    }
   ],
   "source": [
    "arr_copy"
   ]
  },
  {
   "cell_type": "code",
   "execution_count": 36,
   "id": "f1c46b6e",
   "metadata": {},
   "outputs": [
    {
     "ename": "ValueError",
     "evalue": "operands could not be broadcast together with shapes (10,) (5,) ",
     "output_type": "error",
     "traceback": [
      "\u001b[0;31m---------------------------------------------------------------------------\u001b[0m",
      "\u001b[0;31mValueError\u001b[0m                                Traceback (most recent call last)",
      "Cell \u001b[0;32mIn[36], line 1\u001b[0m\n\u001b[0;32m----> 1\u001b[0m array\u001b[38;5;241m*\u001b[39marr_copy\n",
      "\u001b[0;31mValueError\u001b[0m: operands could not be broadcast together with shapes (10,) (5,) "
     ]
    }
   ],
   "source": [
    "array*arr_copy"
   ]
  },
  {
   "cell_type": "code",
   "execution_count": 37,
   "id": "a140ab26",
   "metadata": {},
   "outputs": [
    {
     "data": {
      "text/plain": [
       "array([100, 100, 100, 100, 100])"
      ]
     },
     "execution_count": 37,
     "metadata": {},
     "output_type": "execute_result"
    }
   ],
   "source": [
    "array_copy"
   ]
  },
  {
   "cell_type": "code",
   "execution_count": 38,
   "id": "2ae36585",
   "metadata": {},
   "outputs": [
    {
     "data": {
      "text/plain": [
       "array([6900, 6900, 6900, 6900, 6900])"
      ]
     },
     "execution_count": 38,
     "metadata": {},
     "output_type": "execute_result"
    }
   ],
   "source": [
    "arr_copy*array_copy"
   ]
  },
  {
   "cell_type": "code",
   "execution_count": 39,
   "id": "fb5b85af",
   "metadata": {},
   "outputs": [
    {
     "data": {
      "text/plain": [
       "array([169, 169, 169, 169, 169])"
      ]
     },
     "execution_count": 39,
     "metadata": {},
     "output_type": "execute_result"
    }
   ],
   "source": [
    "arr_copy+array_copy"
   ]
  },
  {
   "cell_type": "code",
   "execution_count": 40,
   "id": "bd14f226",
   "metadata": {},
   "outputs": [
    {
     "data": {
      "text/plain": [
       "array([113, 113, 113, 113, 113])"
      ]
     },
     "execution_count": 40,
     "metadata": {},
     "output_type": "execute_result"
    }
   ],
   "source": [
    "array_copy+13"
   ]
  },
  {
   "cell_type": "code",
   "execution_count": null,
   "id": "b87b4140",
   "metadata": {},
   "outputs": [],
   "source": [
    "with numpy operations, 0/0 -> NaN\n",
    "                       (value)/0 -> Inf"
   ]
  },
  {
   "cell_type": "code",
   "execution_count": 42,
   "id": "8c7ec505",
   "metadata": {},
   "outputs": [
    {
     "data": {
      "text/plain": [
       "array([0, 1])"
      ]
     },
     "execution_count": 42,
     "metadata": {},
     "output_type": "execute_result"
    }
   ],
   "source": [
    "array = np.arange(0,2)\n",
    "array"
   ]
  },
  {
   "cell_type": "code",
   "execution_count": 43,
   "id": "db444078",
   "metadata": {},
   "outputs": [
    {
     "name": "stderr",
     "output_type": "stream",
     "text": [
      "/var/folders/l8/_b6fjjrx2bd3sc4gf4vqf0vc0000gp/T/ipykernel_29380/2722579035.py:1: RuntimeWarning: divide by zero encountered in divide\n",
      "  array/0\n",
      "/var/folders/l8/_b6fjjrx2bd3sc4gf4vqf0vc0000gp/T/ipykernel_29380/2722579035.py:1: RuntimeWarning: invalid value encountered in divide\n",
      "  array/0\n"
     ]
    },
    {
     "data": {
      "text/plain": [
       "array([nan, inf])"
      ]
     },
     "execution_count": 43,
     "metadata": {},
     "output_type": "execute_result"
    }
   ],
   "source": [
    "array/0"
   ]
  },
  {
   "cell_type": "code",
   "execution_count": null,
   "id": "4e04434a",
   "metadata": {},
   "outputs": [],
   "source": [
    "Functions:\n",
    "    np.sqrt(array)\n",
    "    np.sin(array)\n",
    "    np.log(array)\n",
    "    array.sum(axis=) 0 for column, 1 for row\n",
    "    array.mean()\n",
    "    array.var()\n",
    "    array.std()"
   ]
  },
  {
   "cell_type": "code",
   "execution_count": null,
   "id": "f0e716d0",
   "metadata": {},
   "outputs": [],
   "source": []
  },
  {
   "cell_type": "code",
   "execution_count": null,
   "id": "1ca917a3",
   "metadata": {},
   "outputs": [],
   "source": []
  }
 ],
 "metadata": {
  "kernelspec": {
   "display_name": "Python 3 (ipykernel)",
   "language": "python",
   "name": "python3"
  },
  "language_info": {
   "codemirror_mode": {
    "name": "ipython",
    "version": 3
   },
   "file_extension": ".py",
   "mimetype": "text/x-python",
   "name": "python",
   "nbconvert_exporter": "python",
   "pygments_lexer": "ipython3",
   "version": "3.11.7"
  }
 },
 "nbformat": 4,
 "nbformat_minor": 5
}
