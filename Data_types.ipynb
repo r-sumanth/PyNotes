{
 "cells": [
  {
   "cell_type": "code",
   "execution_count": 1,
   "id": "db1b2557",
   "metadata": {},
   "outputs": [
    {
     "name": "stdout",
     "output_type": "stream",
     "text": [
      "Jai Shree Raam\n"
     ]
    }
   ],
   "source": [
    "print('Jai Shree Raam')"
   ]
  },
  {
   "cell_type": "markdown",
   "id": "9bb7b793",
   "metadata": {},
   "source": [
    "Data Types: int, float, strings"
   ]
  },
  {
   "cell_type": "code",
   "execution_count": 2,
   "id": "18419aef",
   "metadata": {},
   "outputs": [
    {
     "name": "stdout",
     "output_type": "stream",
     "text": [
      "<class 'int'>\n"
     ]
    }
   ],
   "source": [
    "a=10\n",
    "print(type(a))"
   ]
  },
  {
   "cell_type": "code",
   "execution_count": 3,
   "id": "978cb5bf",
   "metadata": {},
   "outputs": [
    {
     "name": "stdout",
     "output_type": "stream",
     "text": [
      "<class 'float'>\n"
     ]
    }
   ],
   "source": [
    "b=3.1\n",
    "print(type(b))"
   ]
  },
  {
   "cell_type": "code",
   "execution_count": 4,
   "id": "9f0be295",
   "metadata": {},
   "outputs": [
    {
     "name": "stdout",
     "output_type": "stream",
     "text": [
      "<class 'str'>\n"
     ]
    }
   ],
   "source": [
    "c='String'\n",
    "print(type(c))"
   ]
  },
  {
   "cell_type": "code",
   "execution_count": 5,
   "id": "99bda776",
   "metadata": {},
   "outputs": [
    {
     "data": {
      "text/plain": [
       "13.1"
      ]
     },
     "execution_count": 5,
     "metadata": {},
     "output_type": "execute_result"
    }
   ],
   "source": [
    "a+b"
   ]
  },
  {
   "cell_type": "code",
   "execution_count": 9,
   "id": "1f47433b",
   "metadata": {},
   "outputs": [
    {
     "name": "stdout",
     "output_type": "stream",
     "text": [
      "<class 'str'>\n"
     ]
    }
   ],
   "source": [
    "d='13.7'\n",
    "print(type(d))"
   ]
  },
  {
   "cell_type": "code",
   "execution_count": 7,
   "id": "0b6a9abd",
   "metadata": {},
   "outputs": [
    {
     "name": "stdout",
     "output_type": "stream",
     "text": [
      "3\n"
     ]
    }
   ],
   "source": [
    "print(d[1])"
   ]
  },
  {
   "cell_type": "code",
   "execution_count": 10,
   "id": "4e366495",
   "metadata": {},
   "outputs": [
    {
     "name": "stdout",
     "output_type": "stream",
     "text": [
      "7\n"
     ]
    }
   ],
   "source": [
    "print(d[-1])"
   ]
  },
  {
   "cell_type": "code",
   "execution_count": 11,
   "id": "0eee2ed0",
   "metadata": {},
   "outputs": [
    {
     "name": "stdout",
     "output_type": "stream",
     "text": [
      "<class 'str'>\n"
     ]
    }
   ],
   "source": [
    "sentance=\"this is also a string\"\n",
    "print(type(sentance))"
   ]
  },
  {
   "cell_type": "code",
   "execution_count": 12,
   "id": "3c536c2b",
   "metadata": {},
   "outputs": [
    {
     "data": {
      "text/plain": [
       "'but only this gets printed'"
      ]
     },
     "execution_count": 12,
     "metadata": {},
     "output_type": "execute_result"
    }
   ],
   "source": [
    "'this is also a sentance'\n",
    "'but only this gets printed'"
   ]
  },
  {
   "cell_type": "code",
   "execution_count": 13,
   "id": "ef0b41a8",
   "metadata": {},
   "outputs": [
    {
     "name": "stdout",
     "output_type": "stream",
     "text": [
      "so we use print command\n",
      "to get all the sentances\n"
     ]
    }
   ],
   "source": [
    "print('so we use print command')\n",
    "print('to get all the sentances')"
   ]
  },
  {
   "cell_type": "code",
   "execution_count": 14,
   "id": "7180244c",
   "metadata": {},
   "outputs": [
    {
     "data": {
      "text/plain": [
       "21"
      ]
     },
     "execution_count": 14,
     "metadata": {},
     "output_type": "execute_result"
    }
   ],
   "source": [
    "len(sentance)"
   ]
  },
  {
   "cell_type": "code",
   "execution_count": 15,
   "id": "86a428b8",
   "metadata": {},
   "outputs": [
    {
     "data": {
      "text/plain": [
       "'s is also a string'"
      ]
     },
     "execution_count": 15,
     "metadata": {},
     "output_type": "execute_result"
    }
   ],
   "source": [
    "sentance[3:]"
   ]
  },
  {
   "cell_type": "code",
   "execution_count": 16,
   "id": "f7b1c444",
   "metadata": {},
   "outputs": [
    {
     "data": {
      "text/plain": [
       "'thi'"
      ]
     },
     "execution_count": 16,
     "metadata": {},
     "output_type": "execute_result"
    }
   ],
   "source": [
    "sentance[:3]"
   ]
  },
  {
   "cell_type": "code",
   "execution_count": 20,
   "id": "0f13c73c",
   "metadata": {},
   "outputs": [
    {
     "data": {
      "text/plain": [
       "'s is also a st'"
      ]
     },
     "execution_count": 20,
     "metadata": {},
     "output_type": "execute_result"
    }
   ],
   "source": [
    "sentance[3:17]"
   ]
  },
  {
   "cell_type": "code",
   "execution_count": 21,
   "id": "215b7363",
   "metadata": {},
   "outputs": [
    {
     "data": {
      "text/plain": [
       "'si loas'"
      ]
     },
     "execution_count": 21,
     "metadata": {},
     "output_type": "execute_result"
    }
   ],
   "source": [
    "sentance[3:17:2]"
   ]
  },
  {
   "cell_type": "code",
   "execution_count": 22,
   "id": "fe835129",
   "metadata": {},
   "outputs": [
    {
     "data": {
      "text/plain": [
       "'ssl s'"
      ]
     },
     "execution_count": 22,
     "metadata": {},
     "output_type": "execute_result"
    }
   ],
   "source": [
    "sentance[3:17:3]"
   ]
  },
  {
   "cell_type": "code",
   "execution_count": 29,
   "id": "21b223a0",
   "metadata": {},
   "outputs": [
    {
     "data": {
      "text/plain": [
       "'r oai'"
      ]
     },
     "execution_count": 29,
     "metadata": {},
     "output_type": "execute_result"
    }
   ],
   "source": [
    "sentance[17:3:-3]"
   ]
  },
  {
   "cell_type": "code",
   "execution_count": 30,
   "id": "9b57f8d3",
   "metadata": {},
   "outputs": [
    {
     "data": {
      "text/plain": [
       "'gnirts a osla si siht'"
      ]
     },
     "execution_count": 30,
     "metadata": {},
     "output_type": "execute_result"
    }
   ],
   "source": [
    "sentance[::-1]"
   ]
  },
  {
   "cell_type": "code",
   "execution_count": 31,
   "id": "458a2116",
   "metadata": {},
   "outputs": [
    {
     "data": {
      "text/plain": [
       "'git  sas it'"
      ]
     },
     "execution_count": 31,
     "metadata": {},
     "output_type": "execute_result"
    }
   ],
   "source": [
    "sentance[::-2]"
   ]
  },
  {
   "cell_type": "code",
   "execution_count": 32,
   "id": "39191120",
   "metadata": {},
   "outputs": [
    {
     "data": {
      "text/plain": [
       "''"
      ]
     },
     "execution_count": 32,
     "metadata": {},
     "output_type": "execute_result"
    }
   ],
   "source": [
    "sentance[3:17:-1]"
   ]
  },
  {
   "cell_type": "code",
   "execution_count": 34,
   "id": "c058b051",
   "metadata": {},
   "outputs": [
    {
     "data": {
      "text/plain": [
       "'nte  o'"
      ]
     },
     "execution_count": 34,
     "metadata": {},
     "output_type": "execute_result"
    }
   ],
   "source": [
    "'works on a sentance'[-3:4:-2]"
   ]
  },
  {
   "cell_type": "code",
   "execution_count": 35,
   "id": "209e7c26",
   "metadata": {},
   "outputs": [
    {
     "name": "stdout",
     "output_type": "stream",
     "text": [
      "rgb\n"
     ]
    }
   ],
   "source": [
    "s1='rgb'\n",
    "print(s1)"
   ]
  },
  {
   "cell_type": "code",
   "execution_count": 36,
   "id": "57a4ef39",
   "metadata": {},
   "outputs": [
    {
     "ename": "TypeError",
     "evalue": "'str' object does not support item assignment",
     "output_type": "error",
     "traceback": [
      "\u001b[0;31m---------------------------------------------------------------------------\u001b[0m",
      "\u001b[0;31mTypeError\u001b[0m                                 Traceback (most recent call last)",
      "Cell \u001b[0;32mIn[36], line 1\u001b[0m\n\u001b[0;32m----> 1\u001b[0m s1[\u001b[38;5;241m2\u001b[39m]\u001b[38;5;241m=\u001b[39m\u001b[38;5;124m'\u001b[39m\u001b[38;5;124ms\u001b[39m\u001b[38;5;124m'\u001b[39m\n",
      "\u001b[0;31mTypeError\u001b[0m: 'str' object does not support item assignment"
     ]
    }
   ],
   "source": [
    "s1[2]='s'"
   ]
  },
  {
   "cell_type": "code",
   "execution_count": 37,
   "id": "e9ec6b50",
   "metadata": {},
   "outputs": [
    {
     "name": "stdout",
     "output_type": "stream",
     "text": [
      "rsb\n"
     ]
    }
   ],
   "source": [
    "s1=s1[0]+'s'+s1[2]\n",
    "print(s1)"
   ]
  },
  {
   "cell_type": "code",
   "execution_count": 49,
   "id": "30e31d77",
   "metadata": {},
   "outputs": [
    {
     "data": {
      "text/plain": [
       "'this is also a string'"
      ]
     },
     "execution_count": 49,
     "metadata": {},
     "output_type": "execute_result"
    }
   ],
   "source": [
    "sentance=\"this is also a string\"\n",
    "sentance"
   ]
  },
  {
   "cell_type": "code",
   "execution_count": 50,
   "id": "16830dac",
   "metadata": {},
   "outputs": [
    {
     "data": {
      "text/plain": [
       "'this can also be a string'"
      ]
     },
     "execution_count": 50,
     "metadata": {},
     "output_type": "execute_result"
    }
   ],
   "source": [
    "sentance=sentance[0:5]+'can'+sentance[7:13]+'be'+sentance[12:]\n",
    "sentance"
   ]
  },
  {
   "cell_type": "code",
   "execution_count": 52,
   "id": "2dd57a6b",
   "metadata": {},
   "outputs": [
    {
     "data": {
      "text/plain": [
       "'Oct'"
      ]
     },
     "execution_count": 52,
     "metadata": {},
     "output_type": "execute_result"
    }
   ],
   "source": [
    "letter='Oct'\n",
    "letter"
   ]
  },
  {
   "cell_type": "code",
   "execution_count": 53,
   "id": "251427ad",
   "metadata": {},
   "outputs": [
    {
     "data": {
      "text/plain": [
       "'OctOctOct'"
      ]
     },
     "execution_count": 53,
     "metadata": {},
     "output_type": "execute_result"
    }
   ],
   "source": [
    "letter*3"
   ]
  },
  {
   "cell_type": "code",
   "execution_count": 54,
   "id": "97ab4b58",
   "metadata": {},
   "outputs": [
    {
     "ename": "TypeError",
     "evalue": "can't multiply sequence by non-int of type 'str'",
     "output_type": "error",
     "traceback": [
      "\u001b[0;31m---------------------------------------------------------------------------\u001b[0m",
      "\u001b[0;31mTypeError\u001b[0m                                 Traceback (most recent call last)",
      "Cell \u001b[0;32mIn[54], line 1\u001b[0m\n\u001b[0;32m----> 1\u001b[0m \u001b[43mletter\u001b[49m\u001b[38;5;241;43m*\u001b[39;49m\u001b[38;5;241;43m3\u001b[39;49m\u001b[38;5;241;43m*\u001b[39;49m\u001b[38;5;124;43m'\u001b[39;49m\u001b[38;5;124;43mh\u001b[39;49m\u001b[38;5;124;43m'\u001b[39;49m\n",
      "\u001b[0;31mTypeError\u001b[0m: can't multiply sequence by non-int of type 'str'"
     ]
    }
   ],
   "source": [
    "letter*3*'h'"
   ]
  },
  {
   "cell_type": "code",
   "execution_count": 55,
   "id": "5f4c30f6",
   "metadata": {},
   "outputs": [
    {
     "data": {
      "text/plain": [
       "'this can also be a string'"
      ]
     },
     "execution_count": 55,
     "metadata": {},
     "output_type": "execute_result"
    }
   ],
   "source": [
    "sentance"
   ]
  },
  {
   "cell_type": "code",
   "execution_count": 56,
   "id": "7cff24b4",
   "metadata": {},
   "outputs": [
    {
     "data": {
      "text/plain": [
       "'THIS CAN ALSO BE A STRING'"
      ]
     },
     "execution_count": 56,
     "metadata": {},
     "output_type": "execute_result"
    }
   ],
   "source": [
    "sentance.upper()"
   ]
  },
  {
   "cell_type": "code",
   "execution_count": 57,
   "id": "dd74efe9",
   "metadata": {},
   "outputs": [
    {
     "data": {
      "text/plain": [
       "'this can also be a string'"
      ]
     },
     "execution_count": 57,
     "metadata": {},
     "output_type": "execute_result"
    }
   ],
   "source": [
    "sentance"
   ]
  },
  {
   "cell_type": "code",
   "execution_count": 58,
   "id": "88f11e6e",
   "metadata": {},
   "outputs": [
    {
     "data": {
      "text/plain": [
       "['this', 'can', 'also', 'be', 'a', 'string']"
      ]
     },
     "execution_count": 58,
     "metadata": {},
     "output_type": "execute_result"
    }
   ],
   "source": [
    "sentance.split()"
   ]
  },
  {
   "cell_type": "code",
   "execution_count": 59,
   "id": "964ab9ad",
   "metadata": {},
   "outputs": [
    {
     "data": {
      "text/plain": [
       "['this c', 'n ', 'lso be ', ' string']"
      ]
     },
     "execution_count": 59,
     "metadata": {},
     "output_type": "execute_result"
    }
   ],
   "source": [
    "sentance.split('a')"
   ]
  },
  {
   "cell_type": "code",
   "execution_count": 60,
   "id": "6b7bea71",
   "metadata": {},
   "outputs": [
    {
     "data": {
      "text/plain": [
       "'this can also be a string'"
      ]
     },
     "execution_count": 60,
     "metadata": {},
     "output_type": "execute_result"
    }
   ],
   "source": [
    "sentance"
   ]
  },
  {
   "cell_type": "markdown",
   "id": "3164154a",
   "metadata": {},
   "source": [
    "___________________________________________________________________________________________________________"
   ]
  },
  {
   "cell_type": "markdown",
   "id": "5896e361",
   "metadata": {},
   "source": [
    "Print methods: f-string and .format"
   ]
  },
  {
   "cell_type": "code",
   "execution_count": 61,
   "id": "957a9e86",
   "metadata": {},
   "outputs": [
    {
     "name": "stdout",
     "output_type": "stream",
     "text": [
      "This is .format method\n"
     ]
    }
   ],
   "source": [
    "print('This is {} {}'.format('.format', 'method'))"
   ]
  },
  {
   "cell_type": "code",
   "execution_count": 63,
   "id": "a84be1fd",
   "metadata": {},
   "outputs": [
    {
     "name": "stdout",
     "output_type": "stream",
     "text": [
      "It can also be done this way\n"
     ]
    }
   ],
   "source": [
    "print('It can {1} {0} done {t} way'.format('be', 'also', t='this'))"
   ]
  },
  {
   "cell_type": "code",
   "execution_count": 64,
   "id": "6c51e45b",
   "metadata": {},
   "outputs": [
    {
     "ename": "IndexError",
     "evalue": "Replacement index 1 out of range for positional args tuple",
     "output_type": "error",
     "traceback": [
      "\u001b[0;31m---------------------------------------------------------------------------\u001b[0m",
      "\u001b[0;31mIndexError\u001b[0m                                Traceback (most recent call last)",
      "Cell \u001b[0;32mIn[64], line 1\u001b[0m\n\u001b[0;32m----> 1\u001b[0m \u001b[38;5;28mprint\u001b[39m(\u001b[38;5;124;43m'\u001b[39;49m\u001b[38;5;124;43mBut it doesnt \u001b[39;49m\u001b[38;5;132;43;01m{}\u001b[39;49;00m\u001b[38;5;124;43m \u001b[39;49m\u001b[38;5;132;43;01m{}\u001b[39;49;00m\u001b[38;5;124;43m'\u001b[39;49m\u001b[38;5;241;43m.\u001b[39;49m\u001b[43mformat\u001b[49m\u001b[43m(\u001b[49m\u001b[38;5;124;43m'\u001b[39;49m\u001b[38;5;124;43msupport this\u001b[39;49m\u001b[38;5;124;43m'\u001b[39;49m\u001b[43m)\u001b[49m)\n",
      "\u001b[0;31mIndexError\u001b[0m: Replacement index 1 out of range for positional args tuple"
     ]
    }
   ],
   "source": [
    "print('But it doesnt {} {}'.format('support this'))"
   ]
  },
  {
   "cell_type": "code",
   "execution_count": 73,
   "id": "c847284f",
   "metadata": {},
   "outputs": [],
   "source": [
    "fstr='string slicing'"
   ]
  },
  {
   "cell_type": "code",
   "execution_count": 74,
   "id": "7fd575f2",
   "metadata": {},
   "outputs": [
    {
     "ename": "AttributeError",
     "evalue": "'str' object has no attribute 'split()'",
     "output_type": "error",
     "traceback": [
      "\u001b[0;31m---------------------------------------------------------------------------\u001b[0m",
      "\u001b[0;31mAttributeError\u001b[0m                            Traceback (most recent call last)",
      "Cell \u001b[0;32mIn[74], line 1\u001b[0m\n\u001b[0;32m----> 1\u001b[0m \u001b[38;5;28mprint\u001b[39m(\u001b[38;5;124;43m'\u001b[39;49m\u001b[38;5;124;43mAlso the case with \u001b[39;49m\u001b[38;5;124;43m{\u001b[39;49m\u001b[38;5;124;43mf.split()[0]} \u001b[39;49m\u001b[38;5;124;43m{\u001b[39;49m\u001b[38;5;124;43mf.split()[1]}\u001b[39;49m\u001b[38;5;124;43m'\u001b[39;49m\u001b[38;5;241;43m.\u001b[39;49m\u001b[43mformat\u001b[49m\u001b[43m(\u001b[49m\u001b[43mf\u001b[49m\u001b[38;5;241;43m=\u001b[39;49m\u001b[43mfstr\u001b[49m\u001b[43m)\u001b[49m)\n",
      "\u001b[0;31mAttributeError\u001b[0m: 'str' object has no attribute 'split()'"
     ]
    }
   ],
   "source": [
    "print('Also the case with {f.split()[0]} {f.split()[1]}'.format(f=fstr))"
   ]
  },
  {
   "cell_type": "code",
   "execution_count": 72,
   "id": "d56a463f",
   "metadata": {},
   "outputs": [
    {
     "data": {
      "text/plain": [
       "'string'"
      ]
     },
     "execution_count": 72,
     "metadata": {},
     "output_type": "execute_result"
    }
   ],
   "source": [
    "f.split()[0]"
   ]
  },
  {
   "cell_type": "code",
   "execution_count": 77,
   "id": "c4845ace",
   "metadata": {},
   "outputs": [
    {
     "data": {
      "text/plain": [
       "31.428571428571427"
      ]
     },
     "execution_count": 77,
     "metadata": {},
     "output_type": "execute_result"
    }
   ],
   "source": [
    "value=220/7\n",
    "value"
   ]
  },
  {
   "cell_type": "code",
   "execution_count": 79,
   "id": "751b7ab5",
   "metadata": {},
   "outputs": [
    {
     "name": "stdout",
     "output_type": "stream",
     "text": [
      "Value of Pie = 31.429/10\n"
     ]
    }
   ],
   "source": [
    "print('Value of Pie = {v:1.3f}/10'.format(v=value))"
   ]
  },
  {
   "cell_type": "code",
   "execution_count": 80,
   "id": "27238e4f",
   "metadata": {},
   "outputs": [],
   "source": [
    "par='Pie'\n",
    "p=22/7"
   ]
  },
  {
   "cell_type": "code",
   "execution_count": 81,
   "id": "6631a43b",
   "metadata": {},
   "outputs": [
    {
     "name": "stdout",
     "output_type": "stream",
     "text": [
      "Value of Pie = 3.143\n"
     ]
    }
   ],
   "source": [
    "print(f'Value of {par} = {p:1.3f}')"
   ]
  },
  {
   "cell_type": "code",
   "execution_count": 82,
   "id": "6f70e9cf",
   "metadata": {},
   "outputs": [
    {
     "data": {
      "text/plain": [
       "'string slicing'"
      ]
     },
     "execution_count": 82,
     "metadata": {},
     "output_type": "execute_result"
    }
   ],
   "source": [
    "fstr"
   ]
  },
  {
   "cell_type": "code",
   "execution_count": 83,
   "id": "350028b0",
   "metadata": {},
   "outputs": [
    {
     "name": "stdout",
     "output_type": "stream",
     "text": [
      "string slicing is possible by this method\n"
     ]
    }
   ],
   "source": [
    "print(f'{fstr.split()[0]} {fstr.split()[1]} is possible by this method')"
   ]
  },
  {
   "cell_type": "markdown",
   "id": "3e145206",
   "metadata": {},
   "source": [
    "_______________________________________________________________________________________________________________"
   ]
  },
  {
   "cell_type": "markdown",
   "id": "af456966",
   "metadata": {},
   "source": [
    "Lists"
   ]
  },
  {
   "cell_type": "code",
   "execution_count": 84,
   "id": "6cdb99f3",
   "metadata": {},
   "outputs": [],
   "source": [
    "mylist=['string', 10.3, 53, ['list inside list', 69]]"
   ]
  },
  {
   "cell_type": "code",
   "execution_count": 85,
   "id": "a645cd32",
   "metadata": {},
   "outputs": [
    {
     "data": {
      "text/plain": [
       "['list inside list', 69]"
      ]
     },
     "execution_count": 85,
     "metadata": {},
     "output_type": "execute_result"
    }
   ],
   "source": [
    "mylist[3]"
   ]
  },
  {
   "cell_type": "code",
   "execution_count": 86,
   "id": "efc5a985",
   "metadata": {},
   "outputs": [
    {
     "data": {
      "text/plain": [
       "'list inside list'"
      ]
     },
     "execution_count": 86,
     "metadata": {},
     "output_type": "execute_result"
    }
   ],
   "source": [
    "mylist[3][0]"
   ]
  },
  {
   "cell_type": "code",
   "execution_count": 87,
   "id": "8d12c916",
   "metadata": {},
   "outputs": [],
   "source": [
    "new_list=['new items', 'concatenated']"
   ]
  },
  {
   "cell_type": "code",
   "execution_count": 88,
   "id": "6b85901f",
   "metadata": {},
   "outputs": [
    {
     "data": {
      "text/plain": [
       "['string', 10.3, 53, ['list inside list', 69], 'new items', 'concatenated']"
      ]
     },
     "execution_count": 88,
     "metadata": {},
     "output_type": "execute_result"
    }
   ],
   "source": [
    "mylist+new_list"
   ]
  },
  {
   "cell_type": "code",
   "execution_count": 89,
   "id": "b0bd1188",
   "metadata": {},
   "outputs": [],
   "source": [
    "new_list[1]='added'"
   ]
  },
  {
   "cell_type": "code",
   "execution_count": 90,
   "id": "81bae5ed",
   "metadata": {},
   "outputs": [
    {
     "data": {
      "text/plain": [
       "['new items', 'added']"
      ]
     },
     "execution_count": 90,
     "metadata": {},
     "output_type": "execute_result"
    }
   ],
   "source": [
    "new_list"
   ]
  },
  {
   "cell_type": "code",
   "execution_count": 91,
   "id": "376756e3",
   "metadata": {},
   "outputs": [
    {
     "ename": "IndexError",
     "evalue": "list assignment index out of range",
     "output_type": "error",
     "traceback": [
      "\u001b[0;31m---------------------------------------------------------------------------\u001b[0m",
      "\u001b[0;31mIndexError\u001b[0m                                Traceback (most recent call last)",
      "Cell \u001b[0;32mIn[91], line 1\u001b[0m\n\u001b[0;32m----> 1\u001b[0m new_list[\u001b[38;5;241m2\u001b[39m]\u001b[38;5;241m=\u001b[39m\u001b[38;5;124m'\u001b[39m\u001b[38;5;124magain\u001b[39m\u001b[38;5;124m'\u001b[39m\n\u001b[1;32m      2\u001b[0m new_list\n",
      "\u001b[0;31mIndexError\u001b[0m: list assignment index out of range"
     ]
    }
   ],
   "source": [
    "new_list[2]='again'\n",
    "new_list"
   ]
  },
  {
   "cell_type": "code",
   "execution_count": 92,
   "id": "274c5154",
   "metadata": {},
   "outputs": [
    {
     "data": {
      "text/plain": [
       "['new items', 'added', 'again']"
      ]
     },
     "execution_count": 92,
     "metadata": {},
     "output_type": "execute_result"
    }
   ],
   "source": [
    "new_list.append('again')\n",
    "new_list"
   ]
  },
  {
   "cell_type": "code",
   "execution_count": 93,
   "id": "3f8b04de",
   "metadata": {},
   "outputs": [
    {
     "ename": "TypeError",
     "evalue": "can only concatenate list (not \"str\") to list",
     "output_type": "error",
     "traceback": [
      "\u001b[0;31m---------------------------------------------------------------------------\u001b[0m",
      "\u001b[0;31mTypeError\u001b[0m                                 Traceback (most recent call last)",
      "Cell \u001b[0;32mIn[93], line 1\u001b[0m\n\u001b[0;32m----> 1\u001b[0m \u001b[43mnew_list\u001b[49m\u001b[38;5;241;43m+\u001b[39;49m\u001b[38;5;124;43m'\u001b[39;49m\u001b[38;5;124;43mnot this time\u001b[39;49m\u001b[38;5;124;43m'\u001b[39;49m\n",
      "\u001b[0;31mTypeError\u001b[0m: can only concatenate list (not \"str\") to list"
     ]
    }
   ],
   "source": [
    "new_list+'not this time'"
   ]
  },
  {
   "cell_type": "code",
   "execution_count": 95,
   "id": "cf3dfb9a",
   "metadata": {},
   "outputs": [
    {
     "ename": "TypeError",
     "evalue": "can only concatenate list (not \"str\") to list",
     "output_type": "error",
     "traceback": [
      "\u001b[0;31m---------------------------------------------------------------------------\u001b[0m",
      "\u001b[0;31mTypeError\u001b[0m                                 Traceback (most recent call last)",
      "Cell \u001b[0;32mIn[95], line 1\u001b[0m\n\u001b[0;32m----> 1\u001b[0m \u001b[38;5;28mprint\u001b[39m(\u001b[43mnew_list\u001b[49m\u001b[38;5;241;43m+\u001b[39;49m\u001b[38;5;124;43m'\u001b[39;49m\u001b[38;5;124;43mnot this time\u001b[39;49m\u001b[38;5;124;43m'\u001b[39;49m)\n",
      "\u001b[0;31mTypeError\u001b[0m: can only concatenate list (not \"str\") to list"
     ]
    }
   ],
   "source": [
    "print(new_list+'not this time')"
   ]
  },
  {
   "cell_type": "code",
   "execution_count": 96,
   "id": "abba3eff",
   "metadata": {},
   "outputs": [
    {
     "data": {
      "text/plain": [
       "'again'"
      ]
     },
     "execution_count": 96,
     "metadata": {},
     "output_type": "execute_result"
    }
   ],
   "source": [
    "new_list.pop()"
   ]
  },
  {
   "cell_type": "code",
   "execution_count": 97,
   "id": "23d7b341",
   "metadata": {},
   "outputs": [
    {
     "data": {
      "text/plain": [
       "10.3"
      ]
     },
     "execution_count": 97,
     "metadata": {},
     "output_type": "execute_result"
    }
   ],
   "source": [
    "mylist.pop(1)"
   ]
  },
  {
   "cell_type": "code",
   "execution_count": 98,
   "id": "f62830d2",
   "metadata": {},
   "outputs": [
    {
     "name": "stdout",
     "output_type": "stream",
     "text": [
      "['string', 53, ['list inside list', 69], 'new items', 'added']\n"
     ]
    }
   ],
   "source": [
    "print(mylist+new_list)"
   ]
  },
  {
   "cell_type": "code",
   "execution_count": 101,
   "id": "716cf9bd",
   "metadata": {},
   "outputs": [],
   "source": [
    "mylist=['r','t','v','a','g']"
   ]
  },
  {
   "cell_type": "code",
   "execution_count": 102,
   "id": "68867095",
   "metadata": {},
   "outputs": [],
   "source": [
    "mylist.sort()"
   ]
  },
  {
   "cell_type": "code",
   "execution_count": 103,
   "id": "fff2dfa3",
   "metadata": {},
   "outputs": [
    {
     "data": {
      "text/plain": [
       "['a', 'g', 'r', 't', 'v']"
      ]
     },
     "execution_count": 103,
     "metadata": {},
     "output_type": "execute_result"
    }
   ],
   "source": [
    "mylist"
   ]
  },
  {
   "cell_type": "code",
   "execution_count": 1,
   "id": "fb098e0a",
   "metadata": {},
   "outputs": [
    {
     "data": {
      "text/plain": [
       "['a', 'g', 'r', 't', 'v']"
      ]
     },
     "execution_count": 1,
     "metadata": {},
     "output_type": "execute_result"
    }
   ],
   "source": [
    "mylist=['r','t','v','a','g']\n",
    "sorted(mylist)"
   ]
  },
  {
   "cell_type": "code",
   "execution_count": 2,
   "id": "3b98787d",
   "metadata": {},
   "outputs": [
    {
     "data": {
      "text/plain": [
       "['r', 't', 'v', 'a', 'g']"
      ]
     },
     "execution_count": 2,
     "metadata": {},
     "output_type": "execute_result"
    }
   ],
   "source": [
    "mylist"
   ]
  },
  {
   "cell_type": "code",
   "execution_count": 104,
   "id": "cb032177",
   "metadata": {},
   "outputs": [],
   "source": [
    "mylist.remove('g')"
   ]
  },
  {
   "cell_type": "code",
   "execution_count": 105,
   "id": "59d2c739",
   "metadata": {},
   "outputs": [
    {
     "data": {
      "text/plain": [
       "['a', 'r', 't', 'v']"
      ]
     },
     "execution_count": 105,
     "metadata": {},
     "output_type": "execute_result"
    }
   ],
   "source": [
    "mylist"
   ]
  },
  {
   "cell_type": "code",
   "execution_count": 106,
   "id": "82073a46",
   "metadata": {},
   "outputs": [],
   "source": [
    "mylist.reverse()"
   ]
  },
  {
   "cell_type": "code",
   "execution_count": 107,
   "id": "4f8202cb",
   "metadata": {},
   "outputs": [
    {
     "data": {
      "text/plain": [
       "['v', 't', 'r', 'a']"
      ]
     },
     "execution_count": 107,
     "metadata": {},
     "output_type": "execute_result"
    }
   ],
   "source": [
    "mylist"
   ]
  },
  {
   "cell_type": "code",
   "execution_count": 108,
   "id": "3a210e72",
   "metadata": {},
   "outputs": [
    {
     "data": {
      "text/plain": [
       "['r', 't', 'v']"
      ]
     },
     "execution_count": 108,
     "metadata": {},
     "output_type": "execute_result"
    }
   ],
   "source": [
    "mylist[2::-1]"
   ]
  },
  {
   "cell_type": "code",
   "execution_count": 109,
   "id": "f1ad3eab",
   "metadata": {},
   "outputs": [
    {
     "data": {
      "text/plain": [
       "['v', 't', 'r', 'a']"
      ]
     },
     "execution_count": 109,
     "metadata": {},
     "output_type": "execute_result"
    }
   ],
   "source": [
    "mylist"
   ]
  },
  {
   "cell_type": "markdown",
   "id": "111d3bdf",
   "metadata": {},
   "source": [
    "_______________________________________________________________________________________________________________"
   ]
  },
  {
   "cell_type": "markdown",
   "id": "dafe3faa",
   "metadata": {},
   "source": [
    "Dictionaries"
   ]
  },
  {
   "cell_type": "code",
   "execution_count": 7,
   "id": "0f28b06a",
   "metadata": {},
   "outputs": [],
   "source": [
    "d={'Apple':60, 'Mango':80, 'Watermelon':30}"
   ]
  },
  {
   "cell_type": "code",
   "execution_count": 2,
   "id": "bfa48b8b",
   "metadata": {},
   "outputs": [
    {
     "data": {
      "text/plain": [
       "60"
      ]
     },
     "execution_count": 2,
     "metadata": {},
     "output_type": "execute_result"
    }
   ],
   "source": [
    "d['Apple']"
   ]
  },
  {
   "cell_type": "code",
   "execution_count": 3,
   "id": "5a004418",
   "metadata": {},
   "outputs": [],
   "source": [
    "d['Apple']=50"
   ]
  },
  {
   "cell_type": "code",
   "execution_count": 4,
   "id": "acd17acb",
   "metadata": {},
   "outputs": [
    {
     "data": {
      "text/plain": [
       "{'Apple': 50, 'Mango': 80, 'Watermelon': 30}"
      ]
     },
     "execution_count": 4,
     "metadata": {},
     "output_type": "execute_result"
    }
   ],
   "source": [
    "d"
   ]
  },
  {
   "cell_type": "code",
   "execution_count": 6,
   "id": "ff54cb01",
   "metadata": {},
   "outputs": [],
   "source": [
    "menu={'South Indian':['Idli', 'Dose', 'Uppittu'],'North Indian':{'Roti':25, 'Poori':35}}"
   ]
  },
  {
   "cell_type": "code",
   "execution_count": 7,
   "id": "706c3c30",
   "metadata": {},
   "outputs": [
    {
     "data": {
      "text/plain": [
       "{'South Indian': ['Idli', 'Dose', 'Uppittu'],\n",
       " 'North Indian': {'Roti': 25, 'Poori': 35}}"
      ]
     },
     "execution_count": 7,
     "metadata": {},
     "output_type": "execute_result"
    }
   ],
   "source": [
    "menu"
   ]
  },
  {
   "cell_type": "code",
   "execution_count": 8,
   "id": "1e8c298b",
   "metadata": {},
   "outputs": [
    {
     "data": {
      "text/plain": [
       "25"
      ]
     },
     "execution_count": 8,
     "metadata": {},
     "output_type": "execute_result"
    }
   ],
   "source": [
    "menu['North Indian']['Roti']"
   ]
  },
  {
   "cell_type": "code",
   "execution_count": 9,
   "id": "26a5bdf7",
   "metadata": {},
   "outputs": [
    {
     "data": {
      "text/plain": [
       "dict_items([('South Indian', ['Idli', 'Dose', 'Uppittu']), ('North Indian', {'Roti': 25, 'Poori': 35})])"
      ]
     },
     "execution_count": 9,
     "metadata": {},
     "output_type": "execute_result"
    }
   ],
   "source": [
    "menu.items()"
   ]
  },
  {
   "cell_type": "code",
   "execution_count": 10,
   "id": "14bd808e",
   "metadata": {},
   "outputs": [],
   "source": [
    "todays_menu=menu.values()"
   ]
  },
  {
   "cell_type": "code",
   "execution_count": 11,
   "id": "a4f7fb63",
   "metadata": {},
   "outputs": [
    {
     "data": {
      "text/plain": [
       "dict_values([['Idli', 'Dose', 'Uppittu'], {'Roti': 25, 'Poori': 35}])"
      ]
     },
     "execution_count": 11,
     "metadata": {},
     "output_type": "execute_result"
    }
   ],
   "source": [
    "todays_menu"
   ]
  },
  {
   "cell_type": "code",
   "execution_count": 13,
   "id": "b983a1e8",
   "metadata": {},
   "outputs": [
    {
     "ename": "TypeError",
     "evalue": "'dict_values' object is not subscriptable",
     "output_type": "error",
     "traceback": [
      "\u001b[0;31m---------------------------------------------------------------------------\u001b[0m",
      "\u001b[0;31mTypeError\u001b[0m                                 Traceback (most recent call last)",
      "Cell \u001b[0;32mIn[13], line 1\u001b[0m\n\u001b[0;32m----> 1\u001b[0m \u001b[43mtodays_menu\u001b[49m\u001b[43m[\u001b[49m\u001b[38;5;241;43m0\u001b[39;49m\u001b[43m]\u001b[49m[\u001b[38;5;241m1\u001b[39m]\n",
      "\u001b[0;31mTypeError\u001b[0m: 'dict_values' object is not subscriptable"
     ]
    }
   ],
   "source": [
    "todays_menu[0][1]"
   ]
  },
  {
   "cell_type": "code",
   "execution_count": 3,
   "id": "95fca04a",
   "metadata": {},
   "outputs": [
    {
     "data": {
      "text/plain": [
       "{'Apple': 60, 'Mango': 80, 'Watermelon': 30}"
      ]
     },
     "execution_count": 3,
     "metadata": {},
     "output_type": "execute_result"
    }
   ],
   "source": [
    "d"
   ]
  },
  {
   "cell_type": "code",
   "execution_count": 20,
   "id": "74f00c48",
   "metadata": {},
   "outputs": [
    {
     "data": {
      "text/plain": [
       "dict_keys(['Apple', 'Mango', 'Watermelon'])"
      ]
     },
     "execution_count": 20,
     "metadata": {},
     "output_type": "execute_result"
    }
   ],
   "source": [
    "d.keys()"
   ]
  },
  {
   "cell_type": "code",
   "execution_count": 21,
   "id": "d8de5524",
   "metadata": {},
   "outputs": [
    {
     "data": {
      "text/plain": [
       "dict_keys"
      ]
     },
     "execution_count": 21,
     "metadata": {},
     "output_type": "execute_result"
    }
   ],
   "source": [
    "type(d.keys())"
   ]
  },
  {
   "cell_type": "code",
   "execution_count": 22,
   "id": "eaa235f9",
   "metadata": {},
   "outputs": [
    {
     "data": {
      "text/plain": [
       "dict_values"
      ]
     },
     "execution_count": 22,
     "metadata": {},
     "output_type": "execute_result"
    }
   ],
   "source": [
    "type(todays_menu)"
   ]
  },
  {
   "cell_type": "code",
   "execution_count": 23,
   "id": "e57792c4",
   "metadata": {},
   "outputs": [
    {
     "data": {
      "text/plain": [
       "dict"
      ]
     },
     "execution_count": 23,
     "metadata": {},
     "output_type": "execute_result"
    }
   ],
   "source": [
    "type(d)"
   ]
  },
  {
   "cell_type": "code",
   "execution_count": 8,
   "id": "9d8cda9b",
   "metadata": {},
   "outputs": [
    {
     "data": {
      "text/plain": [
       "{'Apple': 60, 'Mango': 80, 'Watermelon': 30}"
      ]
     },
     "execution_count": 8,
     "metadata": {},
     "output_type": "execute_result"
    }
   ],
   "source": [
    "d"
   ]
  },
  {
   "cell_type": "code",
   "execution_count": 10,
   "id": "f498969d",
   "metadata": {},
   "outputs": [],
   "source": [
    "d.update({'Orange':75})"
   ]
  },
  {
   "cell_type": "code",
   "execution_count": 11,
   "id": "7424acd9",
   "metadata": {},
   "outputs": [
    {
     "data": {
      "text/plain": [
       "{'Apple': 60, 'Mango': 80, 'Watermelon': 30, 'Orange': 75}"
      ]
     },
     "execution_count": 11,
     "metadata": {},
     "output_type": "execute_result"
    }
   ],
   "source": [
    "d"
   ]
  },
  {
   "cell_type": "code",
   "execution_count": 12,
   "id": "6ca3999d",
   "metadata": {},
   "outputs": [],
   "source": [
    "d.update({'Apple':65})"
   ]
  },
  {
   "cell_type": "code",
   "execution_count": 13,
   "id": "6c481eb3",
   "metadata": {},
   "outputs": [
    {
     "data": {
      "text/plain": [
       "{'Apple': 65, 'Mango': 80, 'Watermelon': 30, 'Orange': 75}"
      ]
     },
     "execution_count": 13,
     "metadata": {},
     "output_type": "execute_result"
    }
   ],
   "source": [
    "d"
   ]
  },
  {
   "cell_type": "code",
   "execution_count": 14,
   "id": "2d78a02c",
   "metadata": {},
   "outputs": [],
   "source": [
    "var='Butterfruit'"
   ]
  },
  {
   "cell_type": "code",
   "execution_count": 15,
   "id": "724ffa8d",
   "metadata": {},
   "outputs": [],
   "source": [
    "d.update({var:120})"
   ]
  },
  {
   "cell_type": "code",
   "execution_count": 16,
   "id": "94aba299",
   "metadata": {},
   "outputs": [
    {
     "data": {
      "text/plain": [
       "{'Apple': 65, 'Mango': 80, 'Watermelon': 30, 'Orange': 75, 'Butterfruit': 120}"
      ]
     },
     "execution_count": 16,
     "metadata": {},
     "output_type": "execute_result"
    }
   ],
   "source": [
    "d"
   ]
  },
  {
   "cell_type": "markdown",
   "id": "33a0f98f",
   "metadata": {},
   "source": [
    "_______________________________________________________________________________________"
   ]
  },
  {
   "cell_type": "markdown",
   "id": "0c582897",
   "metadata": {},
   "source": [
    "Tuples and Sets"
   ]
  },
  {
   "cell_type": "code",
   "execution_count": 38,
   "id": "9a6af9f6",
   "metadata": {},
   "outputs": [],
   "source": [
    "t=(3, 'October', 2000.00)"
   ]
  },
  {
   "cell_type": "code",
   "execution_count": 28,
   "id": "1c64d6d5",
   "metadata": {},
   "outputs": [
    {
     "ename": "TypeError",
     "evalue": "'tuple' object does not support item assignment",
     "output_type": "error",
     "traceback": [
      "\u001b[0;31m---------------------------------------------------------------------------\u001b[0m",
      "\u001b[0;31mTypeError\u001b[0m                                 Traceback (most recent call last)",
      "Cell \u001b[0;32mIn[28], line 1\u001b[0m\n\u001b[0;32m----> 1\u001b[0m t[\u001b[38;5;241m2\u001b[39m]\u001b[38;5;241m=\u001b[39m\u001b[38;5;241m2023\u001b[39m\n",
      "\u001b[0;31mTypeError\u001b[0m: 'tuple' object does not support item assignment"
     ]
    }
   ],
   "source": [
    "t[2]=2023"
   ]
  },
  {
   "cell_type": "markdown",
   "id": "88dcab6e",
   "metadata": {},
   "source": [
    "Tuples have only 2 functions, count and index"
   ]
  },
  {
   "cell_type": "code",
   "execution_count": 87,
   "id": "d2f90f54",
   "metadata": {},
   "outputs": [
    {
     "data": {
      "text/plain": [
       "('gecwkej', 67532, 'jed', 768.12)"
      ]
     },
     "execution_count": 87,
     "metadata": {},
     "output_type": "execute_result"
    }
   ],
   "source": [
    "l=['gecwkej', 67532, 'jed', 768.12]\n",
    "t=tuple(l)\n",
    "t"
   ]
  },
  {
   "cell_type": "code",
   "execution_count": 29,
   "id": "c95413df",
   "metadata": {},
   "outputs": [],
   "source": [
    "myset=set()"
   ]
  },
  {
   "cell_type": "code",
   "execution_count": 30,
   "id": "619259a5",
   "metadata": {},
   "outputs": [],
   "source": [
    "myset.add(3)"
   ]
  },
  {
   "cell_type": "code",
   "execution_count": 31,
   "id": "8d9e59b1",
   "metadata": {},
   "outputs": [],
   "source": [
    "myset.add('october')"
   ]
  },
  {
   "cell_type": "code",
   "execution_count": 32,
   "id": "4fd7fb55",
   "metadata": {},
   "outputs": [],
   "source": [
    "myset.add(2000.00)"
   ]
  },
  {
   "cell_type": "code",
   "execution_count": 33,
   "id": "115ad4cd",
   "metadata": {},
   "outputs": [
    {
     "data": {
      "text/plain": [
       "{2000.0, 3, 'october'}"
      ]
     },
     "execution_count": 33,
     "metadata": {},
     "output_type": "execute_result"
    }
   ],
   "source": [
    "myset"
   ]
  },
  {
   "cell_type": "code",
   "execution_count": 34,
   "id": "1fd03dfe",
   "metadata": {},
   "outputs": [
    {
     "data": {
      "text/plain": [
       "2000.0"
      ]
     },
     "execution_count": 34,
     "metadata": {},
     "output_type": "execute_result"
    }
   ],
   "source": [
    "myset.pop()"
   ]
  },
  {
   "cell_type": "code",
   "execution_count": 35,
   "id": "d00d0eca",
   "metadata": {},
   "outputs": [],
   "source": [
    "myset.add(3)"
   ]
  },
  {
   "cell_type": "code",
   "execution_count": 36,
   "id": "32a81e96",
   "metadata": {},
   "outputs": [
    {
     "data": {
      "text/plain": [
       "{3, 'october'}"
      ]
     },
     "execution_count": 36,
     "metadata": {},
     "output_type": "execute_result"
    }
   ],
   "source": [
    "myset"
   ]
  },
  {
   "cell_type": "code",
   "execution_count": 40,
   "id": "e751f977",
   "metadata": {},
   "outputs": [
    {
     "data": {
      "text/plain": [
       "{2000.0, 3, 'October'}"
      ]
     },
     "execution_count": 40,
     "metadata": {},
     "output_type": "execute_result"
    }
   ],
   "source": [
    "set(t)"
   ]
  },
  {
   "cell_type": "code",
   "execution_count": 42,
   "id": "486cc7e0",
   "metadata": {},
   "outputs": [
    {
     "data": {
      "text/plain": [
       "{19, 1963, 'July'}"
      ]
     },
     "execution_count": 42,
     "metadata": {},
     "output_type": "execute_result"
    }
   ],
   "source": [
    "set(['July',19,1963])"
   ]
  },
  {
   "cell_type": "code",
   "execution_count": 43,
   "id": "5597256f",
   "metadata": {},
   "outputs": [
    {
     "data": {
      "text/plain": [
       "{'i', 'm', 'p', 's'}"
      ]
     },
     "execution_count": 43,
     "metadata": {},
     "output_type": "execute_result"
    }
   ],
   "source": [
    "set('mississippi')"
   ]
  },
  {
   "cell_type": "markdown",
   "id": "79a24149",
   "metadata": {},
   "source": [
    "__________________________________________________________________________________________"
   ]
  },
  {
   "cell_type": "markdown",
   "id": "8967f86f",
   "metadata": {},
   "source": [
    "Files I\\O"
   ]
  },
  {
   "cell_type": "code",
   "execution_count": 47,
   "id": "f12f8ab7",
   "metadata": {},
   "outputs": [
    {
     "ename": "SyntaxError",
     "evalue": "invalid syntax (319233612.py, line 4)",
     "output_type": "error",
     "traceback": [
      "\u001b[0;36m  Cell \u001b[0;32mIn[47], line 4\u001b[0;36m\u001b[0m\n\u001b[0;31m    This is my first text file written from python\u001b[0m\n\u001b[0m               ^\u001b[0m\n\u001b[0;31mSyntaxError\u001b[0m\u001b[0;31m:\u001b[0m invalid syntax\n"
     ]
    }
   ],
   "source": [
    "#this works only in jupyter notebook\n",
    "%%writefile TestFile.txt\n",
    "Jai Shree Raam\n",
    "This is my first text file written from python\n",
    "I hope I finish this course early as possible"
   ]
  },
  {
   "cell_type": "code",
   "execution_count": 48,
   "id": "ae0f8390",
   "metadata": {},
   "outputs": [
    {
     "name": "stdout",
     "output_type": "stream",
     "text": [
      "Writing TestFile.txt\n"
     ]
    }
   ],
   "source": [
    "%%writefile TestFile.txt\n",
    "Jai Shree Raam"
   ]
  },
  {
   "cell_type": "code",
   "execution_count": 56,
   "id": "e50fd7e6",
   "metadata": {},
   "outputs": [],
   "source": [
    "myfile=open('TestFile.txt')"
   ]
  },
  {
   "cell_type": "code",
   "execution_count": 51,
   "id": "a8e96c4c",
   "metadata": {},
   "outputs": [
    {
     "data": {
      "text/plain": [
       "['Jai Shree Raam\\n']"
      ]
     },
     "execution_count": 51,
     "metadata": {},
     "output_type": "execute_result"
    }
   ],
   "source": [
    "myfile.readlines()"
   ]
  },
  {
   "cell_type": "code",
   "execution_count": 54,
   "id": "542b9c19",
   "metadata": {},
   "outputs": [
    {
     "data": {
      "text/plain": [
       "'Jai Shree Raam\\n'"
      ]
     },
     "execution_count": 54,
     "metadata": {},
     "output_type": "execute_result"
    }
   ],
   "source": [
    "myfile.read()"
   ]
  },
  {
   "cell_type": "code",
   "execution_count": 57,
   "id": "6a18ac8f",
   "metadata": {},
   "outputs": [
    {
     "name": "stdout",
     "output_type": "stream",
     "text": [
      "Jai Shree Raam\n",
      "\n"
     ]
    }
   ],
   "source": [
    "print(myfile.read())"
   ]
  },
  {
   "cell_type": "code",
   "execution_count": 58,
   "id": "4e00a4a4",
   "metadata": {},
   "outputs": [
    {
     "data": {
      "text/plain": [
       "''"
      ]
     },
     "execution_count": 58,
     "metadata": {},
     "output_type": "execute_result"
    }
   ],
   "source": [
    "myfile.read()"
   ]
  },
  {
   "cell_type": "code",
   "execution_count": 59,
   "id": "250a33ca",
   "metadata": {},
   "outputs": [
    {
     "data": {
      "text/plain": [
       "0"
      ]
     },
     "execution_count": 59,
     "metadata": {},
     "output_type": "execute_result"
    }
   ],
   "source": [
    "myfile.seek(0)"
   ]
  },
  {
   "cell_type": "code",
   "execution_count": 60,
   "id": "c43e6b72",
   "metadata": {},
   "outputs": [
    {
     "data": {
      "text/plain": [
       "'Jai Shree Raam\\n'"
      ]
     },
     "execution_count": 60,
     "metadata": {},
     "output_type": "execute_result"
    }
   ],
   "source": [
    "myfile.read()"
   ]
  },
  {
   "cell_type": "code",
   "execution_count": 61,
   "id": "723c1b23",
   "metadata": {},
   "outputs": [
    {
     "data": {
      "text/plain": [
       "'/Users/suhasr/Desktop/PyNotes'"
      ]
     },
     "execution_count": 61,
     "metadata": {},
     "output_type": "execute_result"
    }
   ],
   "source": [
    "pwd"
   ]
  },
  {
   "cell_type": "code",
   "execution_count": 62,
   "id": "9ed09cfb",
   "metadata": {},
   "outputs": [],
   "source": [
    "myfile.close()"
   ]
  },
  {
   "cell_type": "code",
   "execution_count": 63,
   "id": "2c62b552",
   "metadata": {},
   "outputs": [
    {
     "name": "stdout",
     "output_type": "stream",
     "text": [
      "Jai Shree Raam\n",
      "\n"
     ]
    }
   ],
   "source": [
    "#to avoid open and close functions seperately, follow this method\n",
    "with open('TestFile.txt') as opened_file:\n",
    "    content=opened_file.read()\n",
    "    print(content)"
   ]
  },
  {
   "cell_type": "code",
   "execution_count": 65,
   "id": "d886c5ac",
   "metadata": {},
   "outputs": [
    {
     "ename": "ValueError",
     "evalue": "I/O operation on closed file.",
     "output_type": "error",
     "traceback": [
      "\u001b[0;31m---------------------------------------------------------------------------\u001b[0m",
      "\u001b[0;31mValueError\u001b[0m                                Traceback (most recent call last)",
      "Cell \u001b[0;32mIn[65], line 1\u001b[0m\n\u001b[0;32m----> 1\u001b[0m \u001b[38;5;28mprint\u001b[39m(\u001b[43mopened_file\u001b[49m\u001b[38;5;241;43m.\u001b[39;49m\u001b[43mread\u001b[49m\u001b[43m(\u001b[49m\u001b[43m)\u001b[49m)\n",
      "\u001b[0;31mValueError\u001b[0m: I/O operation on closed file."
     ]
    }
   ],
   "source": [
    "print(opened_file.read())"
   ]
  },
  {
   "cell_type": "code",
   "execution_count": 66,
   "id": "71f89ce0",
   "metadata": {},
   "outputs": [
    {
     "name": "stdout",
     "output_type": "stream",
     "text": [
      "Jai Shree Raam\n",
      "\n"
     ]
    }
   ],
   "source": [
    "#use mode='r' for read only file\n",
    "with open('TestFile.txt', mode='r') as read_file:\n",
    "    contnt=read_file.read()\n",
    "    print(contnt)"
   ]
  },
  {
   "cell_type": "code",
   "execution_count": 69,
   "id": "33a5877b",
   "metadata": {},
   "outputs": [
    {
     "ename": "UnsupportedOperation",
     "evalue": "not writable",
     "output_type": "error",
     "traceback": [
      "\u001b[0;31m---------------------------------------------------------------------------\u001b[0m",
      "\u001b[0;31mUnsupportedOperation\u001b[0m                      Traceback (most recent call last)",
      "Cell \u001b[0;32mIn[69], line 3\u001b[0m\n\u001b[1;32m      1\u001b[0m \u001b[38;5;66;03m#use mode='r' for read only file\u001b[39;00m\n\u001b[1;32m      2\u001b[0m \u001b[38;5;28;01mwith\u001b[39;00m \u001b[38;5;28mopen\u001b[39m(\u001b[38;5;124m'\u001b[39m\u001b[38;5;124mTestFile.txt\u001b[39m\u001b[38;5;124m'\u001b[39m, mode\u001b[38;5;241m=\u001b[39m\u001b[38;5;124m'\u001b[39m\u001b[38;5;124mr\u001b[39m\u001b[38;5;124m'\u001b[39m) \u001b[38;5;28;01mas\u001b[39;00m read_file:\n\u001b[0;32m----> 3\u001b[0m     content\u001b[38;5;241m=\u001b[39m\u001b[43mread_file\u001b[49m\u001b[38;5;241;43m.\u001b[39;49m\u001b[43mwrite\u001b[49m\u001b[43m(\u001b[49m\u001b[38;5;124;43m'\u001b[39;49m\u001b[38;5;124;43mJai Shri Raam\u001b[39;49m\u001b[38;5;124;43m'\u001b[39;49m\u001b[43m)\u001b[49m\n\u001b[1;32m      4\u001b[0m     \u001b[38;5;28mprint\u001b[39m(content)\n",
      "\u001b[0;31mUnsupportedOperation\u001b[0m: not writable"
     ]
    }
   ],
   "source": [
    "#use mode='r' for read only file\n",
    "with open('TestFile.txt', mode='r') as read_file:\n",
    "    content=read_file.write('Jai Shri Raam')\n",
    "    print(content)"
   ]
  },
  {
   "cell_type": "code",
   "execution_count": 76,
   "id": "9b0e9217",
   "metadata": {},
   "outputs": [
    {
     "name": "stdout",
     "output_type": "stream",
     "text": [
      "Jai Shri Raam\n"
     ]
    }
   ],
   "source": [
    "#use mode='w' for write only file, it erases previous content and writes from the beginning \n",
    "# or creates new file if it deosnt exist\n",
    "\n",
    "with open('TestFile.txt', mode='w') as write_file:\n",
    "    write_file.write('Jai Shri Raam')\n",
    "\n",
    "with open('TestFile.txt', mode='r') as read_file:\n",
    "    print(read_file.read())"
   ]
  },
  {
   "cell_type": "code",
   "execution_count": 77,
   "id": "ed94e222",
   "metadata": {},
   "outputs": [
    {
     "name": "stdout",
     "output_type": "stream",
     "text": [
      "Jai Shri RaamNamaste\n"
     ]
    }
   ],
   "source": [
    "#use mode='a' for append only file, it adds content to the end of the file\n",
    "with open('TestFile.txt', mode='a') as write_file:\n",
    "    write_file.write('Namaste')\n",
    "\n",
    "with open('TestFile.txt', mode='r') as read_file:\n",
    "    print(read_file.read())"
   ]
  },
  {
   "cell_type": "code",
   "execution_count": 80,
   "id": "88205175",
   "metadata": {},
   "outputs": [
    {
     "name": "stdout",
     "output_type": "stream",
     "text": [
      "Jai Shree Raam\n",
      "Namaste\n"
     ]
    }
   ],
   "source": [
    "#To avoid opening files multiple times to read or write, use 'r+' or 'w+'\n",
    "with open('TestFile.txt', mode='r+') as randw_file:\n",
    "    randw_file.write('Jai Shree Raam\\nNamaste')\n",
    "    randw_file.seek(0)\n",
    "    print(randw_file.read())"
   ]
  },
  {
   "cell_type": "code",
   "execution_count": null,
   "id": "8a8833ac",
   "metadata": {},
   "outputs": [],
   "source": []
  }
 ],
 "metadata": {
  "kernelspec": {
   "display_name": "Python 3 (ipykernel)",
   "language": "python",
   "name": "python3"
  },
  "language_info": {
   "codemirror_mode": {
    "name": "ipython",
    "version": 3
   },
   "file_extension": ".py",
   "mimetype": "text/x-python",
   "name": "python",
   "nbconvert_exporter": "python",
   "pygments_lexer": "ipython3",
   "version": "3.10.9"
  }
 },
 "nbformat": 4,
 "nbformat_minor": 5
}
