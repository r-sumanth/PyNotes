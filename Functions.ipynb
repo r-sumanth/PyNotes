{
 "cells": [
  {
   "cell_type": "markdown",
   "id": "e3f6f631",
   "metadata": {},
   "source": [
    "Methods and functions"
   ]
  },
  {
   "cell_type": "code",
   "execution_count": 1,
   "id": "c07214a2",
   "metadata": {},
   "outputs": [],
   "source": [
    "def first_function(name):\n",
    "    print('Hello '+ name)"
   ]
  },
  {
   "cell_type": "code",
   "execution_count": 2,
   "id": "1e819045",
   "metadata": {},
   "outputs": [
    {
     "name": "stdout",
     "output_type": "stream",
     "text": [
      "Hello SR\n"
     ]
    }
   ],
   "source": [
    "first_function('SR')"
   ]
  },
  {
   "cell_type": "code",
   "execution_count": 3,
   "id": "90e01d2b",
   "metadata": {},
   "outputs": [
    {
     "ename": "TypeError",
     "evalue": "first_function() missing 1 required positional argument: 'name'",
     "output_type": "error",
     "traceback": [
      "\u001b[0;31m---------------------------------------------------------------------------\u001b[0m",
      "\u001b[0;31mTypeError\u001b[0m                                 Traceback (most recent call last)",
      "Cell \u001b[0;32mIn[3], line 1\u001b[0m\n\u001b[0;32m----> 1\u001b[0m \u001b[43mfirst_function\u001b[49m\u001b[43m(\u001b[49m\u001b[43m)\u001b[49m\n",
      "\u001b[0;31mTypeError\u001b[0m: first_function() missing 1 required positional argument: 'name'"
     ]
    }
   ],
   "source": [
    "first_function()"
   ]
  },
  {
   "cell_type": "code",
   "execution_count": 5,
   "id": "a080dfd5",
   "metadata": {},
   "outputs": [],
   "source": [
    "def first_function(name='Default'):\n",
    "    print('Hello '+name)"
   ]
  },
  {
   "cell_type": "code",
   "execution_count": 6,
   "id": "b33ff9cb",
   "metadata": {},
   "outputs": [
    {
     "name": "stdout",
     "output_type": "stream",
     "text": [
      "Hello SR\n"
     ]
    }
   ],
   "source": [
    "first_function('SR')"
   ]
  },
  {
   "cell_type": "code",
   "execution_count": 7,
   "id": "5236c1a9",
   "metadata": {},
   "outputs": [
    {
     "name": "stdout",
     "output_type": "stream",
     "text": [
      "Hello Default\n"
     ]
    }
   ],
   "source": [
    "first_function()"
   ]
  },
  {
   "cell_type": "code",
   "execution_count": 8,
   "id": "4b611674",
   "metadata": {},
   "outputs": [],
   "source": [
    "def add_num(num1,num2):\n",
    "    return num1+num2"
   ]
  },
  {
   "cell_type": "code",
   "execution_count": 9,
   "id": "242e2374",
   "metadata": {},
   "outputs": [
    {
     "data": {
      "text/plain": [
       "8"
      ]
     },
     "execution_count": 9,
     "metadata": {},
     "output_type": "execute_result"
    }
   ],
   "source": [
    "add_num(5,3)"
   ]
  },
  {
   "cell_type": "code",
   "execution_count": 10,
   "id": "4e970186",
   "metadata": {},
   "outputs": [],
   "source": [
    "result=add_num(5,3)"
   ]
  },
  {
   "cell_type": "code",
   "execution_count": 11,
   "id": "2ed5edde",
   "metadata": {},
   "outputs": [
    {
     "data": {
      "text/plain": [
       "8"
      ]
     },
     "execution_count": 11,
     "metadata": {},
     "output_type": "execute_result"
    }
   ],
   "source": [
    "result"
   ]
  },
  {
   "cell_type": "code",
   "execution_count": 12,
   "id": "81e84d44",
   "metadata": {},
   "outputs": [
    {
     "data": {
      "text/plain": [
       "[1, 2, 3, 4, 5, 6]"
      ]
     },
     "execution_count": 12,
     "metadata": {},
     "output_type": "execute_result"
    }
   ],
   "source": [
    "add_num([1,2,3], [4,5,6])"
   ]
  },
  {
   "cell_type": "code",
   "execution_count": 13,
   "id": "0efe652b",
   "metadata": {},
   "outputs": [],
   "source": [
    "def even_check_list(num_list):\n",
    "    for num in num_list:\n",
    "        if num%2==0:\n",
    "            return True\n",
    "        else:\n",
    "            pass"
   ]
  },
  {
   "cell_type": "code",
   "execution_count": 14,
   "id": "a6f20f12",
   "metadata": {},
   "outputs": [
    {
     "data": {
      "text/plain": [
       "True"
      ]
     },
     "execution_count": 14,
     "metadata": {},
     "output_type": "execute_result"
    }
   ],
   "source": [
    "even_check_list([1,3,5,8])"
   ]
  },
  {
   "cell_type": "code",
   "execution_count": 15,
   "id": "eefc944d",
   "metadata": {},
   "outputs": [],
   "source": [
    "def even_check_list(num_list):\n",
    "    for num in num_list:\n",
    "        if num%2==0:\n",
    "            return True\n",
    "#return statement if exectued, breaks off the function"
   ]
  },
  {
   "cell_type": "code",
   "execution_count": 16,
   "id": "5cabd38c",
   "metadata": {},
   "outputs": [
    {
     "data": {
      "text/plain": [
       "True"
      ]
     },
     "execution_count": 16,
     "metadata": {},
     "output_type": "execute_result"
    }
   ],
   "source": [
    "even_check_list([1,3,5,8,9,5])"
   ]
  },
  {
   "cell_type": "code",
   "execution_count": 17,
   "id": "e03a3c51",
   "metadata": {},
   "outputs": [],
   "source": [
    "def even_list(num_list):\n",
    "    even_num=[]\n",
    "    for num in num_list:\n",
    "        if num%2==0:\n",
    "            even_num.append(num)\n",
    "    return even_num"
   ]
  },
  {
   "cell_type": "code",
   "execution_count": 18,
   "id": "2726f5df",
   "metadata": {},
   "outputs": [
    {
     "data": {
      "text/plain": [
       "[2, 4, 6]"
      ]
     },
     "execution_count": 18,
     "metadata": {},
     "output_type": "execute_result"
    }
   ],
   "source": [
    "even_list([1,2,3,4,5,6])"
   ]
  },
  {
   "cell_type": "code",
   "execution_count": 25,
   "id": "93d23215",
   "metadata": {},
   "outputs": [],
   "source": [
    "stocks_today={'Apple':850, 'Google':475, 'Microsoft':600}"
   ]
  },
  {
   "cell_type": "code",
   "execution_count": 64,
   "id": "bde1ba1c",
   "metadata": {},
   "outputs": [],
   "source": [
    "def buy_stocks(stocks_today):\n",
    "    purchasing_amount=int(input('Enter the purchasing amount: '))\n",
    "    print('Todays top 3 stocks : ')\n",
    "    for stock_name,stock_price in stocks_today.items():\n",
    "        print(f'{stock_name} : {stock_price}')\n",
    "        \n",
    "    inp=input('Enter your priority : ')\n",
    "    priority=tuple(inp.split(','))\n",
    "    \n",
    "    prioritised_stocks=[]\n",
    "    for i in priority:\n",
    "        prioritised_stocks.append(list(stocks_today.items())[int(i)-1])\n",
    "    \n",
    "    purchased_stocks={}\n",
    "    for stocks,price in prioritised_stocks:\n",
    "        quantity=0\n",
    "        while purchasing_amount>=price:\n",
    "            purchasing_amount-=price\n",
    "            quantity+=1\n",
    "            purchased_stocks.update({stocks:quantity})\n",
    "    \n",
    "    print('Summanry of your purchase: \\nStock Name\\tQuantity')\n",
    "    for stock,quantity in purchased_stocks.items():\n",
    "        print(f'{stock : <10}\\t{quantity: <10}')\n",
    "    print(f'Remaining amount: {purchasing_amount}')\n",
    "    "
   ]
  },
  {
   "cell_type": "code",
   "execution_count": 69,
   "id": "e2666c66",
   "metadata": {},
   "outputs": [
    {
     "name": "stdout",
     "output_type": "stream",
     "text": [
      "Enter the purchasing amount: 10000\n",
      "Todays top 3 stocks : \n",
      "Apple : 850\n",
      "Google : 475\n",
      "Microsoft : 600\n",
      "Enter your priority : 2,1,3\n",
      "Summanry of your purchase: \n",
      "Stock Name\tQuantity\n",
      "Google    \t21        \n",
      "Remaining amount: 25\n"
     ]
    }
   ],
   "source": [
    "buy_stocks(stocks_today)"
   ]
  },
  {
   "cell_type": "code",
   "execution_count": 2,
   "id": "a449f631",
   "metadata": {},
   "outputs": [],
   "source": [
    "def get_purchasing_amount():\n",
    "    return int(input('\\nEnter the purchasing amount: '))"
   ]
  },
  {
   "cell_type": "code",
   "execution_count": 3,
   "id": "20da4bf7",
   "metadata": {},
   "outputs": [],
   "source": [
    "def get_priority():\n",
    "    inp=input('\\nEnter your priority : ')\n",
    "    return tuple(inp.split(','))"
   ]
  },
  {
   "cell_type": "code",
   "execution_count": 4,
   "id": "46bc355f",
   "metadata": {},
   "outputs": [],
   "source": [
    "def sort_priority(priority,stocks_today):\n",
    "    prioritised_stocks=[]\n",
    "    for i in priority:\n",
    "        prioritised_stocks.append(list(stocks_today.items())[int(i)-1])\n",
    "    return prioritised_stocks"
   ]
  },
  {
   "cell_type": "code",
   "execution_count": 5,
   "id": "bc40d943",
   "metadata": {},
   "outputs": [],
   "source": [
    "def get_limit(prioritised_stocks):\n",
    "    inp=[]\n",
    "    for stocks,price in prioritised_stocks:\n",
    "        inp.append(int(input(f'\\nEnter the quantity limit for the purchase for {stocks} stocks: ')))\n",
    "    return inp"
   ]
  },
  {
   "cell_type": "code",
   "execution_count": 6,
   "id": "6d11f18a",
   "metadata": {},
   "outputs": [],
   "source": [
    "def purchase_stocks(prioritised_stocks,limit,purchasing_amount):\n",
    "    purchased_stocks={}\n",
    "    for (stocks,price),lim in zip(prioritised_stocks,limit):\n",
    "        quantity=0\n",
    "        while purchasing_amount>=price and quantity<lim:\n",
    "            purchasing_amount-=price\n",
    "            quantity+=1\n",
    "            purchased_stocks.update({stocks:quantity})\n",
    "    return purchased_stocks,purchasing_amount"
   ]
  },
  {
   "cell_type": "code",
   "execution_count": 8,
   "id": "7b565fd7",
   "metadata": {},
   "outputs": [
    {
     "name": "stdout",
     "output_type": "stream",
     "text": [
      "Todays top 3 stocks : \n",
      "Apple : 850\n",
      "Google : 475\n",
      "Microsoft : 600\n",
      "\n",
      "Enter the purchasing amount: 8850\n",
      "\n",
      "Enter your priority : 2,1,3\n",
      "\n",
      "Enter the quantity limit for the purchase for Google stocks: 10\n",
      "\n",
      "Enter the quantity limit for the purchase for Apple stocks: 5\n",
      "\n",
      "Enter the quantity limit for the purchase for Microsoft stocks: 8\n",
      "\n",
      "Summary of your purchase: \n",
      "Stock Name\tQuantity\n",
      "Google    \t10        \n",
      "Apple     \t4         \n",
      "Microsoft \t1         \n",
      "Remaining amount: 100\n"
     ]
    }
   ],
   "source": [
    "stocks_today={'Apple':850, 'Google':475, 'Microsoft':600}\n",
    "\n",
    "print('Todays top 3 stocks : ')\n",
    "for stock_name,stock_price in stocks_today.items():\n",
    "    print(f'{stock_name} : {stock_price}')\n",
    "        \n",
    "purchasing_amount=get_purchasing_amount()\n",
    "\n",
    "prioritised_stocks=sort_priority(get_priority(),stocks_today)\n",
    "\n",
    "limit=get_limit(prioritised_stocks)\n",
    "\n",
    "purchased_stocks,remaining_amount=purchase_stocks(prioritised_stocks,limit,purchasing_amount)\n",
    "\n",
    "print('\\nSummary of your purchase: \\nStock Name\\tQuantity')\n",
    "for stock,quantity in purchased_stocks.items():\n",
    "    print(f'{stock : <10}\\t{quantity: <10}')\n",
    "print(f'Remaining amount: {remaining_amount}')\n",
    "    "
   ]
  },
  {
   "cell_type": "markdown",
   "id": "d227299d",
   "metadata": {},
   "source": [
    "_________________________________________________________________________________________"
   ]
  },
  {
   "cell_type": "markdown",
   "id": "6b33769f",
   "metadata": {},
   "source": [
    "*args and **kwargs"
   ]
  },
  {
   "cell_type": "code",
   "execution_count": 15,
   "id": "85ed0b2f",
   "metadata": {},
   "outputs": [],
   "source": [
    "def args_func(*args):\n",
    "    squared_list=[]\n",
    "    for i in args:\n",
    "        squared_list.append(i**i)\n",
    "    return squared_list"
   ]
  },
  {
   "cell_type": "code",
   "execution_count": 18,
   "id": "9c1ba2de",
   "metadata": {},
   "outputs": [
    {
     "data": {
      "text/plain": [
       "[4, 3125, 16777216, 88817841970012523233890533447265625]"
      ]
     },
     "execution_count": 18,
     "metadata": {},
     "output_type": "execute_result"
    }
   ],
   "source": [
    "args_func(2,5,8,25)"
   ]
  },
  {
   "cell_type": "code",
   "execution_count": 24,
   "id": "5bae95e0",
   "metadata": {},
   "outputs": [],
   "source": [
    "def kwargs_func(**kwargs):\n",
    "    choice=input('Input your choice of cuisine: ')\n",
    "    if choice in kwargs.keys():\n",
    "        print(f'{kwargs[choice]}')\n",
    "    else:\n",
    "        print(f\"Sorry! :(\\n{choice} cuisine is not available\")"
   ]
  },
  {
   "cell_type": "code",
   "execution_count": 27,
   "id": "46d1152f",
   "metadata": {},
   "outputs": [
    {
     "name": "stdout",
     "output_type": "stream",
     "text": [
      "Input your choice of cuisine: French\n",
      "Sorry! :(\n",
      "French cuisine is not available\n"
     ]
    }
   ],
   "source": [
    "kwargs_func(SouthIndian='Idli, Dose, Upittu', NorthIndian='Poori, Poha, Roti')"
   ]
  },
  {
   "cell_type": "code",
   "execution_count": 57,
   "id": "dcecf36b",
   "metadata": {},
   "outputs": [],
   "source": [
    "from random import shuffle\n",
    "from random import randint\n",
    "\n",
    "def args_kwargs(*args, **kwargs):\n",
    "    keys=list(kwargs.keys())\n",
    "    shuffle(keys)\n",
    "    print(f'I would love {list(args)[randint(0,len(args)-1)]} {kwargs[keys[0]]}')\n",
    "    "
   ]
  },
  {
   "cell_type": "code",
   "execution_count": 61,
   "id": "1d9420b5",
   "metadata": {},
   "outputs": [
    {
     "name": "stdout",
     "output_type": "stream",
     "text": [
      "I would love 69 position\n"
     ]
    }
   ],
   "source": [
    "args_kwargs(78,53,69,83, key1='position', key2='k salary', key3='days leave')"
   ]
  },
  {
   "cell_type": "code",
   "execution_count": 62,
   "id": "1c389770",
   "metadata": {},
   "outputs": [
    {
     "ename": "SyntaxError",
     "evalue": "invalid syntax (3334082412.py, line 1)",
     "output_type": "error",
     "traceback": [
      "\u001b[0;36m  Cell \u001b[0;32mIn[62], line 1\u001b[0;36m\u001b[0m\n\u001b[0;31m    def try_arg_kwarg(*args,**kwargs,*args):\u001b[0m\n\u001b[0m                                     ^\u001b[0m\n\u001b[0;31mSyntaxError\u001b[0m\u001b[0;31m:\u001b[0m invalid syntax\n"
     ]
    }
   ],
   "source": [
    "def try_arg_kwarg(*args,**kwargs,*args):\n",
    "    print(args)\n",
    "    print(kwargs)"
   ]
  },
  {
   "cell_type": "markdown",
   "id": "4e1c6f31",
   "metadata": {},
   "source": [
    "_________________________"
   ]
  },
  {
   "cell_type": "markdown",
   "id": "7c2c077b",
   "metadata": {},
   "source": [
    "Lambda, Mapping and Filter "
   ]
  },
  {
   "cell_type": "code",
   "execution_count": 41,
   "id": "21e6261d",
   "metadata": {},
   "outputs": [],
   "source": [
    "co_ordinates=[76.2389,87.2193,12.2894,21.3874,12.3289,75.1379,13.9473,76.3134,81.3982,15.3819]"
   ]
  },
  {
   "cell_type": "code",
   "execution_count": 40,
   "id": "df3263d2",
   "metadata": {},
   "outputs": [],
   "source": [
    "def categorize(crd):\n",
    "    if int(crd) in range(74,79):\n",
    "        return 'lon'\n",
    "    elif int(crd) in range(11,19):\n",
    "        return 'lat'\n",
    "    else:\n",
    "        return 'spam'"
   ]
  },
  {
   "cell_type": "code",
   "execution_count": 42,
   "id": "9a4d209b",
   "metadata": {},
   "outputs": [
    {
     "data": {
      "text/plain": [
       "'lon'"
      ]
     },
     "execution_count": 42,
     "metadata": {},
     "output_type": "execute_result"
    }
   ],
   "source": [
    "categorize(76.2375)"
   ]
  },
  {
   "cell_type": "code",
   "execution_count": 43,
   "id": "dac042ec",
   "metadata": {},
   "outputs": [
    {
     "name": "stdout",
     "output_type": "stream",
     "text": [
      "[76.2389, 87.2193, 12.2894, 21.3874, 12.3289, 75.1379, 13.9473, 76.3134, 81.3982, 15.3819]\n",
      "['lon', 'spam', 'lat', 'spam', 'lat', 'lon', 'lat', 'lon', 'spam', 'lat']\n"
     ]
    }
   ],
   "source": [
    "print(co_ordinates)\n",
    "print(list(map(categorize,co_ordinates)))"
   ]
  },
  {
   "cell_type": "code",
   "execution_count": 45,
   "id": "f07df0e5",
   "metadata": {},
   "outputs": [
    {
     "name": "stdout",
     "output_type": "stream",
     "text": [
      "[(76.2389, 'lon'), (87.2193, 'spam'), (12.2894, 'lat'), (21.3874, 'spam'), (12.3289, 'lat'), (75.1379, 'lon'), (13.9473, 'lat'), (76.3134, 'lon'), (81.3982, 'spam'), (15.3819, 'lat')]\n"
     ]
    }
   ],
   "source": [
    "print(list(zip(co_ordinates,list(map(categorize,co_ordinates)))))"
   ]
  },
  {
   "cell_type": "code",
   "execution_count": 49,
   "id": "fc42fac5",
   "metadata": {},
   "outputs": [
    {
     "data": {
      "text/plain": [
       "['lon', 'spam', 'lat', 'spam', 'lat', 'lon', 'lat', 'lon', 'spam', 'lat']"
      ]
     },
     "execution_count": 49,
     "metadata": {},
     "output_type": "execute_result"
    }
   ],
   "source": [
    "category=list(map(categorize,co_ordinates))\n",
    "category"
   ]
  },
  {
   "cell_type": "code",
   "execution_count": 59,
   "id": "ec0957f0",
   "metadata": {},
   "outputs": [
    {
     "data": {
      "text/plain": [
       "{76.2389: 'lon',\n",
       " 87.2193: 'spam',\n",
       " 12.2894: 'lat',\n",
       " 21.3874: 'spam',\n",
       " 12.3289: 'lat',\n",
       " 75.1379: 'lon',\n",
       " 13.9473: 'lat',\n",
       " 76.3134: 'lon',\n",
       " 81.3982: 'spam',\n",
       " 15.3819: 'lat'}"
      ]
     },
     "execution_count": 59,
     "metadata": {},
     "output_type": "execute_result"
    }
   ],
   "source": [
    "categorized_coordinates={}\n",
    "for crd,cat in list(zip(co_ordinates,list(map(categorize,co_ordinates)))):\n",
    "    categorized_coordinates.update({crd:cat})\n",
    "categorized_coordinates"
   ]
  },
  {
   "cell_type": "code",
   "execution_count": 54,
   "id": "f3afaa62",
   "metadata": {},
   "outputs": [],
   "source": [
    "def fltr_lat(crd):\n",
    "    return int(crd) in range(11,19)"
   ]
  },
  {
   "cell_type": "code",
   "execution_count": 55,
   "id": "d764eaae",
   "metadata": {},
   "outputs": [
    {
     "data": {
      "text/plain": [
       "[12.2894, 12.3289, 13.9473, 15.3819]"
      ]
     },
     "execution_count": 55,
     "metadata": {},
     "output_type": "execute_result"
    }
   ],
   "source": [
    "list(filter(fltr_lat,co_ordinates))"
   ]
  },
  {
   "cell_type": "code",
   "execution_count": 60,
   "id": "21aca420",
   "metadata": {},
   "outputs": [],
   "source": [
    "def fltr_lon(crd):\n",
    "    return crd+1"
   ]
  },
  {
   "cell_type": "code",
   "execution_count": 61,
   "id": "367b34f7",
   "metadata": {},
   "outputs": [
    {
     "data": {
      "text/plain": [
       "[76.2389,\n",
       " 87.2193,\n",
       " 12.2894,\n",
       " 21.3874,\n",
       " 12.3289,\n",
       " 75.1379,\n",
       " 13.9473,\n",
       " 76.3134,\n",
       " 81.3982,\n",
       " 15.3819]"
      ]
     },
     "execution_count": 61,
     "metadata": {},
     "output_type": "execute_result"
    }
   ],
   "source": [
    "#doesnt work if function doesnt return a boolean\n",
    "list(filter(fltr_lon,co_ordinates))"
   ]
  },
  {
   "cell_type": "code",
   "execution_count": 74,
   "id": "e71d5cd4",
   "metadata": {},
   "outputs": [],
   "source": [
    "def filter_lat(crd):\n",
    "    return crd[1]=='lat'"
   ]
  },
  {
   "cell_type": "code",
   "execution_count": 75,
   "id": "c87e007b",
   "metadata": {},
   "outputs": [
    {
     "data": {
      "text/plain": [
       "True"
      ]
     },
     "execution_count": 75,
     "metadata": {},
     "output_type": "execute_result"
    }
   ],
   "source": [
    "filter_lat((15.3819,'lat'))"
   ]
  },
  {
   "cell_type": "code",
   "execution_count": 76,
   "id": "9856fa3c",
   "metadata": {},
   "outputs": [
    {
     "data": {
      "text/plain": [
       "[(12.2894, 'lat'), (12.3289, 'lat'), (13.9473, 'lat'), (15.3819, 'lat')]"
      ]
     },
     "execution_count": 76,
     "metadata": {},
     "output_type": "execute_result"
    }
   ],
   "source": [
    "list(filter(filter_lat,list(categorized_coordinates.items())))"
   ]
  },
  {
   "cell_type": "code",
   "execution_count": 66,
   "id": "e8c1543e",
   "metadata": {},
   "outputs": [
    {
     "data": {
      "text/plain": [
       "[(76.2389, 'lon'),\n",
       " (87.2193, 'spam'),\n",
       " (12.2894, 'lat'),\n",
       " (21.3874, 'spam'),\n",
       " (12.3289, 'lat'),\n",
       " (75.1379, 'lon'),\n",
       " (13.9473, 'lat'),\n",
       " (76.3134, 'lon'),\n",
       " (81.3982, 'spam'),\n",
       " (15.3819, 'lat')]"
      ]
     },
     "execution_count": 66,
     "metadata": {},
     "output_type": "execute_result"
    }
   ],
   "source": [
    "list(categorized_coordinates.items())"
   ]
  },
  {
   "cell_type": "code",
   "execution_count": 77,
   "id": "f1df1824",
   "metadata": {},
   "outputs": [],
   "source": [
    "def grab_values(val):\n",
    "    return val[0]"
   ]
  },
  {
   "cell_type": "code",
   "execution_count": 79,
   "id": "a01f1603",
   "metadata": {},
   "outputs": [
    {
     "data": {
      "text/plain": [
       "[12.2894, 12.3289, 13.9473, 15.3819]"
      ]
     },
     "execution_count": 79,
     "metadata": {},
     "output_type": "execute_result"
    }
   ],
   "source": [
    "latitudes=[x for x in map(grab_values,list(filter(filter_lat,list(categorized_coordinates.items()))))]\n",
    "latitudes"
   ]
  },
  {
   "cell_type": "code",
   "execution_count": 82,
   "id": "46d49f13",
   "metadata": {},
   "outputs": [
    {
     "data": {
      "text/plain": [
       "[76.2389, 75.1379, 76.3134]"
      ]
     },
     "execution_count": 82,
     "metadata": {},
     "output_type": "execute_result"
    }
   ],
   "source": [
    "longitudes=[x for x in map(lambda val: val[0],list(filter(lambda crd: crd[1]=='lon',list(categorized_coordinates.items()))))]\n",
    "longitudes"
   ]
  },
  {
   "cell_type": "code",
   "execution_count": 83,
   "id": "1ef50c1d",
   "metadata": {},
   "outputs": [
    {
     "data": {
      "text/plain": [
       "[87.2193, 21.3874, 81.3982]"
      ]
     },
     "execution_count": 83,
     "metadata": {},
     "output_type": "execute_result"
    }
   ],
   "source": [
    "spam_coordinates=[x for x in map(lambda val: val[0],list(filter(lambda crd: crd[1]=='spam',list(categorized_coordinates.items()))))]\n",
    "spam_coordinates"
   ]
  },
  {
   "cell_type": "markdown",
   "id": "5ecebffb",
   "metadata": {},
   "source": [
    "________________________"
   ]
  },
  {
   "cell_type": "code",
   "execution_count": 1,
   "id": "61b44c6b",
   "metadata": {},
   "outputs": [
    {
     "name": "stdout",
     "output_type": "stream",
     "text": [
      "Executed fun2, x=local\n",
      "Executed fun1, x=enclosing level\n",
      "Executed main, x=global\n"
     ]
    }
   ],
   "source": [
    "#global and local variables : LEGB <B:built-in>\n",
    "\n",
    "#global level\n",
    "x='global'\n",
    "\n",
    "def fun1():\n",
    "    \n",
    "    #enclocing level\n",
    "    x='enclosing level'\n",
    "    \n",
    "    def fun2():\n",
    "        \n",
    "        #local level\n",
    "        x='local'\n",
    "        print(f'Executed fun2, x={x}')\n",
    "        \n",
    "    fun2()\n",
    "    \n",
    "    print(f'Executed fun1, x={x}')\n",
    "    \n",
    "fun1()\n",
    "    \n",
    "print(f'Executed main, x={x}')"
   ]
  },
  {
   "cell_type": "code",
   "execution_count": 2,
   "id": "3f421372",
   "metadata": {},
   "outputs": [
    {
     "data": {
      "text/plain": [
       "'global'"
      ]
     },
     "execution_count": 2,
     "metadata": {},
     "output_type": "execute_result"
    }
   ],
   "source": [
    "x"
   ]
  },
  {
   "cell_type": "markdown",
   "id": "8e42814e",
   "metadata": {},
   "source": [
    "___"
   ]
  },
  {
   "cell_type": "code",
   "execution_count": 4,
   "id": "1e7a60e4",
   "metadata": {},
   "outputs": [
    {
     "name": "stdout",
     "output_type": "stream",
     "text": [
      "x=new global\n",
      "y=new global\n",
      "x=new global\n",
      "y=global\n"
     ]
    }
   ],
   "source": [
    "#reassignment of global variables\n",
    "x=y='global'\n",
    "\n",
    "def fun():\n",
    "    global x\n",
    "    \n",
    "    #reassignment\n",
    "    x=y='new global'\n",
    "    print(f'x={x}')\n",
    "    print(f'y={y}')\n",
    "    \n",
    "fun()\n",
    "    \n",
    "print(f'x={x}')\n",
    "print(f'y={y}')"
   ]
  },
  {
   "cell_type": "code",
   "execution_count": 6,
   "id": "aca47f5c",
   "metadata": {},
   "outputs": [
    {
     "name": "stdout",
     "output_type": "stream",
     "text": [
      "Global value: global\n",
      "new value\n",
      "Global value: new value\n"
     ]
    }
   ],
   "source": [
    "#another way of reassignment\n",
    "x='global'\n",
    "print(f'Global value: {x}')\n",
    "\n",
    "def func(x):\n",
    "    return input()\n",
    "\n",
    "x=func(x)\n",
    "print(f'Global value: {x}')"
   ]
  },
  {
   "cell_type": "code",
   "execution_count": 24,
   "id": "9aa7a490",
   "metadata": {},
   "outputs": [
    {
     "name": "stdout",
     "output_type": "stream",
     "text": [
      "Global value: global\n",
      "newglobal\n",
      "Global value: newglobal\n"
     ]
    }
   ],
   "source": [
    "x='global'\n",
    "print(f'Global value: {x}')\n",
    "\n",
    "\n",
    "x=lambda x: input()\n",
    "print(f\"Global value: {x('x')}\") #calling lambda function by passing an argument\n",
    "#can give anything at the argument as essentially its getting replaced by input()"
   ]
  },
  {
   "cell_type": "markdown",
   "id": "467e0ca8",
   "metadata": {},
   "source": [
    "___"
   ]
  },
  {
   "cell_type": "markdown",
   "id": "03e31223",
   "metadata": {},
   "source": [
    "Decorators"
   ]
  },
  {
   "cell_type": "code",
   "execution_count": 1,
   "id": "806f696d",
   "metadata": {},
   "outputs": [],
   "source": [
    "#a function defined inside a function cannot be called outside a function\n",
    "def main_function():\n",
    "    print('Main function')\n",
    "    \n",
    "    def sub_function():\n",
    "        print('Sub function')"
   ]
  },
  {
   "cell_type": "code",
   "execution_count": 2,
   "id": "bb981ddc",
   "metadata": {},
   "outputs": [
    {
     "name": "stdout",
     "output_type": "stream",
     "text": [
      "Main function\n"
     ]
    }
   ],
   "source": [
    "main_function()"
   ]
  },
  {
   "cell_type": "code",
   "execution_count": 3,
   "id": "d2f04b13",
   "metadata": {},
   "outputs": [
    {
     "ename": "NameError",
     "evalue": "name 'sub_function' is not defined",
     "output_type": "error",
     "traceback": [
      "\u001b[0;31m---------------------------------------------------------------------------\u001b[0m",
      "\u001b[0;31mNameError\u001b[0m                                 Traceback (most recent call last)",
      "Cell \u001b[0;32mIn[3], line 1\u001b[0m\n\u001b[0;32m----> 1\u001b[0m \u001b[43msub_function\u001b[49m()\n",
      "\u001b[0;31mNameError\u001b[0m: name 'sub_function' is not defined"
     ]
    }
   ],
   "source": [
    "sub_function()"
   ]
  },
  {
   "cell_type": "code",
   "execution_count": 4,
   "id": "2182f914",
   "metadata": {},
   "outputs": [],
   "source": [
    "#either it should be called inside the defined block\n",
    "def main_function():\n",
    "    print('Main function')\n",
    "    \n",
    "    def sub_function():\n",
    "        print('Sub function')\n",
    "        \n",
    "    sub_function()"
   ]
  },
  {
   "cell_type": "code",
   "execution_count": 5,
   "id": "d372a9ad",
   "metadata": {},
   "outputs": [
    {
     "name": "stdout",
     "output_type": "stream",
     "text": [
      "Main function\n",
      "Sub function\n"
     ]
    }
   ],
   "source": [
    "main_function()"
   ]
  },
  {
   "cell_type": "code",
   "execution_count": 6,
   "id": "57ef6da4",
   "metadata": {},
   "outputs": [],
   "source": [
    "#or it can be returned\n",
    "def main_function():\n",
    "    print('Main function')\n",
    "    \n",
    "    def sub_function():\n",
    "        print('Sub function')\n",
    "        \n",
    "    return sub_function"
   ]
  },
  {
   "cell_type": "code",
   "execution_count": 10,
   "id": "df401109",
   "metadata": {},
   "outputs": [
    {
     "name": "stdout",
     "output_type": "stream",
     "text": [
      "Main function\n"
     ]
    }
   ],
   "source": [
    "sub_func=main_function()"
   ]
  },
  {
   "cell_type": "code",
   "execution_count": 11,
   "id": "4dce0e72",
   "metadata": {},
   "outputs": [
    {
     "name": "stdout",
     "output_type": "stream",
     "text": [
      "Sub function\n"
     ]
    }
   ],
   "source": [
    "sub_func()"
   ]
  },
  {
   "cell_type": "code",
   "execution_count": 13,
   "id": "aaf62554",
   "metadata": {},
   "outputs": [],
   "source": [
    "#pass in function as an argument\n",
    "def main_func(some_func):\n",
    "    def use_some_func():\n",
    "        print('Before executing passed func')\n",
    "        some_func()\n",
    "        print('After executing passes func')\n",
    "        \n",
    "    return use_some_func"
   ]
  },
  {
   "cell_type": "code",
   "execution_count": 14,
   "id": "2f5b888c",
   "metadata": {},
   "outputs": [],
   "source": [
    "def a_func():\n",
    "    print('This is passed and used by other func')"
   ]
  },
  {
   "cell_type": "code",
   "execution_count": 16,
   "id": "656cf578",
   "metadata": {},
   "outputs": [],
   "source": [
    "store_wrapped=main_func(a_func)"
   ]
  },
  {
   "cell_type": "code",
   "execution_count": 17,
   "id": "354d1516",
   "metadata": {},
   "outputs": [
    {
     "name": "stdout",
     "output_type": "stream",
     "text": [
      "Before executing passed func\n",
      "This is passed and used by other func\n",
      "After executing passes func\n"
     ]
    }
   ],
   "source": [
    "store_wrapped()"
   ]
  },
  {
   "cell_type": "code",
   "execution_count": 18,
   "id": "19073e48",
   "metadata": {},
   "outputs": [
    {
     "ename": "SyntaxError",
     "evalue": "invalid syntax (4214737573.py, line 4)",
     "output_type": "error",
     "traceback": [
      "\u001b[0;36m  Cell \u001b[0;32mIn[18], line 4\u001b[0;36m\u001b[0m\n\u001b[0;31m    a_func()\u001b[0m\n\u001b[0m    ^\u001b[0m\n\u001b[0;31mSyntaxError\u001b[0m\u001b[0;31m:\u001b[0m invalid syntax\n"
     ]
    }
   ],
   "source": [
    "#instead of storing in other functions, use decorator \n",
    "\n",
    "@main_func\n",
    "a_func()"
   ]
  },
  {
   "cell_type": "code",
   "execution_count": 19,
   "id": "338a0cd7",
   "metadata": {},
   "outputs": [],
   "source": [
    "#instead of storing in other functions, use decorator \n",
    "\n",
    "@main_func\n",
    "def a_func():\n",
    "    print('This is passed and used by other func')"
   ]
  },
  {
   "cell_type": "code",
   "execution_count": 20,
   "id": "35ac4099",
   "metadata": {},
   "outputs": [
    {
     "name": "stdout",
     "output_type": "stream",
     "text": [
      "Before executing passed func\n",
      "This is passed and used by other func\n",
      "After executing passes func\n"
     ]
    }
   ],
   "source": [
    "a_func()"
   ]
  },
  {
   "cell_type": "code",
   "execution_count": 21,
   "id": "68a86062",
   "metadata": {},
   "outputs": [],
   "source": [
    "#to stop the use of decorator, turn it into comment \n",
    "\n",
    "#@main_func\n",
    "def a_func():\n",
    "    print('This is passed and used by other func')"
   ]
  },
  {
   "cell_type": "code",
   "execution_count": 22,
   "id": "288a5772",
   "metadata": {},
   "outputs": [
    {
     "name": "stdout",
     "output_type": "stream",
     "text": [
      "This is passed and used by other func\n"
     ]
    }
   ],
   "source": [
    "a_func()"
   ]
  },
  {
   "cell_type": "markdown",
   "id": "4191c76b",
   "metadata": {},
   "source": [
    "___"
   ]
  },
  {
   "cell_type": "markdown",
   "id": "9212e0f7",
   "metadata": {},
   "source": [
    "Generators"
   ]
  },
  {
   "cell_type": "code",
   "execution_count": 7,
   "id": "74c42525",
   "metadata": {},
   "outputs": [],
   "source": [
    "def cube(n):\n",
    "    for x in range(n):\n",
    "         return x**3"
   ]
  },
  {
   "cell_type": "code",
   "execution_count": 8,
   "id": "8a9d044a",
   "metadata": {},
   "outputs": [
    {
     "ename": "TypeError",
     "evalue": "'int' object is not iterable",
     "output_type": "error",
     "traceback": [
      "\u001b[0;31m---------------------------------------------------------------------------\u001b[0m",
      "\u001b[0;31mTypeError\u001b[0m                                 Traceback (most recent call last)",
      "Cell \u001b[0;32mIn[8], line 1\u001b[0m\n\u001b[0;32m----> 1\u001b[0m \u001b[38;5;28;01mfor\u001b[39;00m x \u001b[38;5;129;01min\u001b[39;00m cube(\u001b[38;5;241m10\u001b[39m):\n\u001b[1;32m      2\u001b[0m     \u001b[38;5;28mprint\u001b[39m(x)\n",
      "\u001b[0;31mTypeError\u001b[0m: 'int' object is not iterable"
     ]
    }
   ],
   "source": [
    "for x in cube(10):\n",
    "    print(x)"
   ]
  },
  {
   "cell_type": "code",
   "execution_count": 5,
   "id": "7eee95c8",
   "metadata": {},
   "outputs": [],
   "source": [
    "def cube_yield(n):\n",
    "    for x in range(n):\n",
    "         yield x**3"
   ]
  },
  {
   "cell_type": "code",
   "execution_count": 6,
   "id": "8d2b4a79",
   "metadata": {},
   "outputs": [
    {
     "name": "stdout",
     "output_type": "stream",
     "text": [
      "0\n",
      "1\n",
      "8\n",
      "27\n",
      "64\n",
      "125\n",
      "216\n",
      "343\n",
      "512\n",
      "729\n"
     ]
    }
   ],
   "source": [
    "for x in cube_yield(10):\n",
    "    print(x)"
   ]
  },
  {
   "cell_type": "code",
   "execution_count": 1,
   "id": "6774755e",
   "metadata": {},
   "outputs": [],
   "source": [
    "def fibonacci():\n",
    "    a=0\n",
    "    b=1\n",
    "    while a<100:\n",
    "        yield a\n",
    "        a , b = b , a+b\n",
    "        \n",
    "sequence=fibonacci()"
   ]
  },
  {
   "cell_type": "code",
   "execution_count": 27,
   "id": "8c32850c",
   "metadata": {},
   "outputs": [
    {
     "name": "stdout",
     "output_type": "stream",
     "text": [
      "0\n"
     ]
    }
   ],
   "source": [
    "print(next(sequence))"
   ]
  },
  {
   "cell_type": "code",
   "execution_count": 28,
   "id": "a31255d9",
   "metadata": {},
   "outputs": [
    {
     "name": "stdout",
     "output_type": "stream",
     "text": [
      "1\n"
     ]
    }
   ],
   "source": [
    "print(next(sequence))"
   ]
  },
  {
   "cell_type": "code",
   "execution_count": 29,
   "id": "3ada64e9",
   "metadata": {},
   "outputs": [
    {
     "name": "stdout",
     "output_type": "stream",
     "text": [
      "1\n"
     ]
    }
   ],
   "source": [
    "print(next(sequence))"
   ]
  },
  {
   "cell_type": "code",
   "execution_count": 30,
   "id": "95e63886",
   "metadata": {},
   "outputs": [
    {
     "name": "stdout",
     "output_type": "stream",
     "text": [
      "2\n"
     ]
    }
   ],
   "source": [
    "print(next(sequence))"
   ]
  },
  {
   "cell_type": "code",
   "execution_count": 31,
   "id": "9d5693de",
   "metadata": {},
   "outputs": [
    {
     "name": "stdout",
     "output_type": "stream",
     "text": [
      "3\n"
     ]
    }
   ],
   "source": [
    "print(next(sequence))"
   ]
  },
  {
   "cell_type": "code",
   "execution_count": 32,
   "id": "d205aed9",
   "metadata": {},
   "outputs": [
    {
     "data": {
      "text/plain": [
       "generator"
      ]
     },
     "execution_count": 32,
     "metadata": {},
     "output_type": "execute_result"
    }
   ],
   "source": [
    "type(sequence)"
   ]
  },
  {
   "cell_type": "code",
   "execution_count": 33,
   "id": "04a1f02a",
   "metadata": {},
   "outputs": [
    {
     "data": {
      "text/plain": [
       "<generator object fibonacci at 0x7fa1a74782e0>"
      ]
     },
     "execution_count": 33,
     "metadata": {},
     "output_type": "execute_result"
    }
   ],
   "source": [
    "sequence"
   ]
  },
  {
   "cell_type": "code",
   "execution_count": 34,
   "id": "bbbe99c7",
   "metadata": {},
   "outputs": [
    {
     "name": "stdout",
     "output_type": "stream",
     "text": [
      "5\n"
     ]
    }
   ],
   "source": [
    "print(next(sequence))"
   ]
  },
  {
   "cell_type": "code",
   "execution_count": 6,
   "id": "b65cd9eb",
   "metadata": {},
   "outputs": [
    {
     "name": "stdout",
     "output_type": "stream",
     "text": [
      "1\n",
      "2\n",
      "5\n",
      "13\n",
      "34\n",
      "89\n"
     ]
    }
   ],
   "source": [
    "for x in sequence:\n",
    "    print(next(sequence))"
   ]
  },
  {
   "cell_type": "code",
   "execution_count": 16,
   "id": "9b00be38",
   "metadata": {},
   "outputs": [
    {
     "name": "stdout",
     "output_type": "stream",
     "text": [
      "0\n",
      "1\n",
      "1\n",
      "2\n",
      "3\n",
      "5\n",
      "8\n",
      "13\n",
      "21\n",
      "34\n",
      "55\n",
      "89\n"
     ]
    }
   ],
   "source": [
    "for x in sequence:\n",
    "    print(x)"
   ]
  },
  {
   "cell_type": "code",
   "execution_count": 20,
   "id": "50588f93",
   "metadata": {},
   "outputs": [
    {
     "name": "stdout",
     "output_type": "stream",
     "text": [
      "<generator object fibonacci at 0x7ff17a686f80>\n",
      "<generator object fibonacci at 0x7ff17a686f80>\n",
      "<generator object fibonacci at 0x7ff17a686f80>\n",
      "<generator object fibonacci at 0x7ff17a686f80>\n",
      "<generator object fibonacci at 0x7ff17a686f80>\n",
      "<generator object fibonacci at 0x7ff17a686f80>\n",
      "<generator object fibonacci at 0x7ff17a686f80>\n",
      "<generator object fibonacci at 0x7ff17a686f80>\n",
      "<generator object fibonacci at 0x7ff17a686f80>\n",
      "<generator object fibonacci at 0x7ff17a686f80>\n",
      "<generator object fibonacci at 0x7ff17a686f80>\n",
      "<generator object fibonacci at 0x7ff17a686f80>\n"
     ]
    }
   ],
   "source": [
    "for x in sequence:\n",
    "    print(sequence)"
   ]
  },
  {
   "cell_type": "code",
   "execution_count": 19,
   "id": "bc837bbf",
   "metadata": {},
   "outputs": [],
   "source": [
    "sequence=fibonacci()"
   ]
  },
  {
   "cell_type": "code",
   "execution_count": 18,
   "id": "11b68662",
   "metadata": {},
   "outputs": [
    {
     "name": "stdout",
     "output_type": "stream",
     "text": [
      "0\n",
      "1\n",
      "1\n",
      "2\n",
      "3\n",
      "5\n",
      "8\n",
      "13\n",
      "21\n",
      "34\n",
      "55\n",
      "89\n"
     ]
    }
   ],
   "source": [
    "for x in fibonacci():\n",
    "    print(next(sequence))"
   ]
  },
  {
   "cell_type": "code",
   "execution_count": 48,
   "id": "534e21d6",
   "metadata": {},
   "outputs": [],
   "source": [
    "s='abcxyz'"
   ]
  },
  {
   "cell_type": "code",
   "execution_count": 49,
   "id": "6ae224ee",
   "metadata": {},
   "outputs": [
    {
     "name": "stdout",
     "output_type": "stream",
     "text": [
      "a\n",
      "b\n",
      "c\n",
      "x\n",
      "y\n",
      "z\n"
     ]
    }
   ],
   "source": [
    "for letter in s:\n",
    "    print(letter)"
   ]
  },
  {
   "cell_type": "code",
   "execution_count": 50,
   "id": "39725bd7",
   "metadata": {},
   "outputs": [
    {
     "ename": "TypeError",
     "evalue": "'str' object is not an iterator",
     "output_type": "error",
     "traceback": [
      "\u001b[0;31m---------------------------------------------------------------------------\u001b[0m",
      "\u001b[0;31mTypeError\u001b[0m                                 Traceback (most recent call last)",
      "Cell \u001b[0;32mIn[50], line 1\u001b[0m\n\u001b[0;32m----> 1\u001b[0m \u001b[38;5;28mprint\u001b[39m(\u001b[38;5;28;43mnext\u001b[39;49m\u001b[43m(\u001b[49m\u001b[43ms\u001b[49m\u001b[43m)\u001b[49m)\n",
      "\u001b[0;31mTypeError\u001b[0m: 'str' object is not an iterator"
     ]
    }
   ],
   "source": [
    "print(next(s))"
   ]
  },
  {
   "cell_type": "code",
   "execution_count": 51,
   "id": "768fc030",
   "metadata": {},
   "outputs": [],
   "source": [
    "letters=iter(s)"
   ]
  },
  {
   "cell_type": "code",
   "execution_count": 52,
   "id": "c82ea0aa",
   "metadata": {},
   "outputs": [
    {
     "name": "stdout",
     "output_type": "stream",
     "text": [
      "a\n"
     ]
    }
   ],
   "source": [
    "print(next(letters))"
   ]
  },
  {
   "cell_type": "code",
   "execution_count": 53,
   "id": "c0cb6399",
   "metadata": {},
   "outputs": [
    {
     "name": "stdout",
     "output_type": "stream",
     "text": [
      "b\n"
     ]
    }
   ],
   "source": [
    "print(next(letters))"
   ]
  },
  {
   "cell_type": "code",
   "execution_count": null,
   "id": "7e01887a",
   "metadata": {},
   "outputs": [],
   "source": []
  }
 ],
 "metadata": {
  "kernelspec": {
   "display_name": "Python 3 (ipykernel)",
   "language": "python",
   "name": "python3"
  },
  "language_info": {
   "codemirror_mode": {
    "name": "ipython",
    "version": 3
   },
   "file_extension": ".py",
   "mimetype": "text/x-python",
   "name": "python",
   "nbconvert_exporter": "python",
   "pygments_lexer": "ipython3",
   "version": "3.11.7"
  }
 },
 "nbformat": 4,
 "nbformat_minor": 5
}
