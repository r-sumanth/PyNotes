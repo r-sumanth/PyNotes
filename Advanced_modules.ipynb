{
 "cells": [
  {
   "cell_type": "code",
   "execution_count": 8,
   "id": "fefe2c7d",
   "metadata": {},
   "outputs": [],
   "source": [
    "#collections module\n",
    "from collections import Counter"
   ]
  },
  {
   "cell_type": "code",
   "execution_count": 2,
   "id": "38628ab3",
   "metadata": {},
   "outputs": [],
   "source": [
    "l=['1','1','1','2','2']"
   ]
  },
  {
   "cell_type": "code",
   "execution_count": 6,
   "id": "dd0d74a2",
   "metadata": {},
   "outputs": [],
   "source": [
    "c=Counter(l)"
   ]
  },
  {
   "cell_type": "code",
   "execution_count": 7,
   "id": "91a20288-8dd3-4d89-beb0-1c2b4097504f",
   "metadata": {},
   "outputs": [
    {
     "data": {
      "text/plain": [
       "collections.Counter"
      ]
     },
     "execution_count": 7,
     "metadata": {},
     "output_type": "execute_result"
    }
   ],
   "source": [
    "type(c)"
   ]
  },
  {
   "cell_type": "code",
   "execution_count": 8,
   "id": "a2339831-9412-43ef-a276-00892fcceb84",
   "metadata": {},
   "outputs": [
    {
     "data": {
      "text/plain": [
       "{'1', '2'}"
      ]
     },
     "execution_count": 8,
     "metadata": {},
     "output_type": "execute_result"
    }
   ],
   "source": [
    "set(c)"
   ]
  },
  {
   "cell_type": "code",
   "execution_count": 54,
   "id": "bc70ecf4",
   "metadata": {},
   "outputs": [],
   "source": [
    "s='cksdhckhioejbekwjfh'"
   ]
  },
  {
   "cell_type": "code",
   "execution_count": 55,
   "id": "b6c890cb",
   "metadata": {},
   "outputs": [
    {
     "data": {
      "text/plain": [
       "Counter({'c': 2,\n",
       "         'k': 3,\n",
       "         's': 1,\n",
       "         'd': 1,\n",
       "         'h': 3,\n",
       "         'i': 1,\n",
       "         'o': 1,\n",
       "         'e': 2,\n",
       "         'j': 2,\n",
       "         'b': 1,\n",
       "         'w': 1,\n",
       "         'f': 1})"
      ]
     },
     "execution_count": 55,
     "metadata": {},
     "output_type": "execute_result"
    }
   ],
   "source": [
    "Counter(s)"
   ]
  },
  {
   "cell_type": "code",
   "execution_count": 56,
   "id": "c5d0b992",
   "metadata": {},
   "outputs": [
    {
     "data": {
      "text/plain": [
       "[('k', 3),\n",
       " ('h', 3),\n",
       " ('c', 2),\n",
       " ('e', 2),\n",
       " ('j', 2),\n",
       " ('s', 1),\n",
       " ('d', 1),\n",
       " ('i', 1),\n",
       " ('o', 1),\n",
       " ('b', 1),\n",
       " ('w', 1),\n",
       " ('f', 1)]"
      ]
     },
     "execution_count": 56,
     "metadata": {},
     "output_type": "execute_result"
    }
   ],
   "source": [
    "Counter(s).most_common()"
   ]
  },
  {
   "cell_type": "code",
   "execution_count": 6,
   "id": "23adf99e",
   "metadata": {},
   "outputs": [],
   "source": [
    "s='this is a word in a sentence'"
   ]
  },
  {
   "cell_type": "code",
   "execution_count": 7,
   "id": "9f344517",
   "metadata": {},
   "outputs": [
    {
     "data": {
      "text/plain": [
       "Counter({'t': 2,\n",
       "         'h': 1,\n",
       "         'i': 3,\n",
       "         's': 3,\n",
       "         ' ': 6,\n",
       "         'a': 2,\n",
       "         'w': 1,\n",
       "         'o': 1,\n",
       "         'r': 1,\n",
       "         'd': 1,\n",
       "         'n': 3,\n",
       "         'e': 3,\n",
       "         'c': 1})"
      ]
     },
     "execution_count": 7,
     "metadata": {},
     "output_type": "execute_result"
    }
   ],
   "source": [
    "Counter(s)"
   ]
  },
  {
   "cell_type": "code",
   "execution_count": 8,
   "id": "778e8e77",
   "metadata": {},
   "outputs": [
    {
     "data": {
      "text/plain": [
       "Counter({'this': 1, 'is': 1, 'a': 2, 'word': 1, 'in': 1, 'sentence': 1})"
      ]
     },
     "execution_count": 8,
     "metadata": {},
     "output_type": "execute_result"
    }
   ],
   "source": [
    "Counter(s.split())"
   ]
  },
  {
   "cell_type": "code",
   "execution_count": 9,
   "id": "256a27d5",
   "metadata": {},
   "outputs": [],
   "source": [
    "from collections import defaultdict"
   ]
  },
  {
   "cell_type": "code",
   "execution_count": 10,
   "id": "a2a751b3",
   "metadata": {},
   "outputs": [],
   "source": [
    "d={'a':1,'b':2}"
   ]
  },
  {
   "cell_type": "code",
   "execution_count": 11,
   "id": "78bf37aa",
   "metadata": {},
   "outputs": [
    {
     "data": {
      "text/plain": [
       "1"
      ]
     },
     "execution_count": 11,
     "metadata": {},
     "output_type": "execute_result"
    }
   ],
   "source": [
    "d['a']"
   ]
  },
  {
   "cell_type": "code",
   "execution_count": 12,
   "id": "a2988d2d",
   "metadata": {},
   "outputs": [
    {
     "ename": "KeyError",
     "evalue": "'c'",
     "output_type": "error",
     "traceback": [
      "\u001b[0;31m---------------------------------------------------------------------------\u001b[0m",
      "\u001b[0;31mKeyError\u001b[0m                                  Traceback (most recent call last)",
      "Cell \u001b[0;32mIn[12], line 1\u001b[0m\n\u001b[0;32m----> 1\u001b[0m \u001b[43md\u001b[49m\u001b[43m[\u001b[49m\u001b[38;5;124;43m'\u001b[39;49m\u001b[38;5;124;43mc\u001b[39;49m\u001b[38;5;124;43m'\u001b[39;49m\u001b[43m]\u001b[49m\n",
      "\u001b[0;31mKeyError\u001b[0m: 'c'"
     ]
    }
   ],
   "source": [
    "d['c']"
   ]
  },
  {
   "cell_type": "code",
   "execution_count": 16,
   "id": "217cc74d",
   "metadata": {},
   "outputs": [
    {
     "ename": "TypeError",
     "evalue": "first argument must be callable or None",
     "output_type": "error",
     "traceback": [
      "\u001b[0;31m---------------------------------------------------------------------------\u001b[0m",
      "\u001b[0;31mTypeError\u001b[0m                                 Traceback (most recent call last)",
      "Cell \u001b[0;32mIn[16], line 1\u001b[0m\n\u001b[0;32m----> 1\u001b[0m d\u001b[38;5;241m=\u001b[39m\u001b[43mdefaultdict\u001b[49m\u001b[43m(\u001b[49m\u001b[38;5;241;43m0\u001b[39;49m\u001b[43m)\u001b[49m\n",
      "\u001b[0;31mTypeError\u001b[0m: first argument must be callable or None"
     ]
    }
   ],
   "source": [
    "d=defaultdict(0)"
   ]
  },
  {
   "cell_type": "code",
   "execution_count": 19,
   "id": "e86f4af5",
   "metadata": {},
   "outputs": [
    {
     "ename": "TypeError",
     "evalue": "first argument must be callable or None",
     "output_type": "error",
     "traceback": [
      "\u001b[0;31m---------------------------------------------------------------------------\u001b[0m",
      "\u001b[0;31mTypeError\u001b[0m                                 Traceback (most recent call last)",
      "Cell \u001b[0;32mIn[19], line 2\u001b[0m\n\u001b[1;32m      1\u001b[0m v\u001b[38;5;241m=\u001b[39m\u001b[38;5;241m0\u001b[39m\n\u001b[0;32m----> 2\u001b[0m d\u001b[38;5;241m=\u001b[39m\u001b[43mdefaultdict\u001b[49m\u001b[43m(\u001b[49m\u001b[43mv\u001b[49m\u001b[43m)\u001b[49m\n",
      "\u001b[0;31mTypeError\u001b[0m: first argument must be callable or None"
     ]
    }
   ],
   "source": [
    "v=0\n",
    "d=defaultdict(v)"
   ]
  },
  {
   "cell_type": "code",
   "execution_count": 38,
   "id": "afd0ea8e",
   "metadata": {},
   "outputs": [],
   "source": [
    "d=defaultdict(str)"
   ]
  },
  {
   "cell_type": "code",
   "execution_count": 39,
   "id": "d41259c1",
   "metadata": {},
   "outputs": [
    {
     "data": {
      "text/plain": [
       "''"
      ]
     },
     "execution_count": 39,
     "metadata": {},
     "output_type": "execute_result"
    }
   ],
   "source": [
    "d['c']"
   ]
  },
  {
   "cell_type": "code",
   "execution_count": 40,
   "id": "38c80cb6",
   "metadata": {},
   "outputs": [],
   "source": [
    "d=defaultdict(int)"
   ]
  },
  {
   "cell_type": "code",
   "execution_count": 41,
   "id": "0c652c08",
   "metadata": {},
   "outputs": [
    {
     "data": {
      "text/plain": [
       "0"
      ]
     },
     "execution_count": 41,
     "metadata": {},
     "output_type": "execute_result"
    }
   ],
   "source": [
    "d['ejnf']"
   ]
  },
  {
   "cell_type": "code",
   "execution_count": 46,
   "id": "87ba15a6",
   "metadata": {},
   "outputs": [],
   "source": [
    "d=defaultdict(lambda: 'INVALID')"
   ]
  },
  {
   "cell_type": "code",
   "execution_count": 47,
   "id": "5f16a372",
   "metadata": {},
   "outputs": [
    {
     "data": {
      "text/plain": [
       "'INVALID'"
      ]
     },
     "execution_count": 47,
     "metadata": {},
     "output_type": "execute_result"
    }
   ],
   "source": [
    "d['d']"
   ]
  },
  {
   "cell_type": "code",
   "execution_count": 48,
   "id": "47ea28a8",
   "metadata": {},
   "outputs": [],
   "source": [
    "d['a']=1\n",
    "d['b']=2"
   ]
  },
  {
   "cell_type": "code",
   "execution_count": 49,
   "id": "c7c091e0",
   "metadata": {},
   "outputs": [
    {
     "data": {
      "text/plain": [
       "1"
      ]
     },
     "execution_count": 49,
     "metadata": {},
     "output_type": "execute_result"
    }
   ],
   "source": [
    "d['a']"
   ]
  },
  {
   "cell_type": "code",
   "execution_count": 50,
   "id": "0c2fb2d8",
   "metadata": {},
   "outputs": [
    {
     "data": {
      "text/plain": [
       "'INVALID'"
      ]
     },
     "execution_count": 50,
     "metadata": {},
     "output_type": "execute_result"
    }
   ],
   "source": [
    "d['c']"
   ]
  },
  {
   "cell_type": "code",
   "execution_count": 51,
   "id": "6bc98e2b",
   "metadata": {},
   "outputs": [
    {
     "data": {
      "text/plain": [
       "defaultdict(<function __main__.<lambda>()>,\n",
       "            {'d': 'INVALID', 'a': 1, 'b': 2, 'c': 'INVALID'})"
      ]
     },
     "execution_count": 51,
     "metadata": {},
     "output_type": "execute_result"
    }
   ],
   "source": [
    "d"
   ]
  },
  {
   "cell_type": "code",
   "execution_count": 9,
   "id": "76dbdbd3",
   "metadata": {},
   "outputs": [],
   "source": [
    "from collections import namedtuple"
   ]
  },
  {
   "cell_type": "code",
   "execution_count": 10,
   "id": "5f9c3f91",
   "metadata": {},
   "outputs": [],
   "source": [
    "#named tuple is more like a class, attributes can be set to the object and also called by index \n",
    "student=namedtuple('Student',['Roll_No','Age','Name'])"
   ]
  },
  {
   "cell_type": "code",
   "execution_count": 11,
   "id": "d1590790",
   "metadata": {},
   "outputs": [],
   "source": [
    "Sumanth=student(42,16,'Sumanth R')"
   ]
  },
  {
   "cell_type": "code",
   "execution_count": 12,
   "id": "873f4431",
   "metadata": {},
   "outputs": [
    {
     "data": {
      "text/plain": [
       "16"
      ]
     },
     "execution_count": 12,
     "metadata": {},
     "output_type": "execute_result"
    }
   ],
   "source": [
    "Sumanth.Age"
   ]
  },
  {
   "cell_type": "code",
   "execution_count": 13,
   "id": "6ac9eaa6",
   "metadata": {},
   "outputs": [
    {
     "data": {
      "text/plain": [
       "16"
      ]
     },
     "execution_count": 13,
     "metadata": {},
     "output_type": "execute_result"
    }
   ],
   "source": [
    "Sumanth[1]"
   ]
  },
  {
   "cell_type": "code",
   "execution_count": 14,
   "id": "41a6c0b7-29d2-41b0-8b91-f3c0cdbc5962",
   "metadata": {},
   "outputs": [
    {
     "data": {
      "text/plain": [
       "__main__.Student"
      ]
     },
     "execution_count": 14,
     "metadata": {},
     "output_type": "execute_result"
    }
   ],
   "source": [
    "type(Sumanth)"
   ]
  },
  {
   "cell_type": "markdown",
   "id": "b8bb7e22",
   "metadata": {},
   "source": [
    "___"
   ]
  },
  {
   "cell_type": "code",
   "execution_count": 15,
   "id": "a290c5f8",
   "metadata": {},
   "outputs": [
    {
     "data": {
      "text/plain": [
       "['.DS_Store',\n",
       " 'Milestone_Project_2.ipynb',\n",
       " 'func_call_check2.py',\n",
       " 'try_package.py',\n",
       " 'OOP.ipynb',\n",
       " 'coursera_fin_aid.txt',\n",
       " 'DataScienceEcosystem.ipynb',\n",
       " '__pycache__',\n",
       " 'MainPackage',\n",
       " 'Milestone_Project_1.ipynb',\n",
       " 'unit_testing.py',\n",
       " 'Milestone_Project_2_WarmUp.ipynb',\n",
       " 'Functions.ipynb',\n",
       " 'Statements.ipynb',\n",
       " 'Data_types.ipynb',\n",
       " 'How-to-Become-a-Data-Scientist-Brochure.pdf',\n",
       " 'Advanced_modules.ipynb',\n",
       " '.ipynb_checkpoints',\n",
       " 'identify_num.py',\n",
       " 'module.py',\n",
       " 'TestFile.txt',\n",
       " 'func_call_check1.py',\n",
       " 'untitled',\n",
       " 'Roughbook.ipynb']"
      ]
     },
     "execution_count": 15,
     "metadata": {},
     "output_type": "execute_result"
    }
   ],
   "source": [
    "#file operations\n",
    "import os\n",
    "os.listdir()"
   ]
  },
  {
   "cell_type": "code",
   "execution_count": 16,
   "id": "1bbaebf6",
   "metadata": {},
   "outputs": [
    {
     "data": {
      "text/plain": [
       "'/Users/sumanth/Documents/Mac_Backup/PyNotes'"
      ]
     },
     "execution_count": 16,
     "metadata": {},
     "output_type": "execute_result"
    }
   ],
   "source": [
    "os.getcwd()"
   ]
  },
  {
   "cell_type": "code",
   "execution_count": 17,
   "id": "fdd4608a-986a-4f38-8992-61d7008e5e06",
   "metadata": {},
   "outputs": [
    {
     "data": {
      "text/plain": [
       "'/Users/sumanth/Documents/Mac_Backup/PyNotes'"
      ]
     },
     "execution_count": 17,
     "metadata": {},
     "output_type": "execute_result"
    }
   ],
   "source": [
    "pwd"
   ]
  },
  {
   "cell_type": "code",
   "execution_count": 72,
   "id": "cbbfa52e",
   "metadata": {},
   "outputs": [
    {
     "data": {
      "text/plain": [
       "['suhasr', '.localized', 'Shared', 'Guest']"
      ]
     },
     "execution_count": 72,
     "metadata": {},
     "output_type": "execute_result"
    }
   ],
   "source": [
    "os.listdir('/Users')"
   ]
  },
  {
   "cell_type": "code",
   "execution_count": 73,
   "id": "464d1db1",
   "metadata": {},
   "outputs": [],
   "source": [
    "with open('test.txt','w') as writefile:\n",
    "    writefile.write('This is a test file')"
   ]
  },
  {
   "cell_type": "code",
   "execution_count": 74,
   "id": "94e8c189",
   "metadata": {},
   "outputs": [
    {
     "name": "stdout",
     "output_type": "stream",
     "text": [
      "This is a test file\n"
     ]
    }
   ],
   "source": [
    "with open('test.txt') as openfile:\n",
    "    print(openfile.read())"
   ]
  },
  {
   "cell_type": "code",
   "execution_count": 75,
   "id": "9555d9c7",
   "metadata": {},
   "outputs": [
    {
     "data": {
      "text/plain": [
       "'/Users/suhasr/Desktop/PyNotes'"
      ]
     },
     "execution_count": 75,
     "metadata": {},
     "output_type": "execute_result"
    }
   ],
   "source": [
    "os.getcwd()"
   ]
  },
  {
   "cell_type": "code",
   "execution_count": 76,
   "id": "a87458f8",
   "metadata": {},
   "outputs": [],
   "source": [
    "import shutil"
   ]
  },
  {
   "cell_type": "code",
   "execution_count": 77,
   "id": "062cf8bc",
   "metadata": {},
   "outputs": [
    {
     "data": {
      "text/plain": [
       "'/Users/suhasr/Desktop/test.txt'"
      ]
     },
     "execution_count": 77,
     "metadata": {},
     "output_type": "execute_result"
    }
   ],
   "source": [
    "shutil.move('test.txt','/Users/suhasr/Desktop')"
   ]
  },
  {
   "cell_type": "code",
   "execution_count": 78,
   "id": "ab8587b7",
   "metadata": {},
   "outputs": [
    {
     "data": {
      "text/plain": [
       "['.DS_Store',\n",
       " 'Milestone_Project_2.ipynb',\n",
       " 'func_call_check2.py',\n",
       " 'try_package.py',\n",
       " 'OOP.ipynb',\n",
       " 'coursera_fin_aid.txt',\n",
       " '__pycache__',\n",
       " 'MainPackage',\n",
       " 'Milestone_Project_1.ipynb',\n",
       " 'unit_testing.py',\n",
       " 'Milestone_Project_2_WarmUp.ipynb',\n",
       " 'Functions.ipynb',\n",
       " 'Statements.ipynb',\n",
       " 'Data_types.ipynb',\n",
       " 'Advanced_modules.ipynb',\n",
       " '.ipynb_checkpoints',\n",
       " 'identify_num.py',\n",
       " 'module.py',\n",
       " 'TestFile.txt',\n",
       " 'func_call_check1.py',\n",
       " 'untitled',\n",
       " 'Roughbook.ipynb']"
      ]
     },
     "execution_count": 78,
     "metadata": {},
     "output_type": "execute_result"
    }
   ],
   "source": [
    "os.listdir()"
   ]
  },
  {
   "cell_type": "code",
   "execution_count": 79,
   "id": "55a6bb4d",
   "metadata": {},
   "outputs": [
    {
     "data": {
      "text/plain": [
       "'/Users/suhasr/Desktop/PyNotes/test.txt'"
      ]
     },
     "execution_count": 79,
     "metadata": {},
     "output_type": "execute_result"
    }
   ],
   "source": [
    "shutil.move('/Users/suhasr/Desktop/test.txt',os.getcwd())"
   ]
  },
  {
   "cell_type": "code",
   "execution_count": 80,
   "id": "a47f83c0",
   "metadata": {},
   "outputs": [
    {
     "data": {
      "text/plain": [
       "['.DS_Store',\n",
       " 'Milestone_Project_2.ipynb',\n",
       " 'func_call_check2.py',\n",
       " 'try_package.py',\n",
       " 'OOP.ipynb',\n",
       " 'coursera_fin_aid.txt',\n",
       " '__pycache__',\n",
       " 'MainPackage',\n",
       " 'Milestone_Project_1.ipynb',\n",
       " 'unit_testing.py',\n",
       " 'Milestone_Project_2_WarmUp.ipynb',\n",
       " 'Functions.ipynb',\n",
       " 'Statements.ipynb',\n",
       " 'Data_types.ipynb',\n",
       " 'Advanced_modules.ipynb',\n",
       " 'test.txt',\n",
       " '.ipynb_checkpoints',\n",
       " 'identify_num.py',\n",
       " 'module.py',\n",
       " 'TestFile.txt',\n",
       " 'func_call_check1.py',\n",
       " 'untitled',\n",
       " 'Roughbook.ipynb']"
      ]
     },
     "execution_count": 80,
     "metadata": {},
     "output_type": "execute_result"
    }
   ],
   "source": [
    "os.listdir()"
   ]
  },
  {
   "cell_type": "code",
   "execution_count": 81,
   "id": "f9db6038",
   "metadata": {},
   "outputs": [],
   "source": [
    "#for deleting a file permanently, we can use \n",
    "#os.unlink(path) to delete a file\n",
    "#os.rmdir(path) to delete a empty folder\n",
    "#shutil.rmtree(path) all the files and folder under the path provided"
   ]
  },
  {
   "cell_type": "code",
   "execution_count": 18,
   "id": "896df76d",
   "metadata": {},
   "outputs": [],
   "source": [
    "#using send2trash instead of permanently deleting can be helpful\n",
    "import send2trash"
   ]
  },
  {
   "cell_type": "code",
   "execution_count": 19,
   "id": "a4a89009-0786-467d-9c8c-e370301898ee",
   "metadata": {},
   "outputs": [],
   "source": [
    "with open('test_file.txt','w') as write2file:\n",
    "    write2file.write('This is a test file to be deleted by send2trash')"
   ]
  },
  {
   "cell_type": "code",
   "execution_count": 20,
   "id": "aa3521c3-4431-416f-99ab-a1e7230b975c",
   "metadata": {},
   "outputs": [
    {
     "data": {
      "text/plain": [
       "['.DS_Store',\n",
       " 'Milestone_Project_2.ipynb',\n",
       " 'func_call_check2.py',\n",
       " 'try_package.py',\n",
       " 'OOP.ipynb',\n",
       " 'coursera_fin_aid.txt',\n",
       " 'DataScienceEcosystem.ipynb',\n",
       " '__pycache__',\n",
       " 'MainPackage',\n",
       " 'Milestone_Project_1.ipynb',\n",
       " 'unit_testing.py',\n",
       " 'Milestone_Project_2_WarmUp.ipynb',\n",
       " 'test_file.txt',\n",
       " 'Functions.ipynb',\n",
       " 'Statements.ipynb',\n",
       " 'Data_types.ipynb',\n",
       " 'How-to-Become-a-Data-Scientist-Brochure.pdf',\n",
       " 'Advanced_modules.ipynb',\n",
       " '.ipynb_checkpoints',\n",
       " 'identify_num.py',\n",
       " 'module.py',\n",
       " 'TestFile.txt',\n",
       " 'func_call_check1.py',\n",
       " 'untitled',\n",
       " 'Roughbook.ipynb']"
      ]
     },
     "execution_count": 20,
     "metadata": {},
     "output_type": "execute_result"
    }
   ],
   "source": [
    "os.listdir(os.getcwd())"
   ]
  },
  {
   "cell_type": "code",
   "execution_count": 21,
   "id": "87029885-00ee-40f6-bc7c-3316194eb5a3",
   "metadata": {},
   "outputs": [
    {
     "name": "stdout",
     "output_type": "stream",
     "text": [
      "This is a test file to be deleted by send2trash\n"
     ]
    }
   ],
   "source": [
    "with open('test_file.txt','r') as readfile:\n",
    "    print(readfile.read())"
   ]
  },
  {
   "cell_type": "code",
   "execution_count": 22,
   "id": "2a41961c",
   "metadata": {},
   "outputs": [],
   "source": [
    "send2trash.send2trash('test_file.txt')"
   ]
  },
  {
   "cell_type": "code",
   "execution_count": 23,
   "id": "062db0a6-dbec-4459-8af2-01da7256f22d",
   "metadata": {},
   "outputs": [
    {
     "data": {
      "text/plain": [
       "['.DS_Store',\n",
       " 'Milestone_Project_2.ipynb',\n",
       " 'func_call_check2.py',\n",
       " 'try_package.py',\n",
       " 'OOP.ipynb',\n",
       " 'coursera_fin_aid.txt',\n",
       " 'DataScienceEcosystem.ipynb',\n",
       " '__pycache__',\n",
       " 'MainPackage',\n",
       " 'Milestone_Project_1.ipynb',\n",
       " 'unit_testing.py',\n",
       " 'Milestone_Project_2_WarmUp.ipynb',\n",
       " 'Functions.ipynb',\n",
       " 'Statements.ipynb',\n",
       " 'Data_types.ipynb',\n",
       " 'How-to-Become-a-Data-Scientist-Brochure.pdf',\n",
       " 'Advanced_modules.ipynb',\n",
       " '.ipynb_checkpoints',\n",
       " 'identify_num.py',\n",
       " 'module.py',\n",
       " 'TestFile.txt',\n",
       " 'func_call_check1.py',\n",
       " 'untitled',\n",
       " 'Roughbook.ipynb']"
      ]
     },
     "execution_count": 23,
     "metadata": {},
     "output_type": "execute_result"
    }
   ],
   "source": [
    "os.listdir(os.getcwd())"
   ]
  },
  {
   "cell_type": "code",
   "execution_count": 24,
   "id": "8b2557b6-dcc6-4fff-bd6a-fcb1fe97847e",
   "metadata": {},
   "outputs": [
    {
     "data": {
      "text/plain": [
       "'/Users/sumanth/Documents/Mac_Backup/PyNotes'"
      ]
     },
     "execution_count": 24,
     "metadata": {},
     "output_type": "execute_result"
    }
   ],
   "source": [
    "os.getcwd()"
   ]
  },
  {
   "cell_type": "code",
   "execution_count": 29,
   "id": "aa40e5c9-5f27-4637-9f8f-b59d68502bd9",
   "metadata": {},
   "outputs": [
    {
     "name": "stdout",
     "output_type": "stream",
     "text": [
      "Current folder: /Users/sumanth/Documents/Mac_Backup/PyNotes\n",
      "\n",
      "\tSub-Folders are: __pycache__\n",
      "\n",
      "\tSub-Folders are: MainPackage\n",
      "\n",
      "\tSub-Folders are: .ipynb_checkpoints\n",
      "\n",
      "\tFiles are: .DS_Store\n",
      "\n",
      "\tFiles are: Milestone_Project_2.ipynb\n",
      "\n",
      "\tFiles are: func_call_check2.py\n",
      "\n",
      "\tFiles are: try_package.py\n",
      "\n",
      "\tFiles are: OOP.ipynb\n",
      "\n",
      "\tFiles are: coursera_fin_aid.txt\n",
      "\n",
      "\tFiles are: DataScienceEcosystem.ipynb\n",
      "\n",
      "\tFiles are: Milestone_Project_1.ipynb\n",
      "\n",
      "\tFiles are: unit_testing.py\n",
      "\n",
      "\tFiles are: Milestone_Project_2_WarmUp.ipynb\n",
      "\n",
      "\tFiles are: Functions.ipynb\n",
      "\n",
      "\tFiles are: Statements.ipynb\n",
      "\n",
      "\tFiles are: Data_types.ipynb\n",
      "\n",
      "\tFiles are: How-to-Become-a-Data-Scientist-Brochure.pdf\n",
      "\n",
      "\tFiles are: Advanced_modules.ipynb\n",
      "\n",
      "\tFiles are: identify_num.py\n",
      "\n",
      "\tFiles are: module.py\n",
      "\n",
      "\tFiles are: TestFile.txt\n",
      "\n",
      "\tFiles are: func_call_check1.py\n",
      "\n",
      "\tFiles are: untitled\n",
      "\n",
      "\tFiles are: Roughbook.ipynb\n",
      "Current folder: /Users/sumanth/Documents/Mac_Backup/PyNotes/__pycache__\n",
      "\n",
      "\tFiles are: func_call_check1.cpython-310.pyc\n",
      "\n",
      "\tFiles are: module.cpython-310.pyc\n",
      "Current folder: /Users/sumanth/Documents/Mac_Backup/PyNotes/MainPackage\n",
      "\n",
      "\tSub-Folders are: __pycache__\n",
      "\n",
      "\tSub-Folders are: SubPackage\n",
      "\n",
      "\tFiles are: run_main.py\n",
      "\n",
      "\tFiles are: .DS_Store\n",
      "\n",
      "\tFiles are: __init__.py\n",
      "Current folder: /Users/sumanth/Documents/Mac_Backup/PyNotes/MainPackage/__pycache__\n",
      "\n",
      "\tFiles are: run_main.cpython-310.pyc\n",
      "\n",
      "\tFiles are: __init__.cpython-310.pyc\n",
      "Current folder: /Users/sumanth/Documents/Mac_Backup/PyNotes/MainPackage/SubPackage\n",
      "\n",
      "\tSub-Folders are: __pycache__\n",
      "\n",
      "\tFiles are: run_sub.py\n",
      "\n",
      "\tFiles are: __init__.py\n",
      "Current folder: /Users/sumanth/Documents/Mac_Backup/PyNotes/MainPackage/SubPackage/__pycache__\n",
      "\n",
      "\tFiles are: run_sub.cpython-310.pyc\n",
      "\n",
      "\tFiles are: __init__.cpython-310.pyc\n",
      "Current folder: /Users/sumanth/Documents/Mac_Backup/PyNotes/.ipynb_checkpoints\n",
      "\n",
      "\tFiles are: Functions-checkpoint.ipynb\n",
      "\n",
      "\tFiles are: Data_types-checkpoint.ipynb\n",
      "\n",
      "\tFiles are: Milestone_Project_1-checkpoint.ipynb\n",
      "\n",
      "\tFiles are: Milestone_Project_2_WarmUp-checkpoint.ipynb\n",
      "\n",
      "\tFiles are: DataScienceEcosystem-checkpoint.ipynb\n",
      "\n",
      "\tFiles are: Statements-checkpoint.ipynb\n",
      "\n",
      "\tFiles are: OOP-checkpoint.ipynb\n",
      "\n",
      "\tFiles are: Advanced_modules-checkpoint.ipynb\n",
      "\n",
      "\tFiles are: Roughbook-checkpoint.ipynb\n",
      "\n",
      "\tFiles are: Milestone_Project_2-checkpoint.ipynb\n"
     ]
    }
   ],
   "source": [
    "for folder, sub_folder, files in os.walk('/Users/sumanth/Documents/Mac_Backup/PyNotes'):\n",
    "    print(f\"Current folder: {folder}\")\n",
    "    for sub in sub_folder:\n",
    "        print(f\"\\n\\tSub-Folders are: {sub}\")\n",
    "    for f in files:\n",
    "        print(f\"\\n\\tFiles are: {f}\")"
   ]
  },
  {
   "cell_type": "markdown",
   "id": "c51b44a4",
   "metadata": {},
   "source": [
    "___"
   ]
  },
  {
   "cell_type": "code",
   "execution_count": 30,
   "id": "36998cc1",
   "metadata": {},
   "outputs": [],
   "source": [
    "import datetime"
   ]
  },
  {
   "cell_type": "code",
   "execution_count": 35,
   "id": "516b2ab6-8014-414a-a1f2-a1ac80768ee7",
   "metadata": {},
   "outputs": [
    {
     "name": "stdout",
     "output_type": "stream",
     "text": [
      "2024-03-23\n"
     ]
    }
   ],
   "source": [
    "today=datetime.date.today()\n",
    "print(today)"
   ]
  },
  {
   "cell_type": "code",
   "execution_count": 36,
   "id": "04f9e9d2-26b9-4ffd-928e-5ef5e78a128c",
   "metadata": {},
   "outputs": [
    {
     "data": {
      "text/plain": [
       "datetime.IsoCalendarDate(year=2024, week=12, weekday=6)"
      ]
     },
     "execution_count": 36,
     "metadata": {},
     "output_type": "execute_result"
    }
   ],
   "source": [
    "today.isocalendar()"
   ]
  },
  {
   "cell_type": "code",
   "execution_count": 38,
   "id": "660604f0-4240-433a-bd24-d0157908d902",
   "metadata": {},
   "outputs": [
    {
     "data": {
      "text/plain": [
       "'Sat Mar 23 00:00:00 2024'"
      ]
     },
     "execution_count": 38,
     "metadata": {},
     "output_type": "execute_result"
    }
   ],
   "source": [
    "today.ctime()"
   ]
  },
  {
   "cell_type": "code",
   "execution_count": 40,
   "id": "d60de4af-c259-4e0c-97df-f57b260aad07",
   "metadata": {},
   "outputs": [],
   "source": [
    "time_now=datetime.time(15,45,53)"
   ]
  },
  {
   "cell_type": "code",
   "execution_count": 42,
   "id": "e61087ea-1bdb-4e4e-9521-a08021ca99f8",
   "metadata": {},
   "outputs": [
    {
     "name": "stdout",
     "output_type": "stream",
     "text": [
      "15:45:53\n"
     ]
    }
   ],
   "source": [
    "print(time_now)"
   ]
  },
  {
   "cell_type": "code",
   "execution_count": 47,
   "id": "97fbb121-ea9b-4afd-96f5-b4b5eb1ceef5",
   "metadata": {},
   "outputs": [
    {
     "data": {
      "text/plain": [
       "datetime.datetime(2024, 3, 23, 15, 50, 44, 60402)"
      ]
     },
     "execution_count": 47,
     "metadata": {},
     "output_type": "execute_result"
    }
   ],
   "source": [
    "datetime.datetime.now()"
   ]
  },
  {
   "cell_type": "code",
   "execution_count": 48,
   "id": "0a26c327-c81b-456f-af7c-58bbc19757f5",
   "metadata": {},
   "outputs": [],
   "source": [
    "login=datetime.datetime.now()"
   ]
  },
  {
   "cell_type": "code",
   "execution_count": 78,
   "id": "5f000e4c-172a-4159-a42c-7e21817a5f42",
   "metadata": {},
   "outputs": [],
   "source": [
    "logout=datetime.datetime.now()"
   ]
  },
  {
   "cell_type": "code",
   "execution_count": 79,
   "id": "5b856936-f581-4a52-95b6-c558a1880620",
   "metadata": {},
   "outputs": [
    {
     "data": {
      "text/plain": [
       "datetime.timedelta(seconds=555, microseconds=698091)"
      ]
     },
     "execution_count": 79,
     "metadata": {},
     "output_type": "execute_result"
    }
   ],
   "source": [
    "traffic_time=logout-login\n",
    "traffic_time"
   ]
  },
  {
   "cell_type": "code",
   "execution_count": 80,
   "id": "f011c016-a475-4ab7-a0e0-38aed2d23182",
   "metadata": {},
   "outputs": [],
   "source": [
    "traffic_min=traffic_time/60"
   ]
  },
  {
   "cell_type": "code",
   "execution_count": 81,
   "id": "556d8198-6c0d-4b6b-b90e-6c542dabd935",
   "metadata": {},
   "outputs": [
    {
     "name": "stdout",
     "output_type": "stream",
     "text": [
      "Traffic recorded = 0:00:09.261635 mins\n"
     ]
    }
   ],
   "source": [
    "print(f'Traffic recorded = {traffic_min} mins')"
   ]
  },
  {
   "cell_type": "markdown",
   "id": "10e6551a-98d2-452e-bfc2-ec4d48c26bb0",
   "metadata": {},
   "source": [
    "___"
   ]
  },
  {
   "cell_type": "code",
   "execution_count": 82,
   "id": "ef1437c8-b6d3-4f8b-a72d-49d191e336cb",
   "metadata": {},
   "outputs": [],
   "source": [
    "import random"
   ]
  },
  {
   "cell_type": "code",
   "execution_count": 83,
   "id": "b08fec61-0a8b-45b8-8c54-6ccbdf63e4b9",
   "metadata": {},
   "outputs": [
    {
     "data": {
      "text/plain": [
       "34"
      ]
     },
     "execution_count": 83,
     "metadata": {},
     "output_type": "execute_result"
    }
   ],
   "source": [
    "random.randint(1,101)"
   ]
  },
  {
   "cell_type": "code",
   "execution_count": 88,
   "id": "2df21166-6c2a-4ce4-a4ee-5d5fe40aa902",
   "metadata": {},
   "outputs": [
    {
     "data": {
      "text/plain": [
       "25"
      ]
     },
     "execution_count": 88,
     "metadata": {},
     "output_type": "execute_result"
    }
   ],
   "source": [
    "random.seed(78)\n",
    "\n",
    "random.randint(1,101)"
   ]
  },
  {
   "cell_type": "code",
   "execution_count": 89,
   "id": "a8e8d1bc-624e-4ecb-8746-79a2688bf97e",
   "metadata": {},
   "outputs": [
    {
     "data": {
      "text/plain": [
       "13"
      ]
     },
     "execution_count": 89,
     "metadata": {},
     "output_type": "execute_result"
    }
   ],
   "source": [
    "random.randint(1,101)"
   ]
  },
  {
   "cell_type": "code",
   "execution_count": 90,
   "id": "eea2b6de-043d-4e5a-9201-431462b47563",
   "metadata": {},
   "outputs": [
    {
     "data": {
      "text/plain": [
       "39"
      ]
     },
     "execution_count": 90,
     "metadata": {},
     "output_type": "execute_result"
    }
   ],
   "source": [
    "random.randint(1,101)"
   ]
  },
  {
   "cell_type": "code",
   "execution_count": 91,
   "id": "cb5b0526-c7ac-478f-b042-58e50b9c9760",
   "metadata": {},
   "outputs": [
    {
     "data": {
      "text/plain": [
       "86"
      ]
     },
     "execution_count": 91,
     "metadata": {},
     "output_type": "execute_result"
    }
   ],
   "source": [
    "random.randint(1,101)"
   ]
  },
  {
   "cell_type": "code",
   "execution_count": 92,
   "id": "0971bb93-6e96-434b-9999-db8e932b2897",
   "metadata": {},
   "outputs": [
    {
     "name": "stdout",
     "output_type": "stream",
     "text": [
      "25\n",
      "13\n",
      "39\n",
      "86\n",
      "94\n",
      "33\n"
     ]
    }
   ],
   "source": [
    "random.seed(78)\n",
    "print(random.randint(1,101))\n",
    "print(random.randint(1,101))\n",
    "print(random.randint(1,101))\n",
    "print(random.randint(1,101))\n",
    "print(random.randint(1,101))\n",
    "print(random.randint(1,101))"
   ]
  },
  {
   "cell_type": "code",
   "execution_count": 96,
   "id": "0531459a-764b-42ee-885c-a39d7bd32636",
   "metadata": {},
   "outputs": [
    {
     "data": {
      "text/plain": [
       "837"
      ]
     },
     "execution_count": 96,
     "metadata": {},
     "output_type": "execute_result"
    }
   ],
   "source": [
    "random.randint(800,1001)"
   ]
  },
  {
   "cell_type": "code",
   "execution_count": 98,
   "id": "520ad75d-5628-4809-ae84-f6bc626def44",
   "metadata": {},
   "outputs": [
    {
     "data": {
      "text/plain": [
       "[0, 1, 2, 3, 4, 5, 6, 7, 8, 9]"
      ]
     },
     "execution_count": 98,
     "metadata": {},
     "output_type": "execute_result"
    }
   ],
   "source": [
    "mylist=list(range(10))\n",
    "mylist"
   ]
  },
  {
   "cell_type": "code",
   "execution_count": 100,
   "id": "30d8475c-264d-4763-a913-ab2877194599",
   "metadata": {},
   "outputs": [
    {
     "data": {
      "text/plain": [
       "3"
      ]
     },
     "execution_count": 100,
     "metadata": {},
     "output_type": "execute_result"
    }
   ],
   "source": [
    "random.choice(mylist)"
   ]
  },
  {
   "cell_type": "code",
   "execution_count": 101,
   "id": "6bb76964-12c9-48a2-88d7-ddcfe237a251",
   "metadata": {},
   "outputs": [
    {
     "data": {
      "text/plain": [
       "[0, 1, 2, 3, 4, 5, 6, 7, 8, 9]"
      ]
     },
     "execution_count": 101,
     "metadata": {},
     "output_type": "execute_result"
    }
   ],
   "source": [
    "mylist"
   ]
  },
  {
   "cell_type": "code",
   "execution_count": 102,
   "id": "f75edf2e-6491-4e84-a979-6395336007bc",
   "metadata": {},
   "outputs": [
    {
     "ename": "TypeError",
     "evalue": "The number of choices must be a keyword argument: k=5",
     "output_type": "error",
     "traceback": [
      "\u001b[0;31m---------------------------------------------------------------------------\u001b[0m",
      "\u001b[0;31mTypeError\u001b[0m                                 Traceback (most recent call last)",
      "Cell \u001b[0;32mIn[102], line 2\u001b[0m\n\u001b[1;32m      1\u001b[0m \u001b[38;5;66;03m#pick random sample with replacement\u001b[39;00m\n\u001b[0;32m----> 2\u001b[0m random\u001b[38;5;241m.\u001b[39mchoices(mylist,\u001b[38;5;241m5\u001b[39m)\n",
      "File \u001b[0;32m/opt/anaconda3/lib/python3.11/random.py:500\u001b[0m, in \u001b[0;36mRandom.choices\u001b[0;34m(self, population, weights, cum_weights, k)\u001b[0m\n\u001b[1;32m    498\u001b[0m             \u001b[38;5;28;01mraise\u001b[39;00m\n\u001b[1;32m    499\u001b[0m         k \u001b[38;5;241m=\u001b[39m weights\n\u001b[0;32m--> 500\u001b[0m         \u001b[38;5;28;01mraise\u001b[39;00m \u001b[38;5;167;01mTypeError\u001b[39;00m(\n\u001b[1;32m    501\u001b[0m             \u001b[38;5;124mf\u001b[39m\u001b[38;5;124m'\u001b[39m\u001b[38;5;124mThe number of choices must be a keyword argument: \u001b[39m\u001b[38;5;132;01m{\u001b[39;00mk\u001b[38;5;132;01m=}\u001b[39;00m\u001b[38;5;124m'\u001b[39m\n\u001b[1;32m    502\u001b[0m         ) \u001b[38;5;28;01mfrom\u001b[39;00m \u001b[38;5;28;01mNone\u001b[39;00m\n\u001b[1;32m    503\u001b[0m \u001b[38;5;28;01melif\u001b[39;00m weights \u001b[38;5;129;01mis\u001b[39;00m \u001b[38;5;129;01mnot\u001b[39;00m \u001b[38;5;28;01mNone\u001b[39;00m:\n\u001b[1;32m    504\u001b[0m     \u001b[38;5;28;01mraise\u001b[39;00m \u001b[38;5;167;01mTypeError\u001b[39;00m(\u001b[38;5;124m'\u001b[39m\u001b[38;5;124mCannot specify both weights and cumulative weights\u001b[39m\u001b[38;5;124m'\u001b[39m)\n",
      "\u001b[0;31mTypeError\u001b[0m: The number of choices must be a keyword argument: k=5"
     ]
    }
   ],
   "source": [
    "#pick random sample with replacement\n",
    "random.choices(mylist,5)"
   ]
  },
  {
   "cell_type": "code",
   "execution_count": 103,
   "id": "24f4cb80-992a-4a74-9238-3edd4d7213ed",
   "metadata": {},
   "outputs": [
    {
     "data": {
      "text/plain": [
       "[9, 4, 9, 0, 9]"
      ]
     },
     "execution_count": 103,
     "metadata": {},
     "output_type": "execute_result"
    }
   ],
   "source": [
    "#pick random sample with replacement\n",
    "random.choices(mylist,k=5)"
   ]
  },
  {
   "cell_type": "code",
   "execution_count": 104,
   "id": "fc5b2304-cf7a-43ee-8ebc-738b025a06f0",
   "metadata": {},
   "outputs": [
    {
     "data": {
      "text/plain": [
       "[2, 5, 6, 9, 8]"
      ]
     },
     "execution_count": 104,
     "metadata": {},
     "output_type": "execute_result"
    }
   ],
   "source": [
    "#pick random sample without replacement\n",
    "random.sample(mylist,k=5)"
   ]
  },
  {
   "cell_type": "code",
   "execution_count": 105,
   "id": "4855950b-aa91-4765-9205-475aed46b2ec",
   "metadata": {},
   "outputs": [
    {
     "data": {
      "text/plain": [
       "[0, 1, 2, 3, 4, 5, 6, 7, 8, 9]"
      ]
     },
     "execution_count": 105,
     "metadata": {},
     "output_type": "execute_result"
    }
   ],
   "source": [
    "mylist"
   ]
  },
  {
   "cell_type": "code",
   "execution_count": 106,
   "id": "1304d293-947f-45f5-90ad-4a3e514d9dbc",
   "metadata": {},
   "outputs": [],
   "source": [
    "import pdb"
   ]
  },
  {
   "cell_type": "code",
   "execution_count": 107,
   "id": "3fafe25a-3e1f-4055-8a4f-34a861e49faf",
   "metadata": {},
   "outputs": [
    {
     "ename": "TypeError",
     "evalue": "unsupported operand type(s) for +: 'int' and 'str'",
     "output_type": "error",
     "traceback": [
      "\u001b[0;31m---------------------------------------------------------------------------\u001b[0m",
      "\u001b[0;31mTypeError\u001b[0m                                 Traceback (most recent call last)",
      "Cell \u001b[0;32mIn[107], line 3\u001b[0m\n\u001b[1;32m      1\u001b[0m month\u001b[38;5;241m=\u001b[39m \u001b[38;5;124m'\u001b[39m\u001b[38;5;124mOctober\u001b[39m\u001b[38;5;124m'\u001b[39m\n\u001b[1;32m      2\u001b[0m day\u001b[38;5;241m=\u001b[39m\u001b[38;5;241m3\u001b[39m\n\u001b[0;32m----> 3\u001b[0m date\u001b[38;5;241m=\u001b[39mday\u001b[38;5;241m+\u001b[39mmonth\n",
      "\u001b[0;31mTypeError\u001b[0m: unsupported operand type(s) for +: 'int' and 'str'"
     ]
    }
   ],
   "source": [
    "month= 'October'\n",
    "day=3\n",
    "date=day+month"
   ]
  },
  {
   "cell_type": "code",
   "execution_count": 108,
   "id": "6306393f-346d-4414-972a-2166a710b4b5",
   "metadata": {},
   "outputs": [
    {
     "name": "stdout",
     "output_type": "stream",
     "text": [
      "--Return--\n",
      "None\n",
      "> \u001b[0;32m/var/folders/l8/_b6fjjrx2bd3sc4gf4vqf0vc0000gp/T/ipykernel_21118/2683151902.py\u001b[0m(4)\u001b[0;36m<module>\u001b[0;34m()\u001b[0m\n",
      "\u001b[0;32m      1 \u001b[0;31m\u001b[0;31m#error in line 3, so insert trace before line 3 to check the status of variables\u001b[0m\u001b[0;34m\u001b[0m\u001b[0;34m\u001b[0m\u001b[0m\n",
      "\u001b[0m\u001b[0;32m      2 \u001b[0;31m\u001b[0mmonth\u001b[0m\u001b[0;34m=\u001b[0m \u001b[0;34m'October'\u001b[0m\u001b[0;34m\u001b[0m\u001b[0;34m\u001b[0m\u001b[0m\n",
      "\u001b[0m\u001b[0;32m      3 \u001b[0;31m\u001b[0mday\u001b[0m\u001b[0;34m=\u001b[0m\u001b[0;36m3\u001b[0m\u001b[0;34m\u001b[0m\u001b[0;34m\u001b[0m\u001b[0m\n",
      "\u001b[0m\u001b[0;32m----> 4 \u001b[0;31m\u001b[0mpdb\u001b[0m\u001b[0;34m.\u001b[0m\u001b[0mset_trace\u001b[0m\u001b[0;34m(\u001b[0m\u001b[0;34m)\u001b[0m\u001b[0;34m\u001b[0m\u001b[0;34m\u001b[0m\u001b[0m\n",
      "\u001b[0m\u001b[0;32m      5 \u001b[0;31m\u001b[0mdate\u001b[0m\u001b[0;34m=\u001b[0m\u001b[0mday\u001b[0m\u001b[0;34m+\u001b[0m\u001b[0mmonth\u001b[0m\u001b[0;34m\u001b[0m\u001b[0;34m\u001b[0m\u001b[0m\n",
      "\u001b[0m\n"
     ]
    },
    {
     "name": "stdin",
     "output_type": "stream",
     "text": [
      "ipdb>  month\n"
     ]
    },
    {
     "name": "stdout",
     "output_type": "stream",
     "text": [
      "'October'\n"
     ]
    },
    {
     "name": "stdin",
     "output_type": "stream",
     "text": [
      "ipdb>  day\n"
     ]
    },
    {
     "name": "stdout",
     "output_type": "stream",
     "text": [
      "3\n"
     ]
    },
    {
     "name": "stdin",
     "output_type": "stream",
     "text": [
      "ipdb>  type(day)\n"
     ]
    },
    {
     "name": "stdout",
     "output_type": "stream",
     "text": [
      "<class 'int'>\n"
     ]
    },
    {
     "name": "stdin",
     "output_type": "stream",
     "text": [
      "ipdb>  day+month\n"
     ]
    },
    {
     "name": "stdout",
     "output_type": "stream",
     "text": [
      "*** TypeError: unsupported operand type(s) for +: 'int' and 'str'\n"
     ]
    },
    {
     "name": "stdin",
     "output_type": "stream",
     "text": [
      "ipdb>  q\n"
     ]
    }
   ],
   "source": [
    "#error in line 3, so insert trace before line 3 to check the status of variables\n",
    "month= 'October'\n",
    "day=3\n",
    "pdb.set_trace()\n",
    "date=day+month"
   ]
  },
  {
   "cell_type": "code",
   "execution_count": 111,
   "id": "ff238411-a0f8-49ed-ae57-8e78d7908061",
   "metadata": {},
   "outputs": [
    {
     "data": {
      "text/plain": [
       "'3 October'"
      ]
     },
     "execution_count": 111,
     "metadata": {},
     "output_type": "execute_result"
    }
   ],
   "source": [
    "month= 'October'\n",
    "day=3\n",
    "date=str(day)+' '+month\n",
    "date"
   ]
  },
  {
   "cell_type": "markdown",
   "id": "b0046b90-dd19-43be-be62-0acbf8490798",
   "metadata": {},
   "source": [
    "___"
   ]
  },
  {
   "cell_type": "markdown",
   "id": "9cd7ba5a-7bc5-4ce5-9a7c-851029be86d1",
   "metadata": {},
   "source": [
    "### Timeit func"
   ]
  },
  {
   "cell_type": "code",
   "execution_count": 112,
   "id": "f858acbb-e68f-4336-9922-276eca949210",
   "metadata": {},
   "outputs": [],
   "source": [
    "import time"
   ]
  },
  {
   "cell_type": "code",
   "execution_count": 127,
   "id": "e5f9dfd6-6da5-4732-900c-ded3823f7916",
   "metadata": {},
   "outputs": [],
   "source": [
    "def fibonacci_1(n):\n",
    "    a=0\n",
    "    b=1\n",
    "    series=[0,1]\n",
    "    while a+b<n:\n",
    "        c=a+b\n",
    "        series.append(c)\n",
    "        a=b\n",
    "        b=c\n",
    "        \n",
    "    return series"
   ]
  },
  {
   "cell_type": "code",
   "execution_count": 128,
   "id": "285b2c44-ed33-470a-b233-fee15e284ec4",
   "metadata": {},
   "outputs": [
    {
     "data": {
      "text/plain": [
       "[0, 1, 1, 2, 3, 5, 8, 13, 21, 34, 55, 89]"
      ]
     },
     "execution_count": 128,
     "metadata": {},
     "output_type": "execute_result"
    }
   ],
   "source": [
    "result=fibonacci_1(100)\n",
    "result"
   ]
  },
  {
   "cell_type": "code",
   "execution_count": 141,
   "id": "ee132de9-c9a4-421a-8802-653fb6ac77d3",
   "metadata": {},
   "outputs": [],
   "source": [
    "def fibonacci_2(n):\n",
    "    a=0\n",
    "    b=1\n",
    "    while a<n:\n",
    "        yield (a)\n",
    "        temp=a\n",
    "        a=b\n",
    "        b=temp+b"
   ]
  },
  {
   "cell_type": "code",
   "execution_count": 142,
   "id": "a76c49ae-3689-4c76-b6b9-3f94d3a9a49b",
   "metadata": {},
   "outputs": [
    {
     "name": "stdout",
     "output_type": "stream",
     "text": [
      "0\n",
      "1\n",
      "1\n",
      "2\n",
      "3\n",
      "5\n",
      "8\n",
      "13\n",
      "21\n",
      "34\n",
      "55\n",
      "89\n"
     ]
    }
   ],
   "source": [
    "for x in fibonacci_2(100):\n",
    "    print(x)"
   ]
  },
  {
   "cell_type": "code",
   "execution_count": 150,
   "id": "24c52848-fe24-453f-a66e-5d68ac7f9795",
   "metadata": {},
   "outputs": [
    {
     "name": "stdout",
     "output_type": "stream",
     "text": [
      "[0, 1, 1, 2, 3, 5, 8, 13, 21, 34, 55, 89, 144, 233, 377, 610, 987, 1597, 2584, 4181, 6765, 10946, 17711, 28657, 46368, 75025, 121393, 196418, 317811, 514229, 832040, 1346269, 2178309, 3524578, 5702887, 9227465, 14930352, 24157817, 39088169, 63245986, 102334155, 165580141, 267914296, 433494437, 701408733, 1134903170, 1836311903, 2971215073, 4807526976, 7778742049, 12586269025, 20365011074, 32951280099, 53316291173, 86267571272, 139583862445, 225851433717, 365435296162, 591286729879, 956722026041, 1548008755920, 2504730781961, 4052739537881, 6557470319842, 10610209857723, 17167680177565, 27777890035288, 44945570212853, 72723460248141, 117669030460994, 190392490709135, 308061521170129, 498454011879264, 806515533049393, 1304969544928657, 2111485077978050, 3416454622906707, 5527939700884757, 8944394323791464, 14472334024676221, 23416728348467685, 37889062373143906, 61305790721611591, 99194853094755497, 160500643816367088, 259695496911122585, 420196140727489673, 679891637638612258, 1100087778366101931, 1779979416004714189, 2880067194370816120, 4660046610375530309, 7540113804746346429, 12200160415121876738, 19740274219868223167, 31940434634990099905, 51680708854858323072, 83621143489848422977]\n"
     ]
    },
    {
     "data": {
      "text/plain": [
       "0.0005621910095214844"
      ]
     },
     "execution_count": 150,
     "metadata": {},
     "output_type": "execute_result"
    }
   ],
   "source": [
    "#calculating time manually\n",
    "start=time.time()\n",
    "\n",
    "result=fibonacci_1(100000000000000000000)\n",
    "print(result)\n",
    "\n",
    "end=time.time()\n",
    "\n",
    "end-start"
   ]
  },
  {
   "cell_type": "code",
   "execution_count": 151,
   "id": "ad5d3b7a-3691-45fc-bf77-d4168abc363c",
   "metadata": {},
   "outputs": [
    {
     "name": "stdout",
     "output_type": "stream",
     "text": [
      "0\n",
      "1\n",
      "1\n",
      "2\n",
      "3\n",
      "5\n",
      "8\n",
      "13\n",
      "21\n",
      "34\n",
      "55\n",
      "89\n",
      "144\n",
      "233\n",
      "377\n",
      "610\n",
      "987\n",
      "1597\n",
      "2584\n",
      "4181\n",
      "6765\n",
      "10946\n",
      "17711\n",
      "28657\n",
      "46368\n",
      "75025\n",
      "121393\n",
      "196418\n",
      "317811\n",
      "514229\n",
      "832040\n",
      "1346269\n",
      "2178309\n",
      "3524578\n",
      "5702887\n",
      "9227465\n",
      "14930352\n",
      "24157817\n",
      "39088169\n",
      "63245986\n",
      "102334155\n",
      "165580141\n",
      "267914296\n",
      "433494437\n",
      "701408733\n",
      "1134903170\n",
      "1836311903\n",
      "2971215073\n",
      "4807526976\n",
      "7778742049\n",
      "12586269025\n",
      "20365011074\n",
      "32951280099\n",
      "53316291173\n",
      "86267571272\n",
      "139583862445\n",
      "225851433717\n",
      "365435296162\n",
      "591286729879\n",
      "956722026041\n",
      "1548008755920\n",
      "2504730781961\n",
      "4052739537881\n",
      "6557470319842\n",
      "10610209857723\n",
      "17167680177565\n",
      "27777890035288\n",
      "44945570212853\n",
      "72723460248141\n",
      "117669030460994\n",
      "190392490709135\n",
      "308061521170129\n",
      "498454011879264\n",
      "806515533049393\n",
      "1304969544928657\n",
      "2111485077978050\n",
      "3416454622906707\n",
      "5527939700884757\n",
      "8944394323791464\n",
      "14472334024676221\n",
      "23416728348467685\n",
      "37889062373143906\n",
      "61305790721611591\n",
      "99194853094755497\n",
      "160500643816367088\n",
      "259695496911122585\n",
      "420196140727489673\n",
      "679891637638612258\n",
      "1100087778366101931\n",
      "1779979416004714189\n",
      "2880067194370816120\n",
      "4660046610375530309\n",
      "7540113804746346429\n",
      "12200160415121876738\n",
      "19740274219868223167\n",
      "31940434634990099905\n",
      "51680708854858323072\n",
      "83621143489848422977\n"
     ]
    },
    {
     "data": {
      "text/plain": [
       "0.00035309791564941406"
      ]
     },
     "execution_count": 151,
     "metadata": {},
     "output_type": "execute_result"
    }
   ],
   "source": [
    "#calculating time manually\n",
    "start=time.time()\n",
    "\n",
    "for x in fibonacci_2(100000000000000000000):\n",
    "    print(x)\n",
    "\n",
    "end=time.time()\n",
    "\n",
    "end-start"
   ]
  },
  {
   "cell_type": "code",
   "execution_count": 152,
   "id": "cae8f555-2a9e-445a-b6da-37eb10bcc392",
   "metadata": {},
   "outputs": [],
   "source": [
    "# from timeit module\n",
    "import timeit"
   ]
  },
  {
   "cell_type": "code",
   "execution_count": 164,
   "id": "49145bff-121a-4a04-bc96-356cfe1e6d97",
   "metadata": {},
   "outputs": [],
   "source": [
    "from random import shuffle"
   ]
  },
  {
   "cell_type": "code",
   "execution_count": 189,
   "id": "b510f431-e6ac-4711-b4f3-b69977dee32a",
   "metadata": {},
   "outputs": [
    {
     "data": {
      "text/plain": [
       "[75.4419,\n",
       " 75.52476,\n",
       " 11.73736,\n",
       " 75.32717,\n",
       " 77.38865,\n",
       " 18.31965,\n",
       " 14.9096,\n",
       " 77.1139,\n",
       " 16.38528,\n",
       " 18.68786,\n",
       " 13.5873,\n",
       " 18.73408,\n",
       " 76.55431,\n",
       " 12.4771,\n",
       " 75.84018,\n",
       " 76.19957,\n",
       " 18.19852,\n",
       " 78.50293,\n",
       " 12.60196,\n",
       " 71.59313]"
      ]
     },
     "execution_count": 189,
     "metadata": {},
     "output_type": "execute_result"
    }
   ],
   "source": [
    "test1=[round(random.uniform(11.0,19.0),5) for i in range(10)]\n",
    "test2=[round(random.uniform(71.0,79.0),5) for i in range(10)]\n",
    "test=test1+test2\n",
    "shuffle(test)\n",
    "test"
   ]
  },
  {
   "cell_type": "code",
   "execution_count": 190,
   "id": "ffd07e79-7466-48cf-9391-ae6b462eb943",
   "metadata": {},
   "outputs": [
    {
     "name": "stdout",
     "output_type": "stream",
     "text": [
      "[18.31965, 14.9096, 16.38528, 18.68786, 13.5873, 18.73408, 18.19852]\n",
      "[75.4419, 75.52476, 75.32717, 77.38865, 77.1139, 76.55431, 75.84018, 76.19957, 78.50293]\n"
     ]
    }
   ],
   "source": [
    "latitude,longitude=classify(test)\n",
    "print(latitude)\n",
    "print(longitude)"
   ]
  },
  {
   "cell_type": "code",
   "execution_count": 169,
   "id": "aaf26872-06a4-4642-a249-eed38519caed",
   "metadata": {},
   "outputs": [],
   "source": [
    "list1=[round(random.uniform(11.0,19.0),5) for i in range(10000)]"
   ]
  },
  {
   "cell_type": "code",
   "execution_count": 170,
   "id": "5a9f58d6-1e67-4fac-bf33-aa31cd1682a1",
   "metadata": {},
   "outputs": [],
   "source": [
    "list2=[round(random.uniform(71.0,79.0),5) for i in range(10000)]"
   ]
  },
  {
   "cell_type": "code",
   "execution_count": 191,
   "id": "c1abd30a-22c3-4516-8b30-7377d07c6039",
   "metadata": {},
   "outputs": [],
   "source": [
    "del(list1)"
   ]
  },
  {
   "cell_type": "code",
   "execution_count": 192,
   "id": "d5f8ca29-fb06-400e-88c4-66c9c77b29bc",
   "metadata": {},
   "outputs": [],
   "source": [
    "del(list2)"
   ]
  },
  {
   "cell_type": "code",
   "execution_count": 180,
   "id": "7be7fcc9-32b4-44a2-bddb-f3f8ff7ea5d4",
   "metadata": {},
   "outputs": [
    {
     "data": {
      "text/plain": [
       "20000"
      ]
     },
     "execution_count": 180,
     "metadata": {},
     "output_type": "execute_result"
    }
   ],
   "source": [
    "coordinates=list1+list2\n",
    "shuffle(coordinates)\n",
    "len(coordinates)"
   ]
  },
  {
   "cell_type": "code",
   "execution_count": 207,
   "id": "c281f01e-41d6-4f21-b652-fcdcc1f071e8",
   "metadata": {},
   "outputs": [],
   "source": [
    "statement1='''\n",
    "import random\n",
    "from random import shuffle\n",
    "list1=[round(random.uniform(13.5,18.3),5) for i in range(10000)]\n",
    "list2=[round(random.uniform(74.5,78.3),5) for i in range(10000)]\n",
    "coordinates=list1+list2\n",
    "shuffle(coordinates)\n",
    "latitude,longitude=classify(coordinates)\n",
    "'''"
   ]
  },
  {
   "cell_type": "code",
   "execution_count": 210,
   "id": "340f1163-a611-4691-85ca-f57557fc0dd5",
   "metadata": {},
   "outputs": [],
   "source": [
    "setup1='''\n",
    "def classify(coordinates):\n",
    "    lat=[]\n",
    "    lon=[]\n",
    "    for value in coordinates:\n",
    "        if int(value) in range(13,19):\n",
    "            lat.append(value)\n",
    "        elif int(value) in range(74,79):\n",
    "            lon.append(value)\n",
    "    return lat,lon\n",
    "'''"
   ]
  },
  {
   "cell_type": "code",
   "execution_count": 211,
   "id": "9f9690bf-2070-4aaa-8d79-2de0d3f8c7de",
   "metadata": {},
   "outputs": [
    {
     "data": {
      "text/plain": [
       "105.93930004199501"
      ]
     },
     "execution_count": 211,
     "metadata": {},
     "output_type": "execute_result"
    }
   ],
   "source": [
    "timeit.timeit(stmt=statement1,setup=setup1,number=10000)"
   ]
  },
  {
   "cell_type": "code",
   "execution_count": 282,
   "id": "8df35b36-8357-4ba9-ad25-2ddd503693db",
   "metadata": {},
   "outputs": [
    {
     "data": {
      "text/plain": [
       "20"
      ]
     },
     "execution_count": 282,
     "metadata": {},
     "output_type": "execute_result"
    }
   ],
   "source": [
    "test1=[round(random.uniform(13.0,18.3),5) for i in range(10)]\n",
    "test2=[round(random.uniform(74.0,78.3),5) for i in range(10)]\n",
    "test=test1+test2\n",
    "shuffle(test)\n",
    "len(test)"
   ]
  },
  {
   "cell_type": "code",
   "execution_count": 279,
   "id": "23bdec7e-054b-44a4-a713-cbf74f08a038",
   "metadata": {},
   "outputs": [],
   "source": [
    "def get_value(coordinates):\n",
    "    for value in coordinates:\n",
    "        yield value\n",
    "\n",
    "def categorize(value):\n",
    "    if int(value) in range(13,19):\n",
    "        lat.append(value)\n",
    "    elif int(value) in range(74,79):\n",
    "        lon.append(value)"
   ]
  },
  {
   "cell_type": "code",
   "execution_count": 283,
   "id": "65b4e7e8-ea38-44e2-8513-2072098fe957",
   "metadata": {},
   "outputs": [
    {
     "name": "stdout",
     "output_type": "stream",
     "text": [
      "[13.97716, 14.50016, 15.5178, 15.1402, 16.30169, 15.76358, 16.94909, 13.07788, 14.83185, 15.78614]\n",
      "[74.27431, 74.6404, 74.82859, 75.85257, 74.89662, 75.20896, 76.47405, 76.72606, 76.85352, 74.87322]\n"
     ]
    }
   ],
   "source": [
    "lat=[]\n",
    "lon=[]\n",
    "list(map(categorize,get_value(test)))\n",
    "print(lat)\n",
    "print(lon)"
   ]
  },
  {
   "cell_type": "code",
   "execution_count": 287,
   "id": "5cd58bc6-d172-4474-87cd-acefd655ecf7",
   "metadata": {},
   "outputs": [],
   "source": [
    "statement2='''\n",
    "import random\n",
    "from random import shuffle\n",
    "list1=[round(random.uniform(13.5,18.3),5) for i in range(10000)]\n",
    "list2=[round(random.uniform(74.5,78.3),5) for i in range(10000)]\n",
    "coordinates=list1+list2\n",
    "shuffle(coordinates)\n",
    "lat=[]\n",
    "lon=[]\n",
    "list(map(categorize,get_value(coordinates)))\n",
    "'''"
   ]
  },
  {
   "cell_type": "code",
   "execution_count": 288,
   "id": "c2c7a398-e161-46bf-a20d-3a74af0d9a41",
   "metadata": {},
   "outputs": [],
   "source": [
    "setup2='''\n",
    "def get_value(coordinates):\n",
    "    for value in coordinates:\n",
    "        yield value\n",
    "\n",
    "def categorize(value):\n",
    "    if int(value) in range(13,19):\n",
    "        lat.append(value)\n",
    "    elif int(value) in range(74,79):\n",
    "        lon.append(value)\n",
    "'''"
   ]
  },
  {
   "cell_type": "code",
   "execution_count": 289,
   "id": "31a90c53-31bb-43f8-ab0e-af0623ec60cf",
   "metadata": {},
   "outputs": [
    {
     "data": {
      "text/plain": [
       "113.27268683300645"
      ]
     },
     "execution_count": 289,
     "metadata": {},
     "output_type": "execute_result"
    }
   ],
   "source": [
    "timeit.timeit(stmt=statement2,setup=setup2,number=10000)"
   ]
  },
  {
   "cell_type": "code",
   "execution_count": 292,
   "id": "fce4b63b-0332-4281-8b9b-cdcc339c5738",
   "metadata": {},
   "outputs": [
    {
     "data": {
      "text/plain": [
       "20"
      ]
     },
     "execution_count": 292,
     "metadata": {},
     "output_type": "execute_result"
    }
   ],
   "source": [
    "test1=[round(random.uniform(13.0,18.3),5) for i in range(10)]\n",
    "test2=[round(random.uniform(74.0,78.3),5) for i in range(10)]\n",
    "test=test1+test2\n",
    "shuffle(test)\n",
    "len(test)"
   ]
  },
  {
   "cell_type": "code",
   "execution_count": 294,
   "id": "37725fa9-a2ba-4bca-af9b-875e66798ff4",
   "metadata": {},
   "outputs": [
    {
     "name": "stdout",
     "output_type": "stream",
     "text": [
      "[17.94848, 13.74049, 17.18062, 13.73466, 18.29732, 14.19098, 17.4481, 14.28847, 14.74721, 15.11973]\n",
      "[75.02623, 77.11966, 76.58866, 76.45309, 74.9775, 76.38181, 75.68871, 74.21686, 76.00125, 76.4266]\n"
     ]
    }
   ],
   "source": [
    "lat=[]\n",
    "lon=[]\n",
    "list(map(categorize,test))\n",
    "print(lat)\n",
    "print(lon)"
   ]
  },
  {
   "cell_type": "code",
   "execution_count": 290,
   "id": "1135721f-1957-489d-8356-5de3c158193f",
   "metadata": {},
   "outputs": [],
   "source": [
    "statement3='''\n",
    "import random\n",
    "from random import shuffle\n",
    "list1=[round(random.uniform(13.5,18.3),5) for i in range(10000)]\n",
    "list2=[round(random.uniform(74.5,78.3),5) for i in range(10000)]\n",
    "coordinates=list1+list2\n",
    "shuffle(coordinates)\n",
    "lat=[]\n",
    "lon=[]\n",
    "list(map(categorize,coordinates))\n",
    "'''"
   ]
  },
  {
   "cell_type": "code",
   "execution_count": 291,
   "id": "758e3d5d-93cc-4d5a-83b0-5dd8d13071e7",
   "metadata": {},
   "outputs": [],
   "source": [
    "setup3='''\n",
    "def categorize(value):\n",
    "    if int(value) in range(13,19):\n",
    "        lat.append(value)\n",
    "    elif int(value) in range(74,79):\n",
    "        lon.append(value)\n",
    "'''"
   ]
  },
  {
   "cell_type": "code",
   "execution_count": 296,
   "id": "5adc7627-d3d7-44a1-9adf-9ddb20189cb4",
   "metadata": {},
   "outputs": [
    {
     "data": {
      "text/plain": [
       "109.69760899999528"
      ]
     },
     "execution_count": 296,
     "metadata": {},
     "output_type": "execute_result"
    }
   ],
   "source": [
    "timeit.timeit(stmt=statement3,setup=setup3,number=10000)"
   ]
  },
  {
   "cell_type": "code",
   "execution_count": 311,
   "id": "504d49e0-f900-4072-9a4e-f906a4ce5616",
   "metadata": {},
   "outputs": [
    {
     "name": "stdout",
     "output_type": "stream",
     "text": [
      "2.63 ms ± 53 µs per loop (mean ± std. dev. of 7 runs, 100 loops each)\n"
     ]
    }
   ],
   "source": [
    "%%timeit\n",
    "lat,long=classify(coordinates)"
   ]
  },
  {
   "cell_type": "code",
   "execution_count": 309,
   "id": "541c46c5-5c94-4cf5-8925-f92291cb68c7",
   "metadata": {},
   "outputs": [
    {
     "name": "stdout",
     "output_type": "stream",
     "text": [
      "3.2 ms ± 11.5 µs per loop (mean ± std. dev. of 7 runs, 100 loops each)\n"
     ]
    }
   ],
   "source": [
    "%%timeit\n",
    "#jupyter magic command always on first line\n",
    "lat=[]\n",
    "lon=[]\n",
    "list(map(categorize,get_value(coordinates)))"
   ]
  },
  {
   "cell_type": "code",
   "execution_count": 310,
   "id": "b50556dd-2143-4ece-9185-9cc37b1bbf99",
   "metadata": {},
   "outputs": [
    {
     "name": "stdout",
     "output_type": "stream",
     "text": [
      "2.98 ms ± 14.5 µs per loop (mean ± std. dev. of 7 runs, 100 loops each)\n"
     ]
    }
   ],
   "source": [
    "%%timeit\n",
    "lat=[]\n",
    "lon=[]\n",
    "list(map(categorize,coordinates))"
   ]
  },
  {
   "cell_type": "markdown",
   "id": "4aa95c11-a95a-47f2-ba5a-27984d875de7",
   "metadata": {},
   "source": [
    "___"
   ]
  },
  {
   "cell_type": "markdown",
   "id": "962d2d32-0d18-41f7-8388-3cced75ffe57",
   "metadata": {},
   "source": [
    "### Zipping and UnZipping files"
   ]
  },
  {
   "cell_type": "code",
   "execution_count": 1,
   "id": "dd780344-94b0-43d7-b528-a676954fc308",
   "metadata": {},
   "outputs": [],
   "source": [
    "with open('file_1.txt','w') as f:\n",
    "    f.write('This file will be zipped')\n",
    "\n",
    "with open('file_2.txt','w') as f:\n",
    "    f.write('Practicing zipping of a file')"
   ]
  },
  {
   "cell_type": "code",
   "execution_count": 2,
   "id": "0685ebd7-6f9c-4e72-a0b5-68273177a1c5",
   "metadata": {},
   "outputs": [],
   "source": [
    "import zipfile"
   ]
  },
  {
   "cell_type": "code",
   "execution_count": 3,
   "id": "aaf1bb3e-30c6-470d-8cde-43df26a87927",
   "metadata": {},
   "outputs": [],
   "source": [
    "zip_creation_instance=zipfile.ZipFile('Practice.zip',mode='w')"
   ]
  },
  {
   "cell_type": "code",
   "execution_count": 4,
   "id": "9b16795c-d98e-4113-9673-1a96c554125c",
   "metadata": {},
   "outputs": [],
   "source": [
    "zip_creation_instance.write('file_1.txt',compress_type=zipfile.ZIP_DEFLATED)"
   ]
  },
  {
   "cell_type": "code",
   "execution_count": 5,
   "id": "99ee1af8-4571-457b-9a42-98eac59a663c",
   "metadata": {},
   "outputs": [],
   "source": [
    "zip_creation_instance.write('file_2.txt',compress_type=zipfile.ZIP_DEFLATED)"
   ]
  },
  {
   "cell_type": "code",
   "execution_count": 6,
   "id": "17373356-83f0-4aaa-a038-77b463870fdb",
   "metadata": {},
   "outputs": [],
   "source": [
    "zip_creation_instance.close()"
   ]
  },
  {
   "cell_type": "code",
   "execution_count": 7,
   "id": "199f4db5-9a09-4b47-8c0e-426f04a5cccf",
   "metadata": {},
   "outputs": [],
   "source": [
    "zip_read_instance=zipfile.ZipFile('Practice.zip',mode='r')"
   ]
  },
  {
   "cell_type": "code",
   "execution_count": 10,
   "id": "cfc315ab-3c96-4278-a3f0-38146c61b2ce",
   "metadata": {},
   "outputs": [
    {
     "data": {
      "text/plain": [
       "b'This file will be zipped'"
      ]
     },
     "execution_count": 10,
     "metadata": {},
     "output_type": "execute_result"
    }
   ],
   "source": [
    "zip_read_instance.read('file_1.txt')"
   ]
  },
  {
   "cell_type": "code",
   "execution_count": 11,
   "id": "141b5e0e-d7b0-411e-9777-c6260e453018",
   "metadata": {},
   "outputs": [],
   "source": [
    "zip_read_instance.extractall('extracted_Practice')"
   ]
  },
  {
   "cell_type": "code",
   "execution_count": 15,
   "id": "88dc407c-2ebc-444b-8c2e-3561b78e4087",
   "metadata": {},
   "outputs": [
    {
     "data": {
      "text/plain": [
       "'/Users/sumanth/Documents/Mac_Backup/PyNotes'"
      ]
     },
     "execution_count": 15,
     "metadata": {},
     "output_type": "execute_result"
    }
   ],
   "source": [
    "#instead of writing individual files to zip folder, use shutil module to zip the entire folder at once\n",
    "import shutil\n",
    "import os\n",
    "os.getcwd()"
   ]
  },
  {
   "cell_type": "code",
   "execution_count": 19,
   "id": "9d34ffdb-411f-4ce7-bf9b-d5dd162269ae",
   "metadata": {},
   "outputs": [
    {
     "data": {
      "text/plain": [
       "'/Users/sumanth/Documents/Mac_Backup/PyNotes/shutil_zip.zip'"
      ]
     },
     "execution_count": 19,
     "metadata": {},
     "output_type": "execute_result"
    }
   ],
   "source": [
    "shutil.make_archive('shutil_zip',format='zip',root_dir='/Users/sumanth/Documents/Mac_Backup/PyNotes/extracted_practice')"
   ]
  },
  {
   "cell_type": "code",
   "execution_count": 23,
   "id": "9bd01fcc-cd00-49a3-9352-23bc9090d153",
   "metadata": {},
   "outputs": [],
   "source": [
    "shutil.unpack_archive('shutil_zip.zip','shutil_unzip',format='zip')"
   ]
  },
  {
   "cell_type": "code",
   "execution_count": null,
   "id": "322d2d1c-77a3-445f-954b-97705b3cfddf",
   "metadata": {},
   "outputs": [],
   "source": []
  }
 ],
 "metadata": {
  "kernelspec": {
   "display_name": "Python 3 (ipykernel)",
   "language": "python",
   "name": "python3"
  },
  "language_info": {
   "codemirror_mode": {
    "name": "ipython",
    "version": 3
   },
   "file_extension": ".py",
   "mimetype": "text/x-python",
   "name": "python",
   "nbconvert_exporter": "python",
   "pygments_lexer": "ipython3",
   "version": "3.11.7"
  }
 },
 "nbformat": 4,
 "nbformat_minor": 5
}
