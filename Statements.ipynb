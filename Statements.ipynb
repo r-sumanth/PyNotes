{
 "cells": [
  {
   "cell_type": "markdown",
   "id": "239bcc64",
   "metadata": {},
   "source": [
    "Pyhton Statements"
   ]
  },
  {
   "cell_type": "code",
   "execution_count": 1,
   "id": "415fb9b8",
   "metadata": {},
   "outputs": [
    {
     "name": "stdout",
     "output_type": "stream",
     "text": [
      "Upload your DL, Voter ID\n"
     ]
    }
   ],
   "source": [
    "age=23\n",
    "if age>18:\n",
    "    print(\"Upload your DL, Voter ID\")\n",
    "elif age==18:\n",
    "    print('Apply for DL, Voter ID')\n",
    "else:\n",
    "    print('Minors not allowed')"
   ]
  },
  {
   "cell_type": "code",
   "execution_count": 6,
   "id": "dfbe631c",
   "metadata": {},
   "outputs": [],
   "source": [
    "d={'Apple': 'f', 'Carrot': 'v', 'Mango': 'f', 'Beetroot':'v'}"
   ]
  },
  {
   "cell_type": "code",
   "execution_count": 8,
   "id": "4c004850",
   "metadata": {},
   "outputs": [
    {
     "name": "stdout",
     "output_type": "stream",
     "text": [
      "Apple is a fruit\n",
      "Carrot is a vegetable\n",
      "Mango is a fruit\n",
      "Beetroot is a vegetable\n"
     ]
    }
   ],
   "source": [
    "i=0\n",
    "for indicator in d.values():\n",
    "    if indicator=='f':\n",
    "        print(f'{list(d.keys())[i]} is a fruit')\n",
    "    elif indicator=='v':\n",
    "        print(f'{list(d.keys())[i]} is a vegetable')\n",
    "    i+=1"
   ]
  },
  {
   "cell_type": "code",
   "execution_count": 9,
   "id": "e4238659",
   "metadata": {},
   "outputs": [
    {
     "name": "stdout",
     "output_type": "stream",
     "text": [
      "Apple is a fruit\n",
      "Carrot is a vegetable\n",
      "Mango is a fruit\n",
      "Beetroot is a vegetable\n"
     ]
    }
   ],
   "source": [
    "#tuple unpacking\n",
    "for (item,parameter) in d.items():\n",
    "    if parameter=='f':\n",
    "        print(f'{item} is a fruit')\n",
    "    elif parameter=='v':\n",
    "        print(f'{item} is a vegetable')"
   ]
  },
  {
   "cell_type": "code",
   "execution_count": 5,
   "id": "55b01b74",
   "metadata": {},
   "outputs": [
    {
     "name": "stdout",
     "output_type": "stream",
     "text": [
      "[1, 2]\n",
      "[1, 2, 4]\n",
      "[1, 2, 4, 7]\n",
      "[1, 2, 4, 7, 11]\n",
      "[1, 2, 4, 7, 11, 16]\n",
      "[1, 2, 4, 7, 11, 16, 22]\n",
      "[1, 2, 4, 7, 11, 16, 22, 29]\n",
      "[1, 2, 4, 7, 11, 16, 22, 29, 37]\n",
      "[1, 2, 4, 7, 11, 16, 22, 29, 37, 46]\n",
      "End of series upto 10\n"
     ]
    }
   ],
   "source": [
    "listt=[1]\n",
    "\n",
    "while len(listt)<10:\n",
    "    listt.append(listt[-1]+len(listt))\n",
    "    print(listt)\n",
    "else:\n",
    "    print('End of series upto 10')"
   ]
  },
  {
   "cell_type": "code",
   "execution_count": 6,
   "id": "a38d8f4d",
   "metadata": {},
   "outputs": [],
   "source": [
    "d={'Apple': 'f', 'Carrot': 'v', 'Mango': 'f', 'Beetroot':'v'}"
   ]
  },
  {
   "cell_type": "code",
   "execution_count": 13,
   "id": "28b25fd2",
   "metadata": {},
   "outputs": [
    {
     "name": "stdout",
     "output_type": "stream",
     "text": [
      "Apple is a fruit\n",
      "Carrot is a fruit\n",
      "Mango is a fruit\n",
      "Beetroot is a fruit\n"
     ]
    }
   ],
   "source": [
    "for item, category in d.items():\n",
    "    if category=='v':\n",
    "        pass\n",
    "    print(f'{item} is a fruit')"
   ]
  },
  {
   "cell_type": "code",
   "execution_count": 16,
   "id": "197cfcf1",
   "metadata": {},
   "outputs": [
    {
     "name": "stdout",
     "output_type": "stream",
     "text": [
      "Apple is a fruit\n",
      "Mango is a fruit\n"
     ]
    }
   ],
   "source": [
    "for item, category in d.items():\n",
    "    if category=='v':\n",
    "        continue\n",
    "    print(f'{item} is a fruit')"
   ]
  },
  {
   "cell_type": "code",
   "execution_count": 15,
   "id": "e788de12",
   "metadata": {},
   "outputs": [
    {
     "name": "stdout",
     "output_type": "stream",
     "text": [
      "Apple is a fruit\n"
     ]
    }
   ],
   "source": [
    "for item, category in d.items():\n",
    "    if category=='v':\n",
    "        break\n",
    "    print(f'{item} is a fruit')"
   ]
  },
  {
   "cell_type": "markdown",
   "id": "13a23c0e",
   "metadata": {},
   "source": [
    "________________________________________________________________________________________"
   ]
  },
  {
   "cell_type": "markdown",
   "id": "ce43ed99",
   "metadata": {},
   "source": [
    "Operators"
   ]
  },
  {
   "cell_type": "code",
   "execution_count": 18,
   "id": "54fb3025",
   "metadata": {},
   "outputs": [
    {
     "name": "stdout",
     "output_type": "stream",
     "text": [
      "0\n",
      "2\n",
      "4\n",
      "6\n",
      "8\n"
     ]
    }
   ],
   "source": [
    "#range\n",
    "for num in range(0,10,2):\n",
    "    print(num)"
   ]
  },
  {
   "cell_type": "code",
   "execution_count": 19,
   "id": "ed927a00",
   "metadata": {},
   "outputs": [
    {
     "data": {
      "text/plain": [
       "range(0, 10, 2)"
      ]
     },
     "execution_count": 19,
     "metadata": {},
     "output_type": "execute_result"
    }
   ],
   "source": [
    "range(0,10,2)"
   ]
  },
  {
   "cell_type": "code",
   "execution_count": 20,
   "id": "4503d497",
   "metadata": {},
   "outputs": [
    {
     "data": {
      "text/plain": [
       "[0, 2, 4, 6, 8]"
      ]
     },
     "execution_count": 20,
     "metadata": {},
     "output_type": "execute_result"
    }
   ],
   "source": [
    "list(range(0,10,2))"
   ]
  },
  {
   "cell_type": "code",
   "execution_count": 22,
   "id": "493e4b2b",
   "metadata": {},
   "outputs": [
    {
     "name": "stdout",
     "output_type": "stream",
     "text": [
      "i in 'mississippi' is present in [1, 4, 7, 10] positions\n"
     ]
    }
   ],
   "source": [
    "#enumerate\n",
    "index_values=[]\n",
    "for index,letter in enumerate('mississippi'):\n",
    "    if letter=='i':\n",
    "        index_values.append(index)\n",
    "print(f\"i in 'mississippi' is present in {index_values} positions\")"
   ]
  },
  {
   "cell_type": "code",
   "execution_count": 23,
   "id": "c2f243fd",
   "metadata": {},
   "outputs": [
    {
     "name": "stdout",
     "output_type": "stream",
     "text": [
      "(1, 'a', 'pair1')\n",
      "(2, 'b', 'pair2')\n"
     ]
    }
   ],
   "source": [
    "#zip\n",
    "list1=[1,2,3,4,5]\n",
    "list2=['a','b','c']\n",
    "list3=['pair1', 'pair2']\n",
    "\n",
    "for item in zip(list1,list2,list3):\n",
    "    print(item)"
   ]
  },
  {
   "cell_type": "code",
   "execution_count": 24,
   "id": "843152d7",
   "metadata": {},
   "outputs": [
    {
     "data": {
      "text/plain": [
       "<zip at 0x7fbc5bf6e880>"
      ]
     },
     "execution_count": 24,
     "metadata": {},
     "output_type": "execute_result"
    }
   ],
   "source": [
    "zip(list1,list2,list3)"
   ]
  },
  {
   "cell_type": "code",
   "execution_count": 25,
   "id": "7a33bf43",
   "metadata": {},
   "outputs": [
    {
     "name": "stdout",
     "output_type": "stream",
     "text": [
      "<zip object at 0x7fbc59aaf080>\n"
     ]
    }
   ],
   "source": [
    "zipped=zip(list1,list2,list3)\n",
    "print(zipped)"
   ]
  },
  {
   "cell_type": "code",
   "execution_count": 26,
   "id": "0ea6f332",
   "metadata": {},
   "outputs": [
    {
     "name": "stdout",
     "output_type": "stream",
     "text": [
      "[(1, 'a', 'pair1'), (2, 'b', 'pair2')]\n"
     ]
    }
   ],
   "source": [
    "zipped=list(zip(list1,list2,list3))\n",
    "print(zipped)"
   ]
  },
  {
   "cell_type": "code",
   "execution_count": 27,
   "id": "b4737a11",
   "metadata": {},
   "outputs": [
    {
     "data": {
      "text/plain": [
       "True"
      ]
     },
     "execution_count": 27,
     "metadata": {},
     "output_type": "execute_result"
    }
   ],
   "source": [
    "#in \n",
    "'x' in ['x','y','z']"
   ]
  },
  {
   "cell_type": "code",
   "execution_count": 28,
   "id": "37d59249",
   "metadata": {},
   "outputs": [
    {
     "data": {
      "text/plain": [
       "False"
      ]
     },
     "execution_count": 28,
     "metadata": {},
     "output_type": "execute_result"
    }
   ],
   "source": [
    "2 in [10,20,30]"
   ]
  },
  {
   "cell_type": "code",
   "execution_count": 29,
   "id": "f44e5f91",
   "metadata": {},
   "outputs": [
    {
     "data": {
      "text/plain": [
       "True"
      ]
     },
     "execution_count": 29,
     "metadata": {},
     "output_type": "execute_result"
    }
   ],
   "source": [
    "'i' in 'mississippi'"
   ]
  },
  {
   "cell_type": "code",
   "execution_count": 30,
   "id": "c660dc6c",
   "metadata": {},
   "outputs": [
    {
     "data": {
      "text/plain": [
       "10"
      ]
     },
     "execution_count": 30,
     "metadata": {},
     "output_type": "execute_result"
    }
   ],
   "source": [
    "min([10,20,30])"
   ]
  },
  {
   "cell_type": "code",
   "execution_count": 31,
   "id": "08cf615a",
   "metadata": {},
   "outputs": [
    {
     "data": {
      "text/plain": [
       "30"
      ]
     },
     "execution_count": 31,
     "metadata": {},
     "output_type": "execute_result"
    }
   ],
   "source": [
    "max([10,20,30])"
   ]
  },
  {
   "cell_type": "code",
   "execution_count": 32,
   "id": "5fc18247",
   "metadata": {},
   "outputs": [
    {
     "data": {
      "text/plain": [
       "'z'"
      ]
     },
     "execution_count": 32,
     "metadata": {},
     "output_type": "execute_result"
    }
   ],
   "source": [
    "max(['a','b','z'])"
   ]
  },
  {
   "cell_type": "code",
   "execution_count": 33,
   "id": "4d5e4ec6",
   "metadata": {},
   "outputs": [],
   "source": [
    "#random library\n",
    "from random import shuffle"
   ]
  },
  {
   "cell_type": "code",
   "execution_count": 34,
   "id": "85a17870",
   "metadata": {},
   "outputs": [],
   "source": [
    "mylist=[1,2,3,4,5]"
   ]
  },
  {
   "cell_type": "code",
   "execution_count": 35,
   "id": "e966a578",
   "metadata": {},
   "outputs": [],
   "source": [
    "shuffle(mylist)"
   ]
  },
  {
   "cell_type": "code",
   "execution_count": 36,
   "id": "1fe75b79",
   "metadata": {},
   "outputs": [
    {
     "data": {
      "text/plain": [
       "[2, 4, 5, 3, 1]"
      ]
     },
     "execution_count": 36,
     "metadata": {},
     "output_type": "execute_result"
    }
   ],
   "source": [
    "mylist"
   ]
  },
  {
   "cell_type": "code",
   "execution_count": 37,
   "id": "bc4f662a",
   "metadata": {},
   "outputs": [
    {
     "name": "stdout",
     "output_type": "stream",
     "text": [
      "None\n"
     ]
    },
    {
     "data": {
      "text/plain": [
       "NoneType"
      ]
     },
     "execution_count": 37,
     "metadata": {},
     "output_type": "execute_result"
    }
   ],
   "source": [
    "shuffled_list=shuffle(mylist)\n",
    "print(shuffled_list)\n",
    "type(shuffled_list)"
   ]
  },
  {
   "cell_type": "code",
   "execution_count": 38,
   "id": "a25c2698",
   "metadata": {},
   "outputs": [
    {
     "name": "stdout",
     "output_type": "stream",
     "text": [
      "Name: Sumanth\n"
     ]
    }
   ],
   "source": [
    "name=input('Name: ')"
   ]
  },
  {
   "cell_type": "code",
   "execution_count": 39,
   "id": "ad312821",
   "metadata": {},
   "outputs": [
    {
     "data": {
      "text/plain": [
       "'Sumanth'"
      ]
     },
     "execution_count": 39,
     "metadata": {},
     "output_type": "execute_result"
    }
   ],
   "source": [
    "name"
   ]
  },
  {
   "cell_type": "code",
   "execution_count": 40,
   "id": "ca1801bd",
   "metadata": {},
   "outputs": [
    {
     "name": "stdout",
     "output_type": "stream",
     "text": [
      "Birthdate: 3\n"
     ]
    }
   ],
   "source": [
    "dob=input('Birthdate: ')"
   ]
  },
  {
   "cell_type": "code",
   "execution_count": 41,
   "id": "5fe4e305",
   "metadata": {},
   "outputs": [
    {
     "data": {
      "text/plain": [
       "str"
      ]
     },
     "execution_count": 41,
     "metadata": {},
     "output_type": "execute_result"
    }
   ],
   "source": [
    "type(dob)"
   ]
  },
  {
   "cell_type": "code",
   "execution_count": 42,
   "id": "df707eb9",
   "metadata": {},
   "outputs": [
    {
     "name": "stdout",
     "output_type": "stream",
     "text": [
      "Birthdate: 3\n"
     ]
    }
   ],
   "source": [
    "dob=int(input('Birthdate: '))"
   ]
  },
  {
   "cell_type": "code",
   "execution_count": 43,
   "id": "b4cc7a2c",
   "metadata": {},
   "outputs": [
    {
     "data": {
      "text/plain": [
       "int"
      ]
     },
     "execution_count": 43,
     "metadata": {},
     "output_type": "execute_result"
    }
   ],
   "source": [
    "type(dob)"
   ]
  },
  {
   "cell_type": "code",
   "execution_count": 46,
   "id": "abcacd9c",
   "metadata": {},
   "outputs": [
    {
     "data": {
      "text/plain": [
       "[1, 4, 7, 10]"
      ]
     },
     "execution_count": 46,
     "metadata": {},
     "output_type": "execute_result"
    }
   ],
   "source": [
    "mylist=[index for index,letter in enumerate('mississippi') if letter=='i']\n",
    "mylist"
   ]
  },
  {
   "cell_type": "code",
   "execution_count": 48,
   "id": "2bbe7d8e",
   "metadata": {},
   "outputs": [
    {
     "data": {
      "text/plain": [
       "['m', 'i', 's', 's', 'iiii', 's', 's', 'iiiiiii', 'p', 'p', 'iiiiiiiiii']"
      ]
     },
     "execution_count": 48,
     "metadata": {},
     "output_type": "execute_result"
    }
   ],
   "source": [
    "mylist=[letter if letter!='i' else 'i'*index for index,letter in enumerate('mississippi')]\n",
    "mylist"
   ]
  },
  {
   "cell_type": "code",
   "execution_count": 49,
   "id": "dfeaf09a",
   "metadata": {},
   "outputs": [
    {
     "data": {
      "text/plain": [
       "[2, 20, '1010', 3, 30, '101010', 5, 50, '1010101010']"
      ]
     },
     "execution_count": 49,
     "metadata": {},
     "output_type": "execute_result"
    }
   ],
   "source": [
    "mylist=[x*y for x in [2,3,5] for y in [1,10,'10']]\n",
    "mylist"
   ]
  },
  {
   "cell_type": "markdown",
   "id": "5be7827f",
   "metadata": {},
   "source": [
    "___"
   ]
  },
  {
   "cell_type": "code",
   "execution_count": 13,
   "id": "7b016d64",
   "metadata": {},
   "outputs": [
    {
     "name": "stdout",
     "output_type": "stream",
     "text": [
      "Enter your two inputs (seperated by space): 3 t\n",
      "3t\n",
      "Finally block will always be executed\n"
     ]
    }
   ],
   "source": [
    "#try except and finally\n",
    "a,b=input('Enter your two inputs (seperated by space): ').split()\n",
    "\n",
    "try:\n",
    "    print(int(a)+int(b))\n",
    "\n",
    "except ValueError:\n",
    "    print(str(a)+str(b))\n",
    "    \n",
    "finally:\n",
    "    print('Finally block will always be executed')"
   ]
  },
  {
   "cell_type": "code",
   "execution_count": 15,
   "id": "1bd079d4",
   "metadata": {},
   "outputs": [],
   "source": [
    "\n",
    "def get_inp():\n",
    "    while True:\n",
    "        try:\n",
    "            inp=int(input('\\nEnter the integer:'))\n",
    "        \n",
    "        except:\n",
    "            print('Input is not an integer, Please try again!')\n",
    "            continue\n",
    "            \n",
    "        else:\n",
    "            print('Integer accepted')\n",
    "            break\n",
    "            \n",
    "        finally:\n",
    "            print('This will get executed regardless of the error occured or not')"
   ]
  },
  {
   "cell_type": "code",
   "execution_count": 16,
   "id": "c891e04c",
   "metadata": {},
   "outputs": [
    {
     "name": "stdout",
     "output_type": "stream",
     "text": [
      "\n",
      "Enter the integer:erg\n",
      "Input is not an integer, Please try again!\n",
      "This will get executed regardless of the error occured or not\n",
      "\n",
      "Enter the integer:564\n",
      "Integer accepted\n",
      "This will get executed regardless of the error occured or not\n"
     ]
    }
   ],
   "source": [
    "get_inp()"
   ]
  },
  {
   "cell_type": "code",
   "execution_count": null,
   "id": "66745d97",
   "metadata": {},
   "outputs": [],
   "source": []
  }
 ],
 "metadata": {
  "kernelspec": {
   "display_name": "Python 3 (ipykernel)",
   "language": "python",
   "name": "python3"
  },
  "language_info": {
   "codemirror_mode": {
    "name": "ipython",
    "version": 3
   },
   "file_extension": ".py",
   "mimetype": "text/x-python",
   "name": "python",
   "nbconvert_exporter": "python",
   "pygments_lexer": "ipython3",
   "version": "3.11.7"
  }
 },
 "nbformat": 4,
 "nbformat_minor": 5
}
